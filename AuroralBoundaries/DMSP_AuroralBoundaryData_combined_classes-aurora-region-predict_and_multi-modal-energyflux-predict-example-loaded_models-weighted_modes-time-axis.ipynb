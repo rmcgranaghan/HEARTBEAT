{
 "cells": [
  {
   "cell_type": "code",
   "execution_count": null,
   "metadata": {},
   "outputs": [],
   "source": []
  },
  {
   "cell_type": "code",
   "execution_count": 47,
   "metadata": {},
   "outputs": [
    {
     "name": "stderr",
     "output_type": "stream",
     "text": [
      "/home/jackalak/.local/lib/python3.6/site-packages/tensorflow/python/client/session.py:1751: UserWarning: An interactive session is already active. This can cause out-of-memory errors in some cases. You must explicitly call `InteractiveSession.close()` to release resources held by the other session(s).\n",
      "  warnings.warn('An interactive session is already active. This can '\n"
     ]
    }
   ],
   "source": [
    "import pandas as pd\n",
    "import numpy as np\n",
    "import os\n",
    "import glob\n",
    "import datetime\n",
    "\n",
    "from tensorflow.compat.v1 import ConfigProto\n",
    "from tensorflow.compat.v1 import InteractiveSession\n",
    "\n",
    "config = ConfigProto()\n",
    "config.gpu_options.allow_growth = True\n",
    "session = InteractiveSession(config=config)\n",
    "import tensorflow\n",
    "\n",
    "# from tensorflow.compat.v1.keras.backend import get_session\n",
    "# tensorflow.compat.v1.disable_v2_behavior()\n",
    "# import shap\n",
    "\n",
    "import numpy as np\n",
    "from tensorflow.keras.models import Sequential\n",
    "from tensorflow.keras.layers import Dense, Conv2D, Flatten, Dropout\n",
    "from sklearn import preprocessing\n",
    "\n",
    "import tensorflow as tf\n",
    "\n",
    "import numpy as np\n",
    "import os\n",
    "import pandas as pd\n",
    "import seaborn as sns\n",
    "from pandas.plotting import register_matplotlib_converters\n",
    "register_matplotlib_converters()\n",
    "import datetime\n",
    "from os.path import isfile, join\n",
    "from sys import getsizeof\n",
    "import glob\n",
    "\n",
    "from random import *\n",
    "\n",
    "import matplotlib.pyplot as plt\n",
    "# plt.ion()\n",
    "%matplotlib widget\n",
    "\n",
    "#import mpld3\n",
    "#mpld3.enable_notebook()\n",
    "import numpy as np\n",
    "\n",
    "from sklearn.preprocessing import LabelEncoder\n",
    "from sklearn.preprocessing import OneHotEncoder"
   ]
  },
  {
   "cell_type": "code",
   "execution_count": null,
   "metadata": {
    "ExecuteTime": {
     "end_time": "2020-04-13T16:15:05.916031Z",
     "start_time": "2020-04-13T16:15:05.906959Z"
    }
   },
   "outputs": [],
   "source": []
  },
  {
   "cell_type": "markdown",
   "metadata": {
    "ExecuteTime": {
     "end_time": "2020-04-13T16:15:12.466090Z",
     "start_time": "2020-04-13T16:15:10.118125Z"
    }
   },
   "source": [
    "# Only using years 2010, 2011, 2012, 2013, and 2014 because of the auroral boundary database used only has those dates"
   ]
  },
  {
   "cell_type": "code",
   "execution_count": 48,
   "metadata": {
    "ExecuteTime": {
     "end_time": "2020-04-13T16:15:12.466090Z",
     "start_time": "2020-04-13T16:15:10.118125Z"
    }
   },
   "outputs": [],
   "source": [
    "file_load_df_cumulative = '../ParticlePrecipitation/ML_DB_subsamp_ext_full_dfCumulative_complexHemisphereCombine.csv'\n",
    "DMSP_DATA_DIR=''\n",
    "df_cumulative = pd.read_csv(os.path.join(DMSP_DATA_DIR,file_load_df_cumulative))\n",
    "df_cumulative = df_cumulative.sort_values(by=['ID_SC', 'Datetimes'])\n",
    "df_cumulative = df_cumulative.set_index('Datetimes')\n",
    "df_cumulative.index = pd.to_datetime(df_cumulative.index)\n",
    "\n",
    "cols_to_drop_validation = [c for c in df_cumulative.columns if ('STD' in c) | ('AVG' in c) | ('SC_AACGM_LTIME'==c)]\n",
    "# cols_to_drop_validation = [c for c in df.columns if ('1min' in c) | ('3min' in c) | ('4min' in c) | ('5min' in c) | ('15min' in c) | ('newell' in c) | ('STD' in c) | ('AVG' in c) | ('SC_AACGM_LTIME'==c)]\n",
    "\n",
    "df_cumulative = df_cumulative.drop(columns=cols_to_drop_validation)\n",
    "\n",
    "# Separate training and testing data\n",
    "mask_val = [(df_cumulative.index.year == 2010) & (df_cumulative['ID_SC'].values==16)]\n",
    "df_val = df_cumulative[mask_val[0]].copy(deep=True)\n",
    "df_train = df_cumulative.copy(deep=True).drop( df_cumulative.index[mask_val[0]])\n",
    "\n",
    "mask_for_2010_to_2014 = [(df_train.index.year == 2010) | (df_train.index.year == 2011)\n",
    "                         | (df_train.index.year == 2012) |(df_train.index.year == 2013)\n",
    "                         | (df_train.index.year == 2014)]\n",
    "df_train = df_train[mask_for_2010_to_2014[0]]\n",
    "df_train = df_train.sort_values(by=['ID_SC', 'Datetimes'])\n",
    "df_val = df_val.sort_values(by=['ID_SC', 'Datetimes'])"
   ]
  },
  {
   "cell_type": "code",
   "execution_count": 49,
   "metadata": {
    "ExecuteTime": {
     "end_time": "2020-04-13T16:15:12.466090Z",
     "start_time": "2020-04-13T16:15:10.118125Z"
    }
   },
   "outputs": [],
   "source": [
    "# Construct X and y\n",
    "feature_cols = [c for c in df_train.columns if not 'ELE' in c]\n",
    "#print( (feature_cols))\n",
    "#print(df_cumulative.columns)\n",
    "X_val = df_val[feature_cols].copy(deep=True)\n",
    "y_val = df_val['ELE_TOTAL_ENERGY_FLUX'].copy(deep=True)\n",
    "X_train = df_train[feature_cols].copy(deep=True)\n",
    "y_train = df_train['ELE_TOTAL_ENERGY_FLUX'].copy(deep=True)\n",
    "scaler_X = preprocessing.RobustScaler()\n",
    "scaler_X = scaler_X.fit(X_train.values)\n",
    "X_val_scaled = scaler_X.transform(X_val.values)\n",
    "X_train_scaled = scaler_X.transform(X_train.values)\n",
    "\n",
    "numFeatures = len(X_train.columns.to_list())\n",
    "feature_labels = X_train.columns.to_list()\n",
    "y_train_erg = y_train.copy(deep=True) * (1.60218e-12)\n",
    "y_val_erg = y_val.copy(deep=True) * (1.60218e-12)\n",
    "\n",
    "y_train[y_train == 0] = 0.0001\n",
    "y_val[y_val == 0] = 0.0001\n",
    "y_train_log = np.log10(y_train.copy(deep=True))\n",
    "y_val_log = np.log10(y_val.copy(deep=True))\n",
    "X = np.array(X_train_scaled, dtype=np.float32)\n",
    "X_test = np.array(X_val_scaled, dtype=np.float32)"
   ]
  },
  {
   "cell_type": "markdown",
   "metadata": {},
   "source": [
    "# First train without considering the auroral regions at all to get a baseline MSE accuracy"
   ]
  },
  {
   "cell_type": "code",
   "execution_count": 4,
   "metadata": {
    "scrolled": false
   },
   "outputs": [
    {
     "data": {
      "application/vnd.jupyter.widget-view+json": {
       "model_id": "92c60b4e8eae43819e96a4a9a2c54874",
       "version_major": 2,
       "version_minor": 0
      },
      "text/plain": [
       "Canvas(toolbar=Toolbar(toolitems=[('Home', 'Reset original view', 'home', 'home'), ('Back', 'Back to previous …"
      ]
     },
     "metadata": {},
     "output_type": "display_data"
    },
    {
     "data": {
      "application/vnd.jupyter.widget-view+json": {
       "model_id": "c277609659c94da4ad13b7e9fe5532b2",
       "version_major": 2,
       "version_minor": 0
      },
      "text/plain": [
       "Canvas(toolbar=Toolbar(toolitems=[('Home', 'Reset original view', 'home', 'home'), ('Back', 'Back to previous …"
      ]
     },
     "metadata": {},
     "output_type": "display_data"
    }
   ],
   "source": [
    "%matplotlib widget\n",
    "plt.figure()\n",
    "# summarize history for loss\n",
    "plt.hist(y_val_log.values)\n",
    "plt.show()\n",
    "\n",
    "plt.figure()\n",
    "# summarize history for loss\n",
    "plt.hist(y_train_log.values)\n",
    "plt.show()"
   ]
  },
  {
   "cell_type": "code",
   "execution_count": 5,
   "metadata": {
    "scrolled": true
   },
   "outputs": [],
   "source": [
    "# model = Sequential()\n",
    "\n",
    "# model.add(Dense(int(256), activation='relu'))\n",
    "# model.add(Dropout(.5))\n",
    "# model.add(Dense(64, activation='relu'))\n",
    "# model.add(Dense(16, activation='relu'))\n",
    "# model.add(Dense(1))\n",
    "\n",
    "\n",
    "# #compile model using accuracy to measure model performance\n",
    "# model.compile(loss='mse', optimizer='adam',  metrics=['mse'])\n",
    "\n",
    "# history = model.fit(X, np.array(y_train_log), validation_data=(X_test, np.array(y_val_log)),\n",
    "#                     batch_size=1024,epochs=1000)\n",
    "\n",
    "# plt.figure()\n",
    "# # summarize history for loss\n",
    "# plt.plot(history.history['val_loss'][200:])\n",
    "# plt.title('model loss')\n",
    "# plt.ylabel('loss')\n",
    "# plt.xlabel('epoch')\n",
    "# plt.legend(['train', 'test'], loc='upper left')\n",
    "# plt.show()"
   ]
  },
  {
   "cell_type": "code",
   "execution_count": 6,
   "metadata": {
    "scrolled": false
   },
   "outputs": [
    {
     "data": {
      "application/vnd.jupyter.widget-view+json": {
       "model_id": "43397ca64c6548d083270514aaff17b2",
       "version_major": 2,
       "version_minor": 0
      },
      "text/plain": [
       "Canvas(toolbar=Toolbar(toolitems=[('Home', 'Reset original view', 'home', 'home'), ('Back', 'Back to previous …"
      ]
     },
     "metadata": {},
     "output_type": "display_data"
    },
    {
     "data": {
      "application/vnd.jupyter.widget-view+json": {
       "model_id": "444d12cb4a7347259d864bc72da4406a",
       "version_major": 2,
       "version_minor": 0
      },
      "text/plain": [
       "Canvas(toolbar=Toolbar(toolitems=[('Home', 'Reset original view', 'home', 'home'), ('Back', 'Back to previous …"
      ]
     },
     "metadata": {},
     "output_type": "display_data"
    },
    {
     "data": {
      "application/vnd.jupyter.widget-view+json": {
       "model_id": "8ab37ab77a6749dd87f6247871f4033d",
       "version_major": 2,
       "version_minor": 0
      },
      "text/plain": [
       "Canvas(toolbar=Toolbar(toolitems=[('Home', 'Reset original view', 'home', 'home'), ('Back', 'Back to previous …"
      ]
     },
     "metadata": {},
     "output_type": "display_data"
    },
    {
     "data": {
      "application/vnd.jupyter.widget-view+json": {
       "model_id": "08e8d8f07d784f4aac097400e96b4ab9",
       "version_major": 2,
       "version_minor": 0
      },
      "text/plain": [
       "Canvas(toolbar=Toolbar(toolitems=[('Home', 'Reset original view', 'home', 'home'), ('Back', 'Back to previous …"
      ]
     },
     "metadata": {},
     "output_type": "display_data"
    },
    {
     "data": {
      "application/vnd.jupyter.widget-view+json": {
       "model_id": "29ccee9dddd44b0b879a06ed31b52d66",
       "version_major": 2,
       "version_minor": 0
      },
      "text/plain": [
       "Canvas(toolbar=Toolbar(toolitems=[('Home', 'Reset original view', 'home', 'home'), ('Back', 'Back to previous …"
      ]
     },
     "metadata": {},
     "output_type": "display_data"
    },
    {
     "data": {
      "application/vnd.jupyter.widget-view+json": {
       "model_id": "a8498374073b40c2a8b76bf95c2f7ec9",
       "version_major": 2,
       "version_minor": 0
      },
      "text/plain": [
       "Canvas(toolbar=Toolbar(toolitems=[('Home', 'Reset original view', 'home', 'home'), ('Back', 'Back to previous …"
      ]
     },
     "metadata": {},
     "output_type": "display_data"
    }
   ],
   "source": [
    "\n",
    "filename = 'best_base_line'\n",
    "\n",
    "# model.save(filename)\n",
    "model = tensorflow.keras.models.load_model(filename)\n",
    "\n",
    "results = model.predict(X_val_scaled)#, y_val_log.values)#, batch_size=128)\n",
    "\n",
    "df_results = pd.DataFrame(data=results, index = X_val.index)\n",
    "\n",
    "plt.figure()\n",
    "plt.plot(y_val_log[:500])\n",
    "plt.plot(df_results[:500])\n",
    "plt.legend(['val', 'result'], loc='upper left')\n",
    "plt.show()\n",
    "\n",
    "plt.figure()\n",
    "plt.plot(y_val_log[:5000])\n",
    "plt.plot(df_results[:5000])\n",
    "plt.legend(['val', 'result'], loc='upper left')\n",
    "plt.show()\n",
    "\n",
    "plt.figure()\n",
    "plt.plot(y_val_log[:])\n",
    "plt.plot(df_results[:])\n",
    "plt.legend(['val', 'result'], loc='upper left')\n",
    "plt.show()\n",
    "\n",
    "plt.figure()\n",
    "plt.plot(y_val_log[-500:])\n",
    "plt.plot(df_results[-500:])\n",
    "plt.legend(['val', 'result'], loc='upper left')\n",
    "plt.show()\n",
    "\n",
    "plt.figure()\n",
    "plt.plot(y_val_log[:])\n",
    "plt.plot(df_results[:])\n",
    "plt.legend(['val', 'result'], loc='upper left')\n",
    "plt.show()\n",
    "\n",
    "plt.figure()\n",
    "plt.plot(y_val_log[-500:])\n",
    "plt.plot(df_results[-500:])\n",
    "plt.legend(['val', 'result'], loc='upper left')\n",
    "plt.show()"
   ]
  },
  {
   "cell_type": "code",
   "execution_count": 7,
   "metadata": {},
   "outputs": [
    {
     "data": {
      "application/vnd.jupyter.widget-view+json": {
       "model_id": "584da415bd0e449db9918e26a8bb584e",
       "version_major": 2,
       "version_minor": 0
      },
      "text/plain": [
       "Canvas(toolbar=Toolbar(toolitems=[('Home', 'Reset original view', 'home', 'home'), ('Back', 'Back to previous …"
      ]
     },
     "metadata": {},
     "output_type": "display_data"
    },
    {
     "data": {
      "application/vnd.jupyter.widget-view+json": {
       "model_id": "6dc2055657914078afc3562f21608b6d",
       "version_major": 2,
       "version_minor": 0
      },
      "text/plain": [
       "Canvas(toolbar=Toolbar(toolitems=[('Home', 'Reset original view', 'home', 'home'), ('Back', 'Back to previous …"
      ]
     },
     "metadata": {},
     "output_type": "display_data"
    }
   ],
   "source": [
    "plt.figure()\n",
    "plt.plot(y_val_log[35:80])\n",
    "plt.plot(df_results[35:80])\n",
    "plt.legend(['true energy flux', 'predicted energy flux'], loc='upper left')\n",
    "plt.title('With out Auroral boundary estimator input')\n",
    "plt.show()\n",
    "\n",
    "plt.figure()\n",
    "plt.plot(X_val['SC_AACGM_LAT'][35:80])\n",
    "plt.legend(['MLat'], loc='upper left')\n",
    "plt.show()"
   ]
  },
  {
   "cell_type": "markdown",
   "metadata": {
    "scrolled": true
   },
   "source": [
    "# Read in the the auroral regions from a pickle file (constructed from auroral boundary transition points) "
   ]
  },
  {
   "cell_type": "code",
   "execution_count": 50,
   "metadata": {},
   "outputs": [],
   "source": [
    "\n",
    "df_val = pd.read_pickle(\"./with_aurora_type_val.pkl\")\n",
    "df_train = pd.read_pickle(\"./with_aurora_type_train.pkl\")\n"
   ]
  },
  {
   "cell_type": "code",
   "execution_count": 9,
   "metadata": {},
   "outputs": [
    {
     "data": {
      "text/plain": [
       "0.564933888788263"
      ]
     },
     "execution_count": 9,
     "metadata": {},
     "output_type": "execute_result"
    }
   ],
   "source": [
    "sum(df_val['aurora_type']==5)/df_val['aurora_type'].shape[0]"
   ]
  },
  {
   "cell_type": "code",
   "execution_count": 10,
   "metadata": {},
   "outputs": [
    {
     "data": {
      "text/plain": [
       "0.5490338676186004"
      ]
     },
     "execution_count": 10,
     "metadata": {},
     "output_type": "execute_result"
    }
   ],
   "source": [
    "sum(df_train['aurora_type']==5)/df_train['aurora_type'].shape[0]"
   ]
  },
  {
   "cell_type": "code",
   "execution_count": null,
   "metadata": {},
   "outputs": [],
   "source": []
  },
  {
   "cell_type": "markdown",
   "metadata": {},
   "source": [
    "# The boundary transition type regions can be reduced to 3 instead of 4 regions (plus unknown region 5), because going into the auroal region from the equatorial region or the polar region is the same for our intention of labeling just equatorial region, auroral, region, or polar region. \n",
    "\n",
    "# therefore type 4 is the same as type 1"
   ]
  },
  {
   "cell_type": "code",
   "execution_count": 51,
   "metadata": {},
   "outputs": [
    {
     "name": "stdout",
     "output_type": "stream",
     "text": [
      "equatorial 0.22883672092633456\n",
      "auroral 0.10463513594006918\n",
      "polar 0.11624617848203142\n",
      "unknown 0.564933888788263\n"
     ]
    }
   ],
   "source": [
    "df_val['aurora_type'][ df_val['aurora_type']==4 ]= 1\n",
    "df_train['aurora_type'][ df_train['aurora_type']==4 ]= 1\n",
    "\n",
    "print('equatorial', sum(df_train['aurora_type']==2)/df_train['aurora_type'].shape[0])\n",
    "print('auroral', sum(df_train['aurora_type']==1)/df_train['aurora_type'].shape[0])\n",
    "print('polar', sum(df_train['aurora_type']==3)/df_train['aurora_type'].shape[0])\n",
    "print('unknown', sum(df_val['aurora_type']==5)/df_val['aurora_type'].shape[0])"
   ]
  },
  {
   "cell_type": "code",
   "execution_count": 52,
   "metadata": {},
   "outputs": [],
   "source": [
    "\n",
    "mask = ( np.isnan(df_train['aurora_type'])==False )\n",
    "df_train_clean = df_train[mask].copy(deep=True)\n",
    "mask = ( np.isnan(df_val['aurora_type'])==False)\n",
    "df_val_clean = df_val[mask].copy(deep=True)"
   ]
  },
  {
   "cell_type": "code",
   "execution_count": 53,
   "metadata": {},
   "outputs": [],
   "source": [
    "\n",
    "# Construct X and y\n",
    "feature_cols = [c for c in df_train_clean.columns if not 'ELE' in c]\n",
    "#print( (feature_cols))\n",
    "#print(df_cumulative.columns)\n",
    "X_val = df_val_clean[feature_cols].copy(deep=True)\n",
    "y_val = df_val_clean['ELE_TOTAL_ENERGY_FLUX'].copy(deep=True)\n",
    "X_train = df_train_clean[feature_cols].copy(deep=True)\n",
    "y_train = df_train_clean['ELE_TOTAL_ENERGY_FLUX'].copy(deep=True)\n",
    "scaler_X = preprocessing.RobustScaler()\n",
    "scaler_X = scaler_X.fit(X_train.values)\n",
    "X_val_scaled = scaler_X.transform(X_val.values)\n",
    "X_train_scaled = scaler_X.transform(X_train.values)\n",
    "\n",
    "numFeatures = len(X_train.columns.to_list())\n",
    "feature_labels = X_train.columns.to_list()\n",
    "y_train_erg = y_train.copy(deep=True) * (1.60218e-12)\n",
    "y_val_erg = y_val.copy(deep=True) * (1.60218e-12)\n",
    "\n",
    "y_train[y_train == 0] = 0.0001\n",
    "y_val[y_val == 0] = 0.0001\n",
    "y_train_log = np.log10(y_train.copy(deep=True))\n",
    "y_val_log = np.log10(y_val.copy(deep=True))\n",
    "\n",
    "X = np.array(X_train_scaled, dtype=np.float32)\n",
    "X_test = np.array(X_val_scaled, dtype=np.float32)\n",
    "\n",
    "Y = np.array(y_train_log, dtype=np.float32)\n"
   ]
  },
  {
   "cell_type": "code",
   "execution_count": 14,
   "metadata": {},
   "outputs": [],
   "source": [
    "X_train_no_aurora_type = X_train.drop(columns='aurora_type')\n",
    "X_val_no_aurora_type = X_val.drop(columns='aurora_type')\n",
    "scaler_X = scaler_X.fit(X_train_no_aurora_type.values)\n",
    "X_val_no_aurora_type_scaled = scaler_X.transform(X_val_no_aurora_type.values)\n",
    "X_train_no_aurora_type_scaled = scaler_X.transform(X_train_no_aurora_type.values)\n",
    "\n",
    "y_train_aurora_type = X_train['aurora_type']\n",
    "y_val_aurora_type = X_val['aurora_type']"
   ]
  },
  {
   "cell_type": "code",
   "execution_count": 54,
   "metadata": {},
   "outputs": [
    {
     "name": "stdout",
     "output_type": "stream",
     "text": [
      "(324651,)\n",
      "(324651,)\n",
      "(324651, 148)\n",
      "(324651,)\n",
      "(324651, 3)\n"
     ]
    }
   ],
   "source": [
    "\n",
    "label_encoder = LabelEncoder()\n",
    "onehot_encoder = OneHotEncoder(sparse=False)\n",
    "\n",
    "integer_encoded = label_encoder.fit_transform(y_train_aurora_type)\n",
    "print(integer_encoded.shape)\n",
    "\n",
    "integer_encoded_train = integer_encoded.reshape(len(integer_encoded), 1)\n",
    "print(integer_encoded.shape)\n",
    "\n",
    "y_train_aurora_type_encoded = onehot_encoder.fit_transform(integer_encoded_train)\n",
    "integer_encoded = label_encoder.fit_transform(y_val_aurora_type)\n",
    "integer_encoded_val = integer_encoded.reshape(len(integer_encoded), 1)\n",
    "y_val_aurora_type_encoded = onehot_encoder.fit_transform(integer_encoded_val)\n",
    "\n",
    "print(X_train_no_aurora_type_scaled.shape)\n",
    "\n",
    "print(y_train_aurora_type.shape)\n",
    "print(y_train_aurora_type_encoded.shape)"
   ]
  },
  {
   "cell_type": "code",
   "execution_count": 55,
   "metadata": {},
   "outputs": [
    {
     "name": "stdout",
     "output_type": "stream",
     "text": [
      "False\n",
      "(23848, 148)\n",
      "(324651,)\n",
      "(324651,)\n",
      "(324651, 148)\n",
      "(324651,)\n",
      "(324651, 3)\n",
      "equatorial 0.22883672092633456\n",
      "auroral 0.10463513594006918\n",
      "polar 0.11624617848203142\n"
     ]
    },
    {
     "data": {
      "application/vnd.jupyter.widget-view+json": {
       "model_id": "2c4c3fa9dea94525b45908ac7f358b3a",
       "version_major": 2,
       "version_minor": 0
      },
      "text/plain": [
       "Canvas(toolbar=Toolbar(toolitems=[('Home', 'Reset original view', 'home', 'home'), ('Back', 'Back to previous …"
      ]
     },
     "metadata": {},
     "output_type": "display_data"
    }
   ],
   "source": [
    "\n",
    "mask = [ (np.isnan(df_train['aurora_type'])==False) & (df_train['aurora_type'] != 5 ) ]\n",
    "df_train_clean = df_train[mask[0]].copy(deep=True)\n",
    "print((mask[0].any())==False)\n",
    "mask = [ (np.isnan(df_val['aurora_type'])==False) & (df_val['aurora_type'] != 5 ) ]\n",
    "df_val_clean = df_val[mask[0]].copy(deep=True)\n",
    "\n",
    "\n",
    "\n",
    "# Construct X and y\n",
    "feature_cols = [c for c in df_train_clean.columns if not 'ELE' in c]\n",
    "from sklearn import preprocessing\n",
    "X_val = df_val_clean[feature_cols].copy(deep=True)\n",
    "y_val = df_val_clean['ELE_TOTAL_ENERGY_FLUX'].copy(deep=True)\n",
    "X_train = df_train_clean[feature_cols].copy(deep=True)\n",
    "y_train = df_train_clean['ELE_TOTAL_ENERGY_FLUX'].copy(deep=True)\n",
    "scaler_X = preprocessing.RobustScaler()\n",
    "scaler_X = scaler_X.fit(X_train.values)\n",
    "X_val_scaled = scaler_X.transform(X_val.values)\n",
    "X_train_scaled = scaler_X.transform(X_train.values)\n",
    "\n",
    "numFeatures = len(X_train.columns.to_list())\n",
    "feature_labels = X_train.columns.to_list()\n",
    "y_train_erg = y_train.copy(deep=True) * (1.60218e-12)\n",
    "y_val_erg = y_val.copy(deep=True) * (1.60218e-12)\n",
    "\n",
    "y_train[y_train == 0] = 0.0001\n",
    "y_val[y_val == 0] = 0.0001\n",
    "y_train_log = np.log10(y_train.copy(deep=True))\n",
    "y_val_log = np.log10(y_val.copy(deep=True))\n",
    "\n",
    "\n",
    "X = np.array(X_train_scaled, dtype=np.float32)\n",
    "X_test = np.array(X_val_scaled, dtype=np.float32)\n",
    "\n",
    "Y = np.array(y_train_log, dtype=np.float32)\n",
    "\n",
    "X_train_no_aurora_type = X_train.drop(columns='aurora_type')\n",
    "X_val_no_aurora_type = X_val.drop(columns='aurora_type')\n",
    "scaler_X = scaler_X.fit(X_train_no_aurora_type.values)\n",
    "X_val_no_aurora_type_scaled = scaler_X.transform(X_val_no_aurora_type.values)\n",
    "print(X_val_no_aurora_type_scaled.shape)\n",
    "X_train_no_aurora_type_scaled = scaler_X.transform(X_train_no_aurora_type.values)\n",
    "\n",
    "y_train_aurora_type = X_train['aurora_type']\n",
    "y_val_aurora_type = X_val['aurora_type']\n",
    "\n",
    "label_encoder = LabelEncoder()\n",
    "onehot_encoder = OneHotEncoder(sparse=False)\n",
    "\n",
    "integer_encoded = label_encoder.fit_transform(y_train_aurora_type)\n",
    "print(integer_encoded.shape)\n",
    "\n",
    "integer_encoded_train = integer_encoded.reshape(len(integer_encoded), 1)\n",
    "print(integer_encoded.shape)\n",
    "\n",
    "y_train_aurora_type_encoded = onehot_encoder.fit_transform(integer_encoded_train)\n",
    "integer_encoded = label_encoder.fit_transform(y_val_aurora_type)\n",
    "integer_encoded_val = integer_encoded.reshape(len(integer_encoded), 1)\n",
    "y_val_aurora_type_encoded = onehot_encoder.fit_transform(integer_encoded_val)\n",
    "\n",
    "print(X_train_no_aurora_type_scaled.shape)\n",
    "\n",
    "print(y_train_aurora_type.shape)\n",
    "print(y_train_aurora_type_encoded.shape)\n",
    "\n",
    "sum(df_val_clean['aurora_type']==2)/df_val_clean.shape[0]\n",
    "sum(df_train_clean['aurora_type']==2)/df_train_clean.shape[0]\n",
    "\n",
    "print('equatorial', sum(df_train['aurora_type']==2)/df_train['aurora_type'].shape[0])\n",
    "print('auroral', sum(df_train['aurora_type']==1)/df_train['aurora_type'].shape[0])\n",
    "print('polar', sum(df_train['aurora_type']==3)/df_train['aurora_type'].shape[0])\n",
    "\n",
    "plt.hist(y_val_aurora_type)\n",
    "plt.show()\n",
    "plt.hist(y_train_aurora_type)\n",
    "plt.show()"
   ]
  },
  {
   "cell_type": "code",
   "execution_count": 17,
   "metadata": {},
   "outputs": [],
   "source": [
    "# model = Sequential()\n",
    "\n",
    "# model.add(Dense(int(256), activation='relu'))\n",
    "# model.add(Dropout(.5))\n",
    "\n",
    "# model.add(Dense(64, activation='relu'))\n",
    "# model.add(Dense(16, activation='relu'))\n",
    "# model.add(Dense(3,activation='softmax'))\n",
    "\n",
    "# #compile model using accuracy to measure model performance\n",
    "# model.compile(loss=tf.keras.losses.CategoricalCrossentropy(from_logits=False), optimizer='adam',  metrics=['accuracy'])\n",
    "\n",
    "# history = model.fit(X_train_no_aurora_type_scaled, y_train_aurora_type_encoded, validation_data=(X_val_no_aurora_type_scaled, y_val_aurora_type_encoded), batch_size=32,epochs=75)"
   ]
  },
  {
   "cell_type": "code",
   "execution_count": 18,
   "metadata": {},
   "outputs": [],
   "source": [
    "# filename = 'best_auroral_region_predictor'\n",
    "\n",
    "# # model = tensorflow.keras.models.load_model(filename)\n",
    "# model.save(filename)\n",
    "# model.save_weights('best_auroral_region_predictor_weights.h5')"
   ]
  },
  {
   "cell_type": "code",
   "execution_count": 19,
   "metadata": {},
   "outputs": [
    {
     "name": "stdout",
     "output_type": "stream",
     "text": [
      "746/746 [==============================] - 1s 1ms/step - loss: 0.1872 - accuracy: 0.9190\n"
     ]
    },
    {
     "name": "stderr",
     "output_type": "stream",
     "text": [
      "WARNING: Logging before flag parsing goes to stderr.\n",
      "W0720 20:16:58.139238 139775792006976 deprecation.py:323] From <ipython-input-19-517d4edcdd71>:9: Sequential.predict_classes (from tensorflow.python.keras.engine.sequential) is deprecated and will be removed after 2021-01-01.\n",
      "Instructions for updating:\n",
      "Please use instead:* `np.argmax(model.predict(x), axis=-1)`,   if your model does multi-class classification   (e.g. if it uses a `softmax` last-layer activation).* `(model.predict(x) > 0.5).astype(\"int32\")`,   if your model does binary classification   (e.g. if it uses a `sigmoid` last-layer activation).\n"
     ]
    },
    {
     "data": {
      "application/vnd.jupyter.widget-view+json": {
       "model_id": "5e313de467b54236a6eea5475c9cef38",
       "version_major": 2,
       "version_minor": 0
      },
      "text/plain": [
       "Canvas(toolbar=Toolbar(toolitems=[('Home', 'Reset original view', 'home', 'home'), ('Back', 'Back to previous …"
      ]
     },
     "metadata": {},
     "output_type": "display_data"
    },
    {
     "data": {
      "application/vnd.jupyter.widget-view+json": {
       "model_id": "a9f8d51c30964b13803a2c6fb0170b25",
       "version_major": 2,
       "version_minor": 0
      },
      "text/plain": [
       "Canvas(toolbar=Toolbar(toolitems=[('Home', 'Reset original view', 'home', 'home'), ('Back', 'Back to previous …"
      ]
     },
     "metadata": {},
     "output_type": "display_data"
    }
   ],
   "source": [
    "filename = 'best_auroral_region_predictor'\n",
    "\n",
    "model = tensorflow.keras.models.load_model(filename)\n",
    "# model.save(filename)\n",
    "# model.save_weights('best_auroral_region_predictor_weights.h5')\n",
    "\n",
    "model.evaluate(X_val_no_aurora_type_scaled, y_val_aurora_type_encoded)\n",
    "\n",
    "results = (model.predict_classes(X_val_no_aurora_type_scaled))#, y_val_log.values)#, batch_size=128)\n",
    "\n",
    "df_results = pd.DataFrame(data=results, index = X_val.index)\n",
    "val = pd.DataFrame(data=integer_encoded_val, index = X_val.index)\n",
    "# plt.figure()\n",
    "\n",
    "# plt.plot( integer_encoded_val[:3000])\n",
    "# plt.plot(results[:3000])\n",
    "# plt.show()\n",
    "plt.figure()\n",
    "\n",
    "plt.plot( val[:100])\n",
    "plt.plot(df_results[:100])\n",
    "plt.show()\n",
    "\n",
    "plt.figure()\n",
    "\n",
    "plt.plot( val[:500])\n",
    "plt.plot(df_results[:500])\n",
    "plt.show()"
   ]
  },
  {
   "cell_type": "markdown",
   "metadata": {},
   "source": [
    "# Now use this Auroal region predictor model to predict what type the \"unknown/unspecified\" regions are.  Then combine this predicted data with the known training and test data"
   ]
  },
  {
   "cell_type": "code",
   "execution_count": 56,
   "metadata": {},
   "outputs": [
    {
     "name": "stdout",
     "output_type": "stream",
     "text": [
      "False\n",
      "(397248, 150)\n",
      "(31362, 150)\n"
     ]
    }
   ],
   "source": [
    " \n",
    "mask = [ (np.isnan(df_train['aurora_type'])==True) | (df_train['aurora_type'] == 5 ) ]\n",
    "df_train_pred = df_train[mask[0]].copy(deep=True)\n",
    "print((mask[0].any())==False)\n",
    "mask = [ (np.isnan(df_val['aurora_type'])==True) | (df_val['aurora_type'] == 5 ) ]\n",
    "df_val_pred = df_val[mask[0]].copy(deep=True)\n",
    "print(df_train_pred.shape)\n",
    "print(df_val_pred.shape)"
   ]
  },
  {
   "cell_type": "code",
   "execution_count": 57,
   "metadata": {},
   "outputs": [
    {
     "name": "stdout",
     "output_type": "stream",
     "text": [
      "(397248, 148)\n"
     ]
    }
   ],
   "source": [
    "# Construct X and y\n",
    "feature_cols = [c for c in df_train_pred.columns if (not ( 'ELE' in c) | ('aurora_type' in c))]\n",
    "X_train = df_train_pred[feature_cols].copy(deep=True)\n",
    "X_val = df_val_pred[feature_cols].copy(deep=True)\n",
    "print(X_train.shape)\n",
    "scaler_X = preprocessing.RobustScaler()\n",
    "scaler_X = scaler_X.fit(X_train.values)\n",
    "X_val_scaled = scaler_X.transform(X_val.values)\n",
    "X_train_scaled = scaler_X.transform(X_train.values)\n",
    "X = np.array(X_train_scaled, dtype=np.float32)\n",
    "X_test = np.array(X_val_scaled, dtype=np.float32)\n",
    "#scaler_X = scaler_X.fit(X_train_no_aurora_type.values)\n",
    "\n"
   ]
  },
  {
   "cell_type": "code",
   "execution_count": 58,
   "metadata": {},
   "outputs": [
    {
     "name": "stdout",
     "output_type": "stream",
     "text": [
      "(397248, 148)\n"
     ]
    },
    {
     "ename": "ValueError",
     "evalue": "in user code:\n\n    /home/jackalak/.local/lib/python3.6/site-packages/tensorflow/python/keras/engine/training.py:1147 predict_function  *\n        outputs = self.distribute_strategy.run(\n    /home/jackalak/.local/lib/python3.6/site-packages/tensorflow/python/distribute/distribute_lib.py:951 run  **\n        return self._extended.call_for_each_replica(fn, args=args, kwargs=kwargs)\n    /home/jackalak/.local/lib/python3.6/site-packages/tensorflow/python/distribute/distribute_lib.py:2290 call_for_each_replica\n        return self._call_for_each_replica(fn, args, kwargs)\n    /home/jackalak/.local/lib/python3.6/site-packages/tensorflow/python/distribute/distribute_lib.py:2649 _call_for_each_replica\n        return fn(*args, **kwargs)\n    /home/jackalak/.local/lib/python3.6/site-packages/tensorflow/python/keras/engine/training.py:1122 predict_step  **\n        return self(x, training=False)\n    /home/jackalak/.local/lib/python3.6/site-packages/tensorflow/python/keras/engine/base_layer.py:886 __call__\n        self.name)\n    /home/jackalak/.local/lib/python3.6/site-packages/tensorflow/python/keras/engine/input_spec.py:216 assert_input_compatibility\n        ' but received input with shape ' + str(shape))\n\n    ValueError: Input 0 of layer sequential_1 is incompatible with the layer: expected axis -1 of input shape to have value 149 but received input with shape [None, 148]\n",
     "output_type": "error",
     "traceback": [
      "\u001b[0;31m---------------------------------------------------------------------------\u001b[0m",
      "\u001b[0;31mValueError\u001b[0m                                Traceback (most recent call last)",
      "\u001b[0;32m<ipython-input-58-7380377a1680>\u001b[0m in \u001b[0;36m<module>\u001b[0;34m\u001b[0m\n\u001b[1;32m      1\u001b[0m \u001b[0mprint\u001b[0m\u001b[0;34m(\u001b[0m\u001b[0mX\u001b[0m\u001b[0;34m.\u001b[0m\u001b[0mshape\u001b[0m\u001b[0;34m)\u001b[0m\u001b[0;34m\u001b[0m\u001b[0;34m\u001b[0m\u001b[0m\n\u001b[1;32m      2\u001b[0m \u001b[0;34m\u001b[0m\u001b[0m\n\u001b[0;32m----> 3\u001b[0;31m \u001b[0mprint\u001b[0m\u001b[0;34m(\u001b[0m\u001b[0;34m(\u001b[0m\u001b[0mmodel\u001b[0m\u001b[0;34m.\u001b[0m\u001b[0mpredict_classes\u001b[0m\u001b[0;34m(\u001b[0m\u001b[0mX_train_no_aurora_type_scaled\u001b[0m\u001b[0;34m)\u001b[0m\u001b[0;34m)\u001b[0m\u001b[0;34m.\u001b[0m\u001b[0mshape\u001b[0m\u001b[0;34m)\u001b[0m\u001b[0;34m\u001b[0m\u001b[0;34m\u001b[0m\u001b[0m\n\u001b[0m\u001b[1;32m      4\u001b[0m \u001b[0mprint\u001b[0m\u001b[0;34m(\u001b[0m\u001b[0mdf_train_pred\u001b[0m\u001b[0;34m.\u001b[0m\u001b[0mshape\u001b[0m\u001b[0;34m)\u001b[0m\u001b[0;34m\u001b[0m\u001b[0;34m\u001b[0m\u001b[0m\n\u001b[1;32m      5\u001b[0m \u001b[0;34m\u001b[0m\u001b[0m\n",
      "\u001b[0;32m~/.local/lib/python3.6/site-packages/tensorflow/python/util/deprecation.py\u001b[0m in \u001b[0;36mnew_func\u001b[0;34m(*args, **kwargs)\u001b[0m\n\u001b[1;32m    322\u001b[0m               \u001b[0;34m'in a future version'\u001b[0m \u001b[0;32mif\u001b[0m \u001b[0mdate\u001b[0m \u001b[0;32mis\u001b[0m \u001b[0;32mNone\u001b[0m \u001b[0;32melse\u001b[0m \u001b[0;34m(\u001b[0m\u001b[0;34m'after %s'\u001b[0m \u001b[0;34m%\u001b[0m \u001b[0mdate\u001b[0m\u001b[0;34m)\u001b[0m\u001b[0;34m,\u001b[0m\u001b[0;34m\u001b[0m\u001b[0;34m\u001b[0m\u001b[0m\n\u001b[1;32m    323\u001b[0m               instructions)\n\u001b[0;32m--> 324\u001b[0;31m       \u001b[0;32mreturn\u001b[0m \u001b[0mfunc\u001b[0m\u001b[0;34m(\u001b[0m\u001b[0;34m*\u001b[0m\u001b[0margs\u001b[0m\u001b[0;34m,\u001b[0m \u001b[0;34m**\u001b[0m\u001b[0mkwargs\u001b[0m\u001b[0;34m)\u001b[0m\u001b[0;34m\u001b[0m\u001b[0;34m\u001b[0m\u001b[0m\n\u001b[0m\u001b[1;32m    325\u001b[0m     return tf_decorator.make_decorator(\n\u001b[1;32m    326\u001b[0m         \u001b[0mfunc\u001b[0m\u001b[0;34m,\u001b[0m \u001b[0mnew_func\u001b[0m\u001b[0;34m,\u001b[0m \u001b[0;34m'deprecated'\u001b[0m\u001b[0;34m,\u001b[0m\u001b[0;34m\u001b[0m\u001b[0;34m\u001b[0m\u001b[0m\n",
      "\u001b[0;32m~/.local/lib/python3.6/site-packages/tensorflow/python/keras/engine/sequential.py\u001b[0m in \u001b[0;36mpredict_classes\u001b[0;34m(self, x, batch_size, verbose)\u001b[0m\n\u001b[1;32m    357\u001b[0m         \u001b[0mA\u001b[0m \u001b[0mnumpy\u001b[0m \u001b[0marray\u001b[0m \u001b[0mof\u001b[0m \u001b[0;32mclass\u001b[0m \u001b[0mpredictions\u001b[0m\u001b[0;34m.\u001b[0m\u001b[0;34m\u001b[0m\u001b[0;34m\u001b[0m\u001b[0m\n\u001b[1;32m    358\u001b[0m     \"\"\"\n\u001b[0;32m--> 359\u001b[0;31m     \u001b[0mproba\u001b[0m \u001b[0;34m=\u001b[0m \u001b[0mself\u001b[0m\u001b[0;34m.\u001b[0m\u001b[0mpredict\u001b[0m\u001b[0;34m(\u001b[0m\u001b[0mx\u001b[0m\u001b[0;34m,\u001b[0m \u001b[0mbatch_size\u001b[0m\u001b[0;34m=\u001b[0m\u001b[0mbatch_size\u001b[0m\u001b[0;34m,\u001b[0m \u001b[0mverbose\u001b[0m\u001b[0;34m=\u001b[0m\u001b[0mverbose\u001b[0m\u001b[0;34m)\u001b[0m\u001b[0;34m\u001b[0m\u001b[0;34m\u001b[0m\u001b[0m\n\u001b[0m\u001b[1;32m    360\u001b[0m     \u001b[0;32mif\u001b[0m \u001b[0mproba\u001b[0m\u001b[0;34m.\u001b[0m\u001b[0mshape\u001b[0m\u001b[0;34m[\u001b[0m\u001b[0;34m-\u001b[0m\u001b[0;36m1\u001b[0m\u001b[0;34m]\u001b[0m \u001b[0;34m>\u001b[0m \u001b[0;36m1\u001b[0m\u001b[0;34m:\u001b[0m\u001b[0;34m\u001b[0m\u001b[0;34m\u001b[0m\u001b[0m\n\u001b[1;32m    361\u001b[0m       \u001b[0;32mreturn\u001b[0m \u001b[0mproba\u001b[0m\u001b[0;34m.\u001b[0m\u001b[0margmax\u001b[0m\u001b[0;34m(\u001b[0m\u001b[0maxis\u001b[0m\u001b[0;34m=\u001b[0m\u001b[0;34m-\u001b[0m\u001b[0;36m1\u001b[0m\u001b[0;34m)\u001b[0m\u001b[0;34m\u001b[0m\u001b[0;34m\u001b[0m\u001b[0m\n",
      "\u001b[0;32m~/.local/lib/python3.6/site-packages/tensorflow/python/keras/engine/training.py\u001b[0m in \u001b[0;36m_method_wrapper\u001b[0;34m(self, *args, **kwargs)\u001b[0m\n\u001b[1;32m     86\u001b[0m       raise ValueError('{} is not supported in multi-worker mode.'.format(\n\u001b[1;32m     87\u001b[0m           method.__name__))\n\u001b[0;32m---> 88\u001b[0;31m     \u001b[0;32mreturn\u001b[0m \u001b[0mmethod\u001b[0m\u001b[0;34m(\u001b[0m\u001b[0mself\u001b[0m\u001b[0;34m,\u001b[0m \u001b[0;34m*\u001b[0m\u001b[0margs\u001b[0m\u001b[0;34m,\u001b[0m \u001b[0;34m**\u001b[0m\u001b[0mkwargs\u001b[0m\u001b[0;34m)\u001b[0m\u001b[0;34m\u001b[0m\u001b[0;34m\u001b[0m\u001b[0m\n\u001b[0m\u001b[1;32m     89\u001b[0m \u001b[0;34m\u001b[0m\u001b[0m\n\u001b[1;32m     90\u001b[0m   return tf_decorator.make_decorator(\n",
      "\u001b[0;32m~/.local/lib/python3.6/site-packages/tensorflow/python/keras/engine/training.py\u001b[0m in \u001b[0;36mpredict\u001b[0;34m(self, x, batch_size, verbose, steps, callbacks, max_queue_size, workers, use_multiprocessing)\u001b[0m\n\u001b[1;32m   1266\u001b[0m           \u001b[0;32mfor\u001b[0m \u001b[0mstep\u001b[0m \u001b[0;32min\u001b[0m \u001b[0mdata_handler\u001b[0m\u001b[0;34m.\u001b[0m\u001b[0msteps\u001b[0m\u001b[0;34m(\u001b[0m\u001b[0;34m)\u001b[0m\u001b[0;34m:\u001b[0m\u001b[0;34m\u001b[0m\u001b[0;34m\u001b[0m\u001b[0m\n\u001b[1;32m   1267\u001b[0m             \u001b[0mcallbacks\u001b[0m\u001b[0;34m.\u001b[0m\u001b[0mon_predict_batch_begin\u001b[0m\u001b[0;34m(\u001b[0m\u001b[0mstep\u001b[0m\u001b[0;34m)\u001b[0m\u001b[0;34m\u001b[0m\u001b[0;34m\u001b[0m\u001b[0m\n\u001b[0;32m-> 1268\u001b[0;31m             \u001b[0mtmp_batch_outputs\u001b[0m \u001b[0;34m=\u001b[0m \u001b[0mpredict_function\u001b[0m\u001b[0;34m(\u001b[0m\u001b[0miterator\u001b[0m\u001b[0;34m)\u001b[0m\u001b[0;34m\u001b[0m\u001b[0;34m\u001b[0m\u001b[0m\n\u001b[0m\u001b[1;32m   1269\u001b[0m             \u001b[0;31m# Catch OutOfRangeError for Datasets of unknown size.\u001b[0m\u001b[0;34m\u001b[0m\u001b[0;34m\u001b[0m\u001b[0;34m\u001b[0m\u001b[0m\n\u001b[1;32m   1270\u001b[0m             \u001b[0;31m# This blocks until the batch has finished executing.\u001b[0m\u001b[0;34m\u001b[0m\u001b[0;34m\u001b[0m\u001b[0;34m\u001b[0m\u001b[0m\n",
      "\u001b[0;32m~/.local/lib/python3.6/site-packages/tensorflow/python/eager/def_function.py\u001b[0m in \u001b[0;36m__call__\u001b[0;34m(self, *args, **kwds)\u001b[0m\n\u001b[1;32m    578\u001b[0m         \u001b[0mxla_context\u001b[0m\u001b[0;34m.\u001b[0m\u001b[0mExit\u001b[0m\u001b[0;34m(\u001b[0m\u001b[0;34m)\u001b[0m\u001b[0;34m\u001b[0m\u001b[0;34m\u001b[0m\u001b[0m\n\u001b[1;32m    579\u001b[0m     \u001b[0;32melse\u001b[0m\u001b[0;34m:\u001b[0m\u001b[0;34m\u001b[0m\u001b[0;34m\u001b[0m\u001b[0m\n\u001b[0;32m--> 580\u001b[0;31m       \u001b[0mresult\u001b[0m \u001b[0;34m=\u001b[0m \u001b[0mself\u001b[0m\u001b[0;34m.\u001b[0m\u001b[0m_call\u001b[0m\u001b[0;34m(\u001b[0m\u001b[0;34m*\u001b[0m\u001b[0margs\u001b[0m\u001b[0;34m,\u001b[0m \u001b[0;34m**\u001b[0m\u001b[0mkwds\u001b[0m\u001b[0;34m)\u001b[0m\u001b[0;34m\u001b[0m\u001b[0;34m\u001b[0m\u001b[0m\n\u001b[0m\u001b[1;32m    581\u001b[0m \u001b[0;34m\u001b[0m\u001b[0m\n\u001b[1;32m    582\u001b[0m     \u001b[0;32mif\u001b[0m \u001b[0mtracing_count\u001b[0m \u001b[0;34m==\u001b[0m \u001b[0mself\u001b[0m\u001b[0;34m.\u001b[0m\u001b[0m_get_tracing_count\u001b[0m\u001b[0;34m(\u001b[0m\u001b[0;34m)\u001b[0m\u001b[0;34m:\u001b[0m\u001b[0;34m\u001b[0m\u001b[0;34m\u001b[0m\u001b[0m\n",
      "\u001b[0;32m~/.local/lib/python3.6/site-packages/tensorflow/python/eager/def_function.py\u001b[0m in \u001b[0;36m_call\u001b[0;34m(self, *args, **kwds)\u001b[0m\n\u001b[1;32m    616\u001b[0m       \u001b[0;31m# In this case we have not created variables on the first call. So we can\u001b[0m\u001b[0;34m\u001b[0m\u001b[0;34m\u001b[0m\u001b[0;34m\u001b[0m\u001b[0m\n\u001b[1;32m    617\u001b[0m       \u001b[0;31m# run the first trace but we should fail if variables are created.\u001b[0m\u001b[0;34m\u001b[0m\u001b[0;34m\u001b[0m\u001b[0;34m\u001b[0m\u001b[0m\n\u001b[0;32m--> 618\u001b[0;31m       \u001b[0mresults\u001b[0m \u001b[0;34m=\u001b[0m \u001b[0mself\u001b[0m\u001b[0;34m.\u001b[0m\u001b[0m_stateful_fn\u001b[0m\u001b[0;34m(\u001b[0m\u001b[0;34m*\u001b[0m\u001b[0margs\u001b[0m\u001b[0;34m,\u001b[0m \u001b[0;34m**\u001b[0m\u001b[0mkwds\u001b[0m\u001b[0;34m)\u001b[0m\u001b[0;34m\u001b[0m\u001b[0;34m\u001b[0m\u001b[0m\n\u001b[0m\u001b[1;32m    619\u001b[0m       \u001b[0;32mif\u001b[0m \u001b[0mself\u001b[0m\u001b[0;34m.\u001b[0m\u001b[0m_created_variables\u001b[0m\u001b[0;34m:\u001b[0m\u001b[0;34m\u001b[0m\u001b[0;34m\u001b[0m\u001b[0m\n\u001b[1;32m    620\u001b[0m         raise ValueError(\"Creating variables on a non-first call to a function\"\n",
      "\u001b[0;32m~/.local/lib/python3.6/site-packages/tensorflow/python/eager/function.py\u001b[0m in \u001b[0;36m__call__\u001b[0;34m(self, *args, **kwargs)\u001b[0m\n\u001b[1;32m   2417\u001b[0m     \u001b[0;34m\"\"\"Calls a graph function specialized to the inputs.\"\"\"\u001b[0m\u001b[0;34m\u001b[0m\u001b[0;34m\u001b[0m\u001b[0m\n\u001b[1;32m   2418\u001b[0m     \u001b[0;32mwith\u001b[0m \u001b[0mself\u001b[0m\u001b[0;34m.\u001b[0m\u001b[0m_lock\u001b[0m\u001b[0;34m:\u001b[0m\u001b[0;34m\u001b[0m\u001b[0;34m\u001b[0m\u001b[0m\n\u001b[0;32m-> 2419\u001b[0;31m       \u001b[0mgraph_function\u001b[0m\u001b[0;34m,\u001b[0m \u001b[0margs\u001b[0m\u001b[0;34m,\u001b[0m \u001b[0mkwargs\u001b[0m \u001b[0;34m=\u001b[0m \u001b[0mself\u001b[0m\u001b[0;34m.\u001b[0m\u001b[0m_maybe_define_function\u001b[0m\u001b[0;34m(\u001b[0m\u001b[0margs\u001b[0m\u001b[0;34m,\u001b[0m \u001b[0mkwargs\u001b[0m\u001b[0;34m)\u001b[0m\u001b[0;34m\u001b[0m\u001b[0;34m\u001b[0m\u001b[0m\n\u001b[0m\u001b[1;32m   2420\u001b[0m     \u001b[0;32mreturn\u001b[0m \u001b[0mgraph_function\u001b[0m\u001b[0;34m.\u001b[0m\u001b[0m_filtered_call\u001b[0m\u001b[0;34m(\u001b[0m\u001b[0margs\u001b[0m\u001b[0;34m,\u001b[0m \u001b[0mkwargs\u001b[0m\u001b[0;34m)\u001b[0m  \u001b[0;31m# pylint: disable=protected-access\u001b[0m\u001b[0;34m\u001b[0m\u001b[0;34m\u001b[0m\u001b[0m\n\u001b[1;32m   2421\u001b[0m \u001b[0;34m\u001b[0m\u001b[0m\n",
      "\u001b[0;32m~/.local/lib/python3.6/site-packages/tensorflow/python/eager/function.py\u001b[0m in \u001b[0;36m_maybe_define_function\u001b[0;34m(self, args, kwargs)\u001b[0m\n\u001b[1;32m   2772\u001b[0m           \u001b[0;32mand\u001b[0m \u001b[0mself\u001b[0m\u001b[0;34m.\u001b[0m\u001b[0minput_signature\u001b[0m \u001b[0;32mis\u001b[0m \u001b[0;32mNone\u001b[0m\u001b[0;34m\u001b[0m\u001b[0;34m\u001b[0m\u001b[0m\n\u001b[1;32m   2773\u001b[0m           and call_context_key in self._function_cache.missed):\n\u001b[0;32m-> 2774\u001b[0;31m         \u001b[0;32mreturn\u001b[0m \u001b[0mself\u001b[0m\u001b[0;34m.\u001b[0m\u001b[0m_define_function_with_shape_relaxation\u001b[0m\u001b[0;34m(\u001b[0m\u001b[0margs\u001b[0m\u001b[0;34m,\u001b[0m \u001b[0mkwargs\u001b[0m\u001b[0;34m)\u001b[0m\u001b[0;34m\u001b[0m\u001b[0;34m\u001b[0m\u001b[0m\n\u001b[0m\u001b[1;32m   2775\u001b[0m \u001b[0;34m\u001b[0m\u001b[0m\n\u001b[1;32m   2776\u001b[0m       \u001b[0mself\u001b[0m\u001b[0;34m.\u001b[0m\u001b[0m_function_cache\u001b[0m\u001b[0;34m.\u001b[0m\u001b[0mmissed\u001b[0m\u001b[0;34m.\u001b[0m\u001b[0madd\u001b[0m\u001b[0;34m(\u001b[0m\u001b[0mcall_context_key\u001b[0m\u001b[0;34m)\u001b[0m\u001b[0;34m\u001b[0m\u001b[0;34m\u001b[0m\u001b[0m\n",
      "\u001b[0;32m~/.local/lib/python3.6/site-packages/tensorflow/python/eager/function.py\u001b[0m in \u001b[0;36m_define_function_with_shape_relaxation\u001b[0;34m(self, args, kwargs)\u001b[0m\n\u001b[1;32m   2704\u001b[0m         relaxed_arg_shapes)\n\u001b[1;32m   2705\u001b[0m     graph_function = self._create_graph_function(\n\u001b[0;32m-> 2706\u001b[0;31m         args, kwargs, override_flat_arg_shapes=relaxed_arg_shapes)\n\u001b[0m\u001b[1;32m   2707\u001b[0m     \u001b[0mself\u001b[0m\u001b[0;34m.\u001b[0m\u001b[0m_function_cache\u001b[0m\u001b[0;34m.\u001b[0m\u001b[0marg_relaxed\u001b[0m\u001b[0;34m[\u001b[0m\u001b[0mrank_only_cache_key\u001b[0m\u001b[0;34m]\u001b[0m \u001b[0;34m=\u001b[0m \u001b[0mgraph_function\u001b[0m\u001b[0;34m\u001b[0m\u001b[0;34m\u001b[0m\u001b[0m\n\u001b[1;32m   2708\u001b[0m \u001b[0;34m\u001b[0m\u001b[0m\n",
      "\u001b[0;32m~/.local/lib/python3.6/site-packages/tensorflow/python/eager/function.py\u001b[0m in \u001b[0;36m_create_graph_function\u001b[0;34m(self, args, kwargs, override_flat_arg_shapes)\u001b[0m\n\u001b[1;32m   2665\u001b[0m             \u001b[0marg_names\u001b[0m\u001b[0;34m=\u001b[0m\u001b[0marg_names\u001b[0m\u001b[0;34m,\u001b[0m\u001b[0;34m\u001b[0m\u001b[0;34m\u001b[0m\u001b[0m\n\u001b[1;32m   2666\u001b[0m             \u001b[0moverride_flat_arg_shapes\u001b[0m\u001b[0;34m=\u001b[0m\u001b[0moverride_flat_arg_shapes\u001b[0m\u001b[0;34m,\u001b[0m\u001b[0;34m\u001b[0m\u001b[0;34m\u001b[0m\u001b[0m\n\u001b[0;32m-> 2667\u001b[0;31m             capture_by_value=self._capture_by_value),\n\u001b[0m\u001b[1;32m   2668\u001b[0m         \u001b[0mself\u001b[0m\u001b[0;34m.\u001b[0m\u001b[0m_function_attributes\u001b[0m\u001b[0;34m,\u001b[0m\u001b[0;34m\u001b[0m\u001b[0;34m\u001b[0m\u001b[0m\n\u001b[1;32m   2669\u001b[0m         \u001b[0;31m# Tell the ConcreteFunction to clean up its graph once it goes out of\u001b[0m\u001b[0;34m\u001b[0m\u001b[0;34m\u001b[0m\u001b[0;34m\u001b[0m\u001b[0m\n",
      "\u001b[0;32m~/.local/lib/python3.6/site-packages/tensorflow/python/framework/func_graph.py\u001b[0m in \u001b[0;36mfunc_graph_from_py_func\u001b[0;34m(name, python_func, args, kwargs, signature, func_graph, autograph, autograph_options, add_control_dependencies, arg_names, op_return_value, collections, capture_by_value, override_flat_arg_shapes)\u001b[0m\n\u001b[1;32m    979\u001b[0m         \u001b[0m_\u001b[0m\u001b[0;34m,\u001b[0m \u001b[0moriginal_func\u001b[0m \u001b[0;34m=\u001b[0m \u001b[0mtf_decorator\u001b[0m\u001b[0;34m.\u001b[0m\u001b[0munwrap\u001b[0m\u001b[0;34m(\u001b[0m\u001b[0mpython_func\u001b[0m\u001b[0;34m)\u001b[0m\u001b[0;34m\u001b[0m\u001b[0;34m\u001b[0m\u001b[0m\n\u001b[1;32m    980\u001b[0m \u001b[0;34m\u001b[0m\u001b[0m\n\u001b[0;32m--> 981\u001b[0;31m       \u001b[0mfunc_outputs\u001b[0m \u001b[0;34m=\u001b[0m \u001b[0mpython_func\u001b[0m\u001b[0;34m(\u001b[0m\u001b[0;34m*\u001b[0m\u001b[0mfunc_args\u001b[0m\u001b[0;34m,\u001b[0m \u001b[0;34m**\u001b[0m\u001b[0mfunc_kwargs\u001b[0m\u001b[0;34m)\u001b[0m\u001b[0;34m\u001b[0m\u001b[0;34m\u001b[0m\u001b[0m\n\u001b[0m\u001b[1;32m    982\u001b[0m \u001b[0;34m\u001b[0m\u001b[0m\n\u001b[1;32m    983\u001b[0m       \u001b[0;31m# invariant: `func_outputs` contains only Tensors, CompositeTensors,\u001b[0m\u001b[0;34m\u001b[0m\u001b[0;34m\u001b[0m\u001b[0;34m\u001b[0m\u001b[0m\n",
      "\u001b[0;32m~/.local/lib/python3.6/site-packages/tensorflow/python/eager/def_function.py\u001b[0m in \u001b[0;36mwrapped_fn\u001b[0;34m(*args, **kwds)\u001b[0m\n\u001b[1;32m    439\u001b[0m         \u001b[0;31m# __wrapped__ allows AutoGraph to swap in a converted function. We give\u001b[0m\u001b[0;34m\u001b[0m\u001b[0;34m\u001b[0m\u001b[0;34m\u001b[0m\u001b[0m\n\u001b[1;32m    440\u001b[0m         \u001b[0;31m# the function a weak reference to itself to avoid a reference cycle.\u001b[0m\u001b[0;34m\u001b[0m\u001b[0;34m\u001b[0m\u001b[0;34m\u001b[0m\u001b[0m\n\u001b[0;32m--> 441\u001b[0;31m         \u001b[0;32mreturn\u001b[0m \u001b[0mweak_wrapped_fn\u001b[0m\u001b[0;34m(\u001b[0m\u001b[0;34m)\u001b[0m\u001b[0;34m.\u001b[0m\u001b[0m__wrapped__\u001b[0m\u001b[0;34m(\u001b[0m\u001b[0;34m*\u001b[0m\u001b[0margs\u001b[0m\u001b[0;34m,\u001b[0m \u001b[0;34m**\u001b[0m\u001b[0mkwds\u001b[0m\u001b[0;34m)\u001b[0m\u001b[0;34m\u001b[0m\u001b[0;34m\u001b[0m\u001b[0m\n\u001b[0m\u001b[1;32m    442\u001b[0m     \u001b[0mweak_wrapped_fn\u001b[0m \u001b[0;34m=\u001b[0m \u001b[0mweakref\u001b[0m\u001b[0;34m.\u001b[0m\u001b[0mref\u001b[0m\u001b[0;34m(\u001b[0m\u001b[0mwrapped_fn\u001b[0m\u001b[0;34m)\u001b[0m\u001b[0;34m\u001b[0m\u001b[0;34m\u001b[0m\u001b[0m\n\u001b[1;32m    443\u001b[0m \u001b[0;34m\u001b[0m\u001b[0m\n",
      "\u001b[0;32m~/.local/lib/python3.6/site-packages/tensorflow/python/framework/func_graph.py\u001b[0m in \u001b[0;36mwrapper\u001b[0;34m(*args, **kwargs)\u001b[0m\n\u001b[1;32m    966\u001b[0m           \u001b[0;32mexcept\u001b[0m \u001b[0mException\u001b[0m \u001b[0;32mas\u001b[0m \u001b[0me\u001b[0m\u001b[0;34m:\u001b[0m  \u001b[0;31m# pylint:disable=broad-except\u001b[0m\u001b[0;34m\u001b[0m\u001b[0;34m\u001b[0m\u001b[0m\n\u001b[1;32m    967\u001b[0m             \u001b[0;32mif\u001b[0m \u001b[0mhasattr\u001b[0m\u001b[0;34m(\u001b[0m\u001b[0me\u001b[0m\u001b[0;34m,\u001b[0m \u001b[0;34m\"ag_error_metadata\"\u001b[0m\u001b[0;34m)\u001b[0m\u001b[0;34m:\u001b[0m\u001b[0;34m\u001b[0m\u001b[0;34m\u001b[0m\u001b[0m\n\u001b[0;32m--> 968\u001b[0;31m               \u001b[0;32mraise\u001b[0m \u001b[0me\u001b[0m\u001b[0;34m.\u001b[0m\u001b[0mag_error_metadata\u001b[0m\u001b[0;34m.\u001b[0m\u001b[0mto_exception\u001b[0m\u001b[0;34m(\u001b[0m\u001b[0me\u001b[0m\u001b[0;34m)\u001b[0m\u001b[0;34m\u001b[0m\u001b[0;34m\u001b[0m\u001b[0m\n\u001b[0m\u001b[1;32m    969\u001b[0m             \u001b[0;32melse\u001b[0m\u001b[0;34m:\u001b[0m\u001b[0;34m\u001b[0m\u001b[0;34m\u001b[0m\u001b[0m\n\u001b[1;32m    970\u001b[0m               \u001b[0;32mraise\u001b[0m\u001b[0;34m\u001b[0m\u001b[0;34m\u001b[0m\u001b[0m\n",
      "\u001b[0;31mValueError\u001b[0m: in user code:\n\n    /home/jackalak/.local/lib/python3.6/site-packages/tensorflow/python/keras/engine/training.py:1147 predict_function  *\n        outputs = self.distribute_strategy.run(\n    /home/jackalak/.local/lib/python3.6/site-packages/tensorflow/python/distribute/distribute_lib.py:951 run  **\n        return self._extended.call_for_each_replica(fn, args=args, kwargs=kwargs)\n    /home/jackalak/.local/lib/python3.6/site-packages/tensorflow/python/distribute/distribute_lib.py:2290 call_for_each_replica\n        return self._call_for_each_replica(fn, args, kwargs)\n    /home/jackalak/.local/lib/python3.6/site-packages/tensorflow/python/distribute/distribute_lib.py:2649 _call_for_each_replica\n        return fn(*args, **kwargs)\n    /home/jackalak/.local/lib/python3.6/site-packages/tensorflow/python/keras/engine/training.py:1122 predict_step  **\n        return self(x, training=False)\n    /home/jackalak/.local/lib/python3.6/site-packages/tensorflow/python/keras/engine/base_layer.py:886 __call__\n        self.name)\n    /home/jackalak/.local/lib/python3.6/site-packages/tensorflow/python/keras/engine/input_spec.py:216 assert_input_compatibility\n        ' but received input with shape ' + str(shape))\n\n    ValueError: Input 0 of layer sequential_1 is incompatible with the layer: expected axis -1 of input shape to have value 149 but received input with shape [None, 148]\n"
     ]
    }
   ],
   "source": [
    "\n",
    "print(X.shape)\n",
    "\n",
    "print((model.predict_classes(X_train_no_aurora_type_scaled)).shape)\n",
    "print(df_train_pred.shape)\n",
    "\n",
    "df_train_pred['aurora_type']= model.predict_classes(X)+1\n",
    "df_val_pred['aurora_type']= model.predict_classes(X_test)+1\n",
    "\n",
    "plt.figure()\n",
    "plt.hist(df_train_pred['aurora_type'])\n",
    "plt.figure()\n",
    "plt.hist(df_train_clean['aurora_type'])\n",
    "\n",
    "print(df_train_pred.shape)\n",
    "print(df_train_clean.shape)\n",
    "\n",
    "frames = [df_train_clean, df_train_pred]\n",
    "df_train_new = pd.concat(frames)\n",
    "frames = [df_val_clean, df_val_pred]\n",
    "df_val_new = pd.concat(frames) \n",
    "\n",
    "print(df_val_new.values.shape)"
   ]
  },
  {
   "cell_type": "code",
   "execution_count": 60,
   "metadata": {},
   "outputs": [],
   "source": [
    "\n",
    "# Construct X and y\n",
    "feature_cols = [c for c in df_train_new.columns if not 'ELE' in c]\n",
    "\n",
    "X_val = df_val_new[feature_cols].copy(deep=True)\n",
    "y_val = df_val_new['ELE_TOTAL_ENERGY_FLUX'].copy(deep=True)\n",
    "X_train = df_train_new[feature_cols].copy(deep=True)\n",
    "y_train = df_train_new['ELE_TOTAL_ENERGY_FLUX'].copy(deep=True)\n",
    "scaler_X = preprocessing.RobustScaler()\n",
    "scaler_X = scaler_X.fit(X_train.values)\n",
    "X_val_scaled = scaler_X.transform(X_val.values)\n",
    "X_train_scaled = scaler_X.transform(X_train.values)\n",
    "\n",
    "numFeatures = len(X_train.columns.to_list())\n",
    "feature_labels = X_train.columns.to_list()\n",
    "y_train_erg = y_train.copy(deep=True) * (1.60218e-12)\n",
    "y_val_erg = y_val.copy(deep=True) * (1.60218e-12)\n",
    "\n",
    "y_train[y_train == 0] = 0.0001\n",
    "y_val[y_val == 0] = 0.0001\n",
    "y_train_log = np.log10(y_train.copy(deep=True))\n",
    "y_val_log = np.log10(y_val.copy(deep=True))\n",
    "\n",
    "X = np.array(X_train_scaled, dtype=np.float32)\n",
    "X_test = np.array(X_val_scaled, dtype=np.float32)\n"
   ]
  },
  {
   "cell_type": "code",
   "execution_count": 61,
   "metadata": {},
   "outputs": [
    {
     "data": {
      "application/vnd.jupyter.widget-view+json": {
       "model_id": "78c981177a3248d1b6bc7943b8835fac",
       "version_major": 2,
       "version_minor": 0
      },
      "text/plain": [
       "Canvas(toolbar=Toolbar(toolitems=[('Home', 'Reset original view', 'home', 'home'), ('Back', 'Back to previous …"
      ]
     },
     "metadata": {},
     "output_type": "display_data"
    },
    {
     "data": {
      "application/vnd.jupyter.widget-view+json": {
       "model_id": "712f5c14d7fb43be8b48e36225e04f0b",
       "version_major": 2,
       "version_minor": 0
      },
      "text/plain": [
       "Canvas(toolbar=Toolbar(toolitems=[('Home', 'Reset original view', 'home', 'home'), ('Back', 'Back to previous …"
      ]
     },
     "metadata": {},
     "output_type": "display_data"
    },
    {
     "data": {
      "text/plain": [
       "(array([174354.,      0.,      0.,      0.,      0., 362529.,      0.,\n",
       "             0.,      0., 185016.]),\n",
       " array([1. , 1.2, 1.4, 1.6, 1.8, 2. , 2.2, 2.4, 2.6, 2.8, 3. ]),\n",
       " <a list of 10 Patch objects>)"
      ]
     },
     "execution_count": 61,
     "metadata": {},
     "output_type": "execute_result"
    }
   ],
   "source": [
    "sample_weights = np.ones((X_train.values.shape[0]))\n",
    "for i in range(0,X_train.values.shape[0]):\n",
    "    if X_train['aurora_type'].values[i]==1:\n",
    "        sample_weights[i]=10\n",
    "\n",
    "plt.figure()\n",
    "plt.hist(sample_weights)\n",
    "plt.figure()\n",
    "plt.hist(X_train['aurora_type'].values)"
   ]
  },
  {
   "cell_type": "markdown",
   "metadata": {},
   "source": [
    "# Now with the supervised auroral type values and the predicted (unsupervised) type values as a new column in the input X, predict the scalar energy flux y"
   ]
  },
  {
   "cell_type": "code",
   "execution_count": 25,
   "metadata": {
    "scrolled": true
   },
   "outputs": [],
   "source": [
    "# model = Sequential()\n",
    "\n",
    "# model.add(Dense(int(256), activation='relu'))\n",
    "# model.add(Dropout(.5))\n",
    "# model.add(Dense(64, activation='relu'))\n",
    "# model.add(Dense(16, activation='relu'))\n",
    "# model.add(Dense(1))\n",
    "\n",
    "\n",
    "# #compile model using accuracy to measure model performance\n",
    "# model.compile(loss='mse', optimizer='adam',  metrics=['mse','mae'])\n",
    "\n",
    "# history = model.fit(X, np.array(y_train_log), \n",
    "#     validation_data=(X_test, np.array(y_val_log)), batch_size=1024,epochs=1000, sample_weight=sample_weights)"
   ]
  },
  {
   "cell_type": "code",
   "execution_count": 26,
   "metadata": {},
   "outputs": [],
   "source": [
    "filename = 'best_with_auroral_region_weights'\n",
    "\n",
    "# model.save(filename)\n",
    "\n",
    "model = tensorflow.keras.models.load_model(filename)\n",
    "#model.save_weights('my_model_weights.h5')\n",
    "\n",
    "\n",
    "# print(history.history.keys())\n",
    "# plt.figure()\n",
    "# # summarize history for loss\n",
    "# plt.plot(history.history['loss'][20:])\n",
    "# plt.plot(history.history['val_loss'][20:])\n",
    "# plt.title('model loss')\n",
    "# plt.ylabel('loss')\n",
    "# plt.xlabel('epoch')\n",
    "# plt.legend(['train', 'test'], loc='upper left')\n",
    "# plt.show()\n",
    "\n",
    "# plt.figure()\n",
    "# # summarize history for loss\n",
    "# plt.plot(history.history['loss'][20:])\n",
    "# plt.title('model loss')\n",
    "# plt.ylabel('loss')\n",
    "# plt.xlabel('epoch')\n",
    "# plt.legend(['train', 'test'], loc='upper left')\n",
    "# plt.show()\n",
    "\n",
    "# plt.figure()\n",
    "# # summarize history for loss\n",
    "# plt.plot(history.history['val_loss'][20:])\n",
    "# plt.title('model loss')\n",
    "# plt.ylabel('loss')\n",
    "# plt.xlabel('epoch')\n",
    "# plt.legend(['train', 'test'], loc='upper left')\n",
    "# plt.show()\n",
    "\n",
    "# plt.figure()\n",
    "# # summarize history for loss\n",
    "# plt.plot(history.history['val_loss'][200:])\n",
    "# plt.title('model loss')\n",
    "# plt.ylabel('loss')\n",
    "# plt.xlabel('epoch')\n",
    "# plt.legend(['train', 'test'], loc='upper left')\n",
    "# plt.show()"
   ]
  },
  {
   "cell_type": "code",
   "execution_count": 27,
   "metadata": {},
   "outputs": [
    {
     "name": "stdout",
     "output_type": "stream",
     "text": [
      "1726/1726 [==============================] - 2s 980us/step - loss: 0.5924 - mean_squared_error: 0.5924 - mean_absolute_error: 0.5501\n"
     ]
    },
    {
     "data": {
      "text/plain": [
       "[0.592354953289032, 0.592354953289032, 0.5500954389572144]"
      ]
     },
     "execution_count": 27,
     "metadata": {},
     "output_type": "execute_result"
    }
   ],
   "source": [
    "model.evaluate(X_val_scaled,y_val_log)\n"
   ]
  },
  {
   "cell_type": "code",
   "execution_count": 28,
   "metadata": {
    "scrolled": false
   },
   "outputs": [
    {
     "data": {
      "application/vnd.jupyter.widget-view+json": {
       "model_id": "688160b2fac2426da01b1dbd765dca50",
       "version_major": 2,
       "version_minor": 0
      },
      "text/plain": [
       "Canvas(toolbar=Toolbar(toolitems=[('Home', 'Reset original view', 'home', 'home'), ('Back', 'Back to previous …"
      ]
     },
     "metadata": {},
     "output_type": "display_data"
    },
    {
     "data": {
      "application/vnd.jupyter.widget-view+json": {
       "model_id": "7e1fd6f7f2454d22a854c6385eec0efb",
       "version_major": 2,
       "version_minor": 0
      },
      "text/plain": [
       "Canvas(toolbar=Toolbar(toolitems=[('Home', 'Reset original view', 'home', 'home'), ('Back', 'Back to previous …"
      ]
     },
     "metadata": {},
     "output_type": "display_data"
    },
    {
     "data": {
      "application/vnd.jupyter.widget-view+json": {
       "model_id": "5fc6a09b457b4bc7a6d7e3bb91b75bc8",
       "version_major": 2,
       "version_minor": 0
      },
      "text/plain": [
       "Canvas(toolbar=Toolbar(toolitems=[('Home', 'Reset original view', 'home', 'home'), ('Back', 'Back to previous …"
      ]
     },
     "metadata": {},
     "output_type": "display_data"
    },
    {
     "data": {
      "application/vnd.jupyter.widget-view+json": {
       "model_id": "dd8a317d8aa249beaccbae79bbbec3c5",
       "version_major": 2,
       "version_minor": 0
      },
      "text/plain": [
       "Canvas(toolbar=Toolbar(toolitems=[('Home', 'Reset original view', 'home', 'home'), ('Back', 'Back to previous …"
      ]
     },
     "metadata": {},
     "output_type": "display_data"
    },
    {
     "name": "stderr",
     "output_type": "stream",
     "text": [
      "/usr/local/lib/python3.6/dist-packages/ipykernel_launcher.py:29: RuntimeWarning: More than 20 figures have been opened. Figures created through the pyplot interface (`matplotlib.pyplot.figure`) are retained until explicitly closed and may consume too much memory. (To control this warning, see the rcParam `figure.max_open_warning`).\n"
     ]
    },
    {
     "data": {
      "application/vnd.jupyter.widget-view+json": {
       "model_id": "b72d7195a6234bfca6334027e1fefbd5",
       "version_major": 2,
       "version_minor": 0
      },
      "text/plain": [
       "Canvas(toolbar=Toolbar(toolitems=[('Home', 'Reset original view', 'home', 'home'), ('Back', 'Back to previous …"
      ]
     },
     "metadata": {},
     "output_type": "display_data"
    },
    {
     "name": "stderr",
     "output_type": "stream",
     "text": [
      "/usr/local/lib/python3.6/dist-packages/ipykernel_launcher.py:35: RuntimeWarning: More than 20 figures have been opened. Figures created through the pyplot interface (`matplotlib.pyplot.figure`) are retained until explicitly closed and may consume too much memory. (To control this warning, see the rcParam `figure.max_open_warning`).\n"
     ]
    },
    {
     "data": {
      "application/vnd.jupyter.widget-view+json": {
       "model_id": "0a9ba47bbde447978ea3267402ce1578",
       "version_major": 2,
       "version_minor": 0
      },
      "text/plain": [
       "Canvas(toolbar=Toolbar(toolitems=[('Home', 'Reset original view', 'home', 'home'), ('Back', 'Back to previous …"
      ]
     },
     "metadata": {},
     "output_type": "display_data"
    }
   ],
   "source": [
    "results = model.predict(X_val_scaled)#, y_val_log.values)#, batch_size=128)\n",
    "\n",
    "df_results = pd.DataFrame(data=results, index = X_val.index)\n",
    "\n",
    "plt.figure()\n",
    "plt.plot(y_val_log[:500])\n",
    "plt.plot(df_results[:500])\n",
    "plt.legend(['val', 'result'], loc='upper left')\n",
    "plt.show()\n",
    "\n",
    "plt.figure()\n",
    "plt.plot(y_val_log[:5000])\n",
    "plt.plot(df_results[:5000])\n",
    "plt.legend(['val', 'result'], loc='upper left')\n",
    "plt.show()\n",
    "\n",
    "plt.figure()\n",
    "plt.plot(y_val_log[:])\n",
    "plt.plot(df_results[:])\n",
    "plt.legend(['val', 'result'], loc='upper left')\n",
    "plt.show()\n",
    "\n",
    "plt.figure()\n",
    "plt.plot(y_val_log[-500:])\n",
    "plt.plot(df_results[-500:])\n",
    "plt.legend(['val', 'result'], loc='upper left')\n",
    "plt.show()\n",
    "\n",
    "plt.figure()\n",
    "plt.plot(y_val_log[:])\n",
    "plt.plot(df_results[:])\n",
    "plt.legend(['val', 'result'], loc='upper left')\n",
    "plt.show()\n",
    "\n",
    "plt.figure()\n",
    "plt.plot(y_val_log[-500:])\n",
    "plt.plot(df_results[-500:])\n",
    "plt.legend(['val', 'result'], loc='upper left')\n",
    "plt.show()"
   ]
  },
  {
   "cell_type": "code",
   "execution_count": 64,
   "metadata": {
    "scrolled": false
   },
   "outputs": [
    {
     "data": {
      "application/vnd.jupyter.widget-view+json": {
       "model_id": "e7806db7879c4deeae23124d37871dea",
       "version_major": 2,
       "version_minor": 0
      },
      "text/plain": [
       "Canvas(toolbar=Toolbar(toolitems=[('Home', 'Reset original view', 'home', 'home'), ('Back', 'Back to previous …"
      ]
     },
     "metadata": {},
     "output_type": "display_data"
    }
   ],
   "source": [
    "filename = 'best_with_auroral_region_weights'\n",
    "model = tensorflow.keras.models.load_model(filename)\n",
    "results = model.predict(X_val_scaled)#, y_val_log.values)#, batch_size=128)\n",
    "df_results = pd.DataFrame(data=results, index = X_val.index)\n",
    "\n",
    "indices = np.array(np.linspace(35,80,num=80-35+1,dtype=np.int))\n",
    "\n",
    "fig, ax1 = plt.subplots()\n",
    "\n",
    "color = 'tab:red'\n",
    "ax1.set_xlabel('time (s)')\n",
    "ax1.set_ylabel('flux', color=color)\n",
    "ax1.tick_params(axis='y', labelcolor=color)\n",
    "\n",
    "ax1.plot(y_val_log[:5000])\n",
    "ax1.plot(df_results[:5000])\n",
    "\n",
    "\n",
    "filename = 'best_base_line'\n",
    "model = tensorflow.keras.models.load_model(filename)\n",
    "results = model.predict(X_val_scaled[:,:148])#, y_val_log.values)#, batch_size=128)\n",
    "df_results = pd.DataFrame(data=results, index = X_val.index)\n",
    "\n",
    "ax1.plot(df_results[:5000])\n",
    "\n",
    "ax1.legend(['true energy flux', 'predicted with auroral region', 'predicted  baseline'], loc='lower left')\n",
    "plt.title('Weighted samples')\n",
    "plt.show()\n",
    "\n",
    "\n",
    "ax2 = ax1.twinx()  # instantiate a second axes that shares the same x-axis\n",
    "\n",
    "color = 'tab:purple'\n",
    "ax2.set_ylabel('MLat', color=color)  # we already handled the x-label with ax1\n",
    "ax2.tick_params(axis='y', labelcolor=color)\n",
    "ax2.plot(X_val['SC_AACGM_LAT'][:5000], color=color)\n",
    "ax1.legend(['true energy flux', 'predicted with auroral region', 'predicted  baseline'], loc='lower left')\n",
    "\n",
    "\n",
    "fig.tight_layout()  # otherwise the right y-label is slightly clipped\n"
   ]
  },
  {
   "cell_type": "markdown",
   "metadata": {},
   "source": [
    "# Now with the supervised auroral type values and the predicted (unsupervised) type values as a new column in the input X, predict the scalar energy flux y\n",
    "\n",
    "# The target Y is now a vector result where the true value only has one of the three as non-zero, the correct answer is specified by the auroral region type, equatorial region, in aurora, and the polar region\n",
    "\n",
    "# The loss is the MSE of all three, to compare this loss to the previous approach that is signal modal, multiply the loss by the number of modes which is three"
   ]
  },
  {
   "cell_type": "code",
   "execution_count": 69,
   "metadata": {},
   "outputs": [
    {
     "data": {
      "application/vnd.jupyter.widget-view+json": {
       "model_id": "499e1212c27745e8b0d3def47bcb026a",
       "version_major": 2,
       "version_minor": 0
      },
      "text/plain": [
       "Canvas(toolbar=Toolbar(toolitems=[('Home', 'Reset original view', 'home', 'home'), ('Back', 'Back to previous …"
      ]
     },
     "metadata": {},
     "output_type": "display_data"
    },
    {
     "data": {
      "application/vnd.jupyter.widget-view+json": {
       "model_id": "e0207651c613491ab2fb8e6fd162d4cd",
       "version_major": 2,
       "version_minor": 0
      },
      "text/plain": [
       "Canvas(toolbar=Toolbar(toolitems=[('Home', 'Reset original view', 'home', 'home'), ('Back', 'Back to previous …"
      ]
     },
     "metadata": {},
     "output_type": "display_data"
    },
    {
     "data": {
      "text/plain": [
       "(array([174354.,      0.,      0.,      0.,      0., 362529.,      0.,\n",
       "             0.,      0., 185016.]),\n",
       " array([1. , 1.2, 1.4, 1.6, 1.8, 2. , 2.2, 2.4, 2.6, 2.8, 3. ]),\n",
       " <a list of 10 Patch objects>)"
      ]
     },
     "execution_count": 69,
     "metadata": {},
     "output_type": "execute_result"
    }
   ],
   "source": [
    "\n",
    "# Construct X and y\n",
    "feature_cols = [c for c in df_train_new.columns if not 'ELE' in c]\n",
    "X_val = df_val_new[feature_cols].copy(deep=True)\n",
    "y_val = df_val_new['ELE_TOTAL_ENERGY_FLUX'].copy(deep=True)\n",
    "X_train = df_train_new[feature_cols].copy(deep=True)\n",
    "y_train_val = df_train_new['ELE_TOTAL_ENERGY_FLUX'].copy(deep=True)\n",
    "\n",
    "y_train[y_train == 0] = 0.0001\n",
    "y_val[y_val == 0] = 0.0001\n",
    "y_train_log1 = np.log10(y_train.copy(deep=True))\n",
    "y_val_log1 = np.log10(y_val.copy(deep=True))\n",
    "\n",
    "y_train_log = np.zeros((y_train_log1.values.shape[0],3))\n",
    "y_val_log = np.zeros((y_val_log1.values.shape[0],3))\n",
    "\n",
    "for i in range(0,X_val.values.shape[0]):\n",
    "    if X_val['aurora_type'].values[i] == 1:\n",
    "        y_val_log[i,0]=y_val_log1.values[i]\n",
    "    if X_val['aurora_type'].values[i] == 2:\n",
    "        y_val_log[i,1]=y_val_log1.values[i]\n",
    "    if X_val['aurora_type'].values[i] == 3:\n",
    "        y_val_log[i,2]=y_val_log1.values[i]\n",
    "for i in range(0,X_train.values.shape[0]):\n",
    "    if X_train['aurora_type'].values[i] == 1:\n",
    "        y_train_log[i,0]=y_train_log1.values[i]\n",
    "    if X_train['aurora_type'].values[i] == 2:\n",
    "        y_train_log[i,1]=y_train_log1.values[i]\n",
    "    if X_train['aurora_type'].values[i] == 3:\n",
    "        y_train_log[i,2]=y_train_log1.values[i]\n",
    "\n",
    "\n",
    "\n",
    "scaler_X = preprocessing.RobustScaler()\n",
    "scaler_X = scaler_X.fit(X_train.values)\n",
    "X_val_scaled = scaler_X.transform(X_val.values)\n",
    "X_train_scaled = scaler_X.transform(X_train.values)\n",
    "\n",
    "X = np.array(X_train_scaled, dtype=np.float32)\n",
    "X_test = np.array(X_val_scaled, dtype=np.float32)\n",
    "\n",
    "plt.figure()\n",
    "plt.hist(X_val['aurora_type'].values)\n",
    "plt.figure()\n",
    "plt.hist(X_train['aurora_type'].values)"
   ]
  },
  {
   "cell_type": "code",
   "execution_count": 70,
   "metadata": {
    "scrolled": true
   },
   "outputs": [],
   "source": [
    "# model = Sequential()\n",
    "\n",
    "# model.add(Dense(int(256), activation='relu'))\n",
    "# model.add(Dropout(.5))\n",
    "# model.add(Dense(64, activation='relu'))\n",
    "# model.add(Dense(16, activation='relu'))\n",
    "# model.add(Dense(3))\n",
    "\n",
    "\n",
    "# #compile model using accuracy to measure model performance\n",
    "# model.compile(loss='mse', optimizer='adam',  metrics=['mse'])\n",
    "\n",
    "# history = model.fit(X, np.array(y_train_log), \n",
    "#                     validation_data=(X_test, np.array(y_val_log)), batch_size=1024,epochs=1000, sample_weight=sample_weights)"
   ]
  },
  {
   "cell_type": "code",
   "execution_count": 71,
   "metadata": {},
   "outputs": [],
   "source": [
    "# filename = 'best_with_auroral_region4_weighted'\n",
    "\n",
    "# model.save(filename)\n",
    "# # model.save_weights('my_model_weights2.h5')"
   ]
  },
  {
   "cell_type": "code",
   "execution_count": 72,
   "metadata": {},
   "outputs": [
    {
     "name": "stdout",
     "output_type": "stream",
     "text": [
      "1726/1726 [==============================] - 1s 807us/step - loss: 0.1963 - mean_squared_error: 0.1963\n"
     ]
    },
    {
     "data": {
      "text/plain": [
       "[0.19632026553153992, 0.19632026553153992]"
      ]
     },
     "execution_count": 72,
     "metadata": {},
     "output_type": "execute_result"
    }
   ],
   "source": [
    "filename = 'best_with_auroral_region4_weighted'\n",
    "\n",
    "model = tensorflow.keras.models.load_model(filename)\n",
    "\n",
    "model.evaluate(X_val_scaled,np.array(y_val_log))\n",
    "\n",
    "\n",
    "# print(history.history.keys())\n",
    "# plt.figure()\n",
    "# # summarize history for loss\n",
    "# plt.plot(history.history['loss'][20:])\n",
    "# plt.plot(history.history['val_loss'][20:])\n",
    "# plt.title('model loss')\n",
    "# plt.ylabel('loss')\n",
    "# plt.xlabel('epoch')\n",
    "# plt.legend(['train', 'test'], loc='upper left')\n",
    "# plt.show()\n",
    "\n",
    "# plt.figure()\n",
    "# # summarize history for loss\n",
    "# plt.plot(history.history['loss'][20:])\n",
    "# plt.title('model loss')\n",
    "# plt.ylabel('loss')\n",
    "# plt.xlabel('epoch')\n",
    "# plt.legend(['train', 'test'], loc='upper left')\n",
    "# plt.show()\n",
    "\n",
    "# plt.figure()\n",
    "# # summarize history for loss\n",
    "# plt.plot(history.history['val_loss'][20:])\n",
    "# plt.title('model loss')\n",
    "# plt.ylabel('loss')\n",
    "# plt.xlabel('epoch')\n",
    "# plt.legend(['train', 'test'], loc='upper left')\n",
    "# plt.show()\n",
    "\n",
    "# plt.figure()\n",
    "# # summarize history for loss\n",
    "# plt.plot(history.history['val_loss'][200:])\n",
    "# plt.title('model loss')\n",
    "# plt.ylabel('loss')\n",
    "# plt.xlabel('epoch')\n",
    "# plt.legend(['train', 'test'], loc='upper left')\n",
    "# plt.show()"
   ]
  },
  {
   "cell_type": "code",
   "execution_count": 73,
   "metadata": {
    "scrolled": false
   },
   "outputs": [
    {
     "name": "stdout",
     "output_type": "stream",
     "text": [
      "55210\n",
      "(55210,)\n"
     ]
    },
    {
     "data": {
      "application/vnd.jupyter.widget-view+json": {
       "model_id": "606ea44111e3419186f076d799867bd8",
       "version_major": 2,
       "version_minor": 0
      },
      "text/plain": [
       "Canvas(toolbar=Toolbar(toolitems=[('Home', 'Reset original view', 'home', 'home'), ('Back', 'Back to previous …"
      ]
     },
     "metadata": {},
     "output_type": "display_data"
    },
    {
     "data": {
      "application/vnd.jupyter.widget-view+json": {
       "model_id": "9a707f721d50482a9552eb38b6527581",
       "version_major": 2,
       "version_minor": 0
      },
      "text/plain": [
       "Canvas(toolbar=Toolbar(toolitems=[('Home', 'Reset original view', 'home', 'home'), ('Back', 'Back to previous …"
      ]
     },
     "metadata": {},
     "output_type": "display_data"
    },
    {
     "data": {
      "application/vnd.jupyter.widget-view+json": {
       "model_id": "51d81ca5256644c7a3b7466c776f1912",
       "version_major": 2,
       "version_minor": 0
      },
      "text/plain": [
       "Canvas(toolbar=Toolbar(toolitems=[('Home', 'Reset original view', 'home', 'home'), ('Back', 'Back to previous …"
      ]
     },
     "metadata": {},
     "output_type": "display_data"
    },
    {
     "data": {
      "application/vnd.jupyter.widget-view+json": {
       "model_id": "aa002c61a5eb411e865ca7f1a22cd3a7",
       "version_major": 2,
       "version_minor": 0
      },
      "text/plain": [
       "Canvas(toolbar=Toolbar(toolitems=[('Home', 'Reset original view', 'home', 'home'), ('Back', 'Back to previous …"
      ]
     },
     "metadata": {},
     "output_type": "display_data"
    }
   ],
   "source": [
    "results1 = model.predict(X_val_scaled)#, y_val_log.values)#, batch_size=128)\n",
    "print(results1.shape[0])\n",
    "results = np.zeros((results1.shape[0]))\n",
    "y = np.zeros((results1.shape[0]))\n",
    "print(y.shape)\n",
    "for i in range(0,results1.shape[0]):\n",
    "    results[i]= np.max(results1[i,:])\n",
    "    y[i] = np.max(y_val_log[i,:])\n",
    "    \n",
    "df_results = pd.DataFrame(data=results, index = X_val.index)\n",
    "y = pd.DataFrame(data=y, index = X_val.index)\n",
    "\n",
    "plt.figure()\n",
    "plt.plot(y[:500])\n",
    "plt.plot(df_results[:500])\n",
    "plt.legend(['val', 'result'], loc='upper left')\n",
    "plt.show()\n",
    "\n",
    "plt.figure()\n",
    "plt.plot(y[:5000])\n",
    "plt.plot(df_results[:5000])\n",
    "plt.legend(['val', 'result'], loc='upper left')\n",
    "plt.show()\n",
    "\n",
    "plt.figure()\n",
    "plt.plot(y[:])\n",
    "plt.plot(df_results[:])\n",
    "plt.legend(['val', 'result'], loc='upper left')\n",
    "plt.show()\n",
    "\n",
    "plt.figure()\n",
    "plt.plot(y[-500:])\n",
    "plt.plot(df_results[-500:])\n",
    "plt.legend(['val', 'result'], loc='upper left')\n",
    "plt.show()"
   ]
  },
  {
   "cell_type": "code",
   "execution_count": 74,
   "metadata": {},
   "outputs": [
    {
     "name": "stdout",
     "output_type": "stream",
     "text": [
      "0.587224906448618\n"
     ]
    }
   ],
   "source": [
    "mse_final = np.average((df_results.values-y.values)**2)\n",
    "print(mse_final)"
   ]
  },
  {
   "cell_type": "code",
   "execution_count": 75,
   "metadata": {
    "scrolled": false
   },
   "outputs": [
    {
     "name": "stdout",
     "output_type": "stream",
     "text": [
      "55210\n",
      "(55210,)\n"
     ]
    },
    {
     "data": {
      "application/vnd.jupyter.widget-view+json": {
       "model_id": "17c629f4f3254aecb6cd6b033fac3534",
       "version_major": 2,
       "version_minor": 0
      },
      "text/plain": [
       "Canvas(toolbar=Toolbar(toolitems=[('Home', 'Reset original view', 'home', 'home'), ('Back', 'Back to previous …"
      ]
     },
     "metadata": {},
     "output_type": "display_data"
    },
    {
     "data": {
      "application/vnd.jupyter.widget-view+json": {
       "model_id": "58b43d34e2f147658acbbc97cb646a1c",
       "version_major": 2,
       "version_minor": 0
      },
      "text/plain": [
       "Canvas(toolbar=Toolbar(toolitems=[('Home', 'Reset original view', 'home', 'home'), ('Back', 'Back to previous …"
      ]
     },
     "metadata": {},
     "output_type": "display_data"
    },
    {
     "data": {
      "application/vnd.jupyter.widget-view+json": {
       "model_id": "7837b7236b2249769d3e518bb3922554",
       "version_major": 2,
       "version_minor": 0
      },
      "text/plain": [
       "Canvas(toolbar=Toolbar(toolitems=[('Home', 'Reset original view', 'home', 'home'), ('Back', 'Back to previous …"
      ]
     },
     "metadata": {},
     "output_type": "display_data"
    },
    {
     "data": {
      "application/vnd.jupyter.widget-view+json": {
       "model_id": "e26b6ebd07204ee086d37090d6bc137b",
       "version_major": 2,
       "version_minor": 0
      },
      "text/plain": [
       "Canvas(toolbar=Toolbar(toolitems=[('Home', 'Reset original view', 'home', 'home'), ('Back', 'Back to previous …"
      ]
     },
     "metadata": {},
     "output_type": "display_data"
    },
    {
     "name": "stdout",
     "output_type": "stream",
     "text": [
      "0.5877706938945003\n"
     ]
    }
   ],
   "source": [
    "\n",
    "\n",
    "results1 = model.predict(X_val_scaled)#, y_val_log.values)#, batch_size=128)\n",
    "print(results1.shape[0])\n",
    "results = np.zeros((results1.shape[0]))\n",
    "y = np.zeros((results1.shape[0]))\n",
    "print(y.shape)\n",
    "for i in range(0,results1.shape[0]):\n",
    "    results[i]= np.sum(results1[i,:])\n",
    "    y[i] = np.sum(y_val_log[i,:])\n",
    "    \n",
    "df_results = pd.DataFrame(data=results, index = X_val.index)\n",
    "y = pd.DataFrame(data=y, index = X_val.index)\n",
    "\n",
    "plt.figure()\n",
    "plt.plot(y[:500])\n",
    "plt.plot(df_results[:500])\n",
    "plt.legend(['val', 'result'], loc='upper left')\n",
    "plt.show()\n",
    "\n",
    "plt.figure()\n",
    "plt.plot(y[:5000])\n",
    "plt.plot(df_results[:5000])\n",
    "plt.legend(['val', 'result'], loc='upper left')\n",
    "plt.show()\n",
    "\n",
    "plt.figure()\n",
    "plt.plot(y[:])\n",
    "plt.plot(df_results[:])\n",
    "plt.legend(['val', 'result'], loc='upper left')\n",
    "plt.show()\n",
    "\n",
    "plt.figure()\n",
    "plt.plot(y[-500:])\n",
    "plt.plot(df_results[-500:])\n",
    "plt.legend(['val', 'result'], loc='upper left')\n",
    "plt.show()\n",
    "\n",
    "mse_final = np.average((df_results.values-y.values)**2)\n",
    "print(mse_final)"
   ]
  },
  {
   "cell_type": "markdown",
   "metadata": {},
   "source": [
    "# Now try as an autual run senario where auroral type column is fully predicted"
   ]
  },
  {
   "cell_type": "code",
   "execution_count": 76,
   "metadata": {},
   "outputs": [
    {
     "name": "stdout",
     "output_type": "stream",
     "text": [
      "(55210,) (55210, 149)\n"
     ]
    },
    {
     "data": {
      "application/vnd.jupyter.widget-view+json": {
       "model_id": "21d35c348e3643578447f76917ac1159",
       "version_major": 2,
       "version_minor": 0
      },
      "text/plain": [
       "Canvas(toolbar=Toolbar(toolitems=[('Home', 'Reset original view', 'home', 'home'), ('Back', 'Back to previous …"
      ]
     },
     "metadata": {},
     "output_type": "display_data"
    },
    {
     "name": "stdout",
     "output_type": "stream",
     "text": [
      "(55210, 149)\n"
     ]
    }
   ],
   "source": [
    "df_val = pd.read_pickle(\"./with_aurora_type_val.pkl\")\n",
    "df_train = pd.read_pickle(\"./with_aurora_type_train.pkl\")\n",
    "\n",
    "df_val['aurora_type'][ df_val['aurora_type']==4 ]= 1\n",
    "df_train['aurora_type'][ df_train['aurora_type']==4 ]= 1\n",
    "\n",
    "filename = 'best_auroral_region_predictor'\n",
    "\n",
    "model2 = tensorflow.keras.models.load_model(filename)\n",
    "\n",
    "feature_cols = [c for c in df_train.columns if not 'ELE' in c]\n",
    "X_val = df_val[feature_cols].copy(deep=True)\n",
    "X_train = df_train[feature_cols].copy(deep=True)\n",
    "X_train_no_aurora_type = X_train.drop(columns='aurora_type')\n",
    "X_val_no_aurora_type = X_val.drop(columns='aurora_type')\n",
    "scaler_X = preprocessing.RobustScaler()\n",
    "scaler_X = scaler_X.fit(X_train_no_aurora_type.values)\n",
    "X_val_scaled = scaler_X.transform(X_val_no_aurora_type.values)\n",
    "\n",
    "results = (model2.predict_classes(X_val_scaled))+1\n",
    "print(results.shape, X_val.shape)\n",
    "\n",
    "plt.figure()\n",
    "plt.plot(results[:500])\n",
    "plt.plot(df_val['aurora_type'].values[:500])\n",
    "plt.show()\n",
    "\n",
    "feature_cols = [c for c in df_train.columns if not 'ELE' in c]\n",
    "X_val = df_val[feature_cols].copy(deep=True)\n",
    "X_train = df_train[feature_cols].copy(deep=True)\n",
    "scaler_X = preprocessing.RobustScaler()\n",
    "scaler_X = scaler_X.fit(X_train.values)\n",
    "X_val_scaled = scaler_X.transform(X_val.values)\n",
    "\n",
    "X_val_real_senario = X_val.copy(deep=True)\n",
    "X_val_real_senario['aurora_type'] = results\n",
    "\n",
    "print(X_val_real_senario.shape)\n",
    "X_val_real_senario_scaled = scaler_X.transform(X_val_real_senario.values)"
   ]
  },
  {
   "cell_type": "code",
   "execution_count": 77,
   "metadata": {},
   "outputs": [
    {
     "name": "stdout",
     "output_type": "stream",
     "text": [
      "1726/1726 [==============================] - 1s 841us/step - loss: 33.5773 - mean_squared_error: 33.5773\n",
      "1726/1726 [==============================] - 1s 845us/step - loss: 36.9522 - mean_squared_error: 36.9522\n",
      "55210\n",
      "(55210,)\n"
     ]
    },
    {
     "data": {
      "application/vnd.jupyter.widget-view+json": {
       "model_id": "2cf03ee1adbd4d88bbff07dcf6c64bdb",
       "version_major": 2,
       "version_minor": 0
      },
      "text/plain": [
       "Canvas(toolbar=Toolbar(toolitems=[('Home', 'Reset original view', 'home', 'home'), ('Back', 'Back to previous …"
      ]
     },
     "metadata": {},
     "output_type": "display_data"
    },
    {
     "name": "stderr",
     "output_type": "stream",
     "text": [
      "/usr/local/lib/python3.6/dist-packages/ipykernel_launcher.py:26: RuntimeWarning: More than 20 figures have been opened. Figures created through the pyplot interface (`matplotlib.pyplot.figure`) are retained until explicitly closed and may consume too much memory. (To control this warning, see the rcParam `figure.max_open_warning`).\n"
     ]
    },
    {
     "data": {
      "application/vnd.jupyter.widget-view+json": {
       "model_id": "a945e7d24f514e6e9d31ad442d2469e8",
       "version_major": 2,
       "version_minor": 0
      },
      "text/plain": [
       "Canvas(toolbar=Toolbar(toolitems=[('Home', 'Reset original view', 'home', 'home'), ('Back', 'Back to previous …"
      ]
     },
     "metadata": {},
     "output_type": "display_data"
    },
    {
     "name": "stderr",
     "output_type": "stream",
     "text": [
      "/usr/local/lib/python3.6/dist-packages/ipykernel_launcher.py:32: RuntimeWarning: More than 20 figures have been opened. Figures created through the pyplot interface (`matplotlib.pyplot.figure`) are retained until explicitly closed and may consume too much memory. (To control this warning, see the rcParam `figure.max_open_warning`).\n"
     ]
    },
    {
     "data": {
      "application/vnd.jupyter.widget-view+json": {
       "model_id": "7d52009f6b5547a0b79de095fd981dcc",
       "version_major": 2,
       "version_minor": 0
      },
      "text/plain": [
       "Canvas(toolbar=Toolbar(toolitems=[('Home', 'Reset original view', 'home', 'home'), ('Back', 'Back to previous …"
      ]
     },
     "metadata": {},
     "output_type": "display_data"
    },
    {
     "name": "stderr",
     "output_type": "stream",
     "text": [
      "/usr/local/lib/python3.6/dist-packages/ipykernel_launcher.py:38: RuntimeWarning: More than 20 figures have been opened. Figures created through the pyplot interface (`matplotlib.pyplot.figure`) are retained until explicitly closed and may consume too much memory. (To control this warning, see the rcParam `figure.max_open_warning`).\n"
     ]
    },
    {
     "data": {
      "application/vnd.jupyter.widget-view+json": {
       "model_id": "0e1a58444e554dccb25d4cec3c8931f8",
       "version_major": 2,
       "version_minor": 0
      },
      "text/plain": [
       "Canvas(toolbar=Toolbar(toolitems=[('Home', 'Reset original view', 'home', 'home'), ('Back', 'Back to previous …"
      ]
     },
     "metadata": {},
     "output_type": "display_data"
    },
    {
     "name": "stdout",
     "output_type": "stream",
     "text": [
      "4.287133536640046\n"
     ]
    }
   ],
   "source": [
    "filename = 'best_with_auroral_region4_weighted'\n",
    "model = tensorflow.keras.models.load_model(filename)\n",
    "\n",
    "model.evaluate(X_val_scaled,y_val_log)\n",
    "model.evaluate(X_val_real_senario_scaled,y_val_log)\n",
    "\n",
    "\n",
    "results1 = model.predict(X_val_real_senario_scaled)#, y_val_log.values)#, batch_size=128)\n",
    "print(results1.shape[0])\n",
    "results = np.zeros((results1.shape[0]))\n",
    "y = np.zeros((results1.shape[0]))\n",
    "print(y.shape)\n",
    "for i in range(0,results1.shape[0]):\n",
    "    results[i]= np.sum(results1[i,:])\n",
    "    y[i] = np.sum(y_val_log[i,:])\n",
    "    \n",
    "df_results = pd.DataFrame(data=results, index = X_val.index)\n",
    "y = pd.DataFrame(data=y, index = X_val.index)\n",
    "\n",
    "plt.figure()\n",
    "plt.plot(y[:500])\n",
    "plt.plot(df_results[:500])\n",
    "plt.legend(['val', 'result'], loc='upper left')\n",
    "plt.show()\n",
    "\n",
    "plt.figure()\n",
    "plt.plot(y[:5000])\n",
    "plt.plot(df_results[:5000])\n",
    "plt.legend(['val', 'result'], loc='upper left')\n",
    "plt.show()\n",
    "\n",
    "plt.figure()\n",
    "plt.plot(y[:])\n",
    "plt.plot(df_results[:])\n",
    "plt.legend(['val', 'result'], loc='upper left')\n",
    "plt.show()\n",
    "\n",
    "plt.figure()\n",
    "plt.plot(y[-500:])\n",
    "plt.plot(df_results[-500:])\n",
    "plt.legend(['val', 'result'], loc='upper left')\n",
    "plt.show()\n",
    "\n",
    "mse_final = np.average((df_results.values-y.values)**2)\n",
    "print(mse_final)"
   ]
  },
  {
   "cell_type": "code",
   "execution_count": null,
   "metadata": {},
   "outputs": [],
   "source": []
  },
  {
   "cell_type": "code",
   "execution_count": 78,
   "metadata": {},
   "outputs": [
    {
     "name": "stdout",
     "output_type": "stream",
     "text": [
      "1726/1726 [==============================] - 2s 974us/step - loss: 4.1978 - mean_squared_error: 4.1978 - mean_absolute_error: 1.6392\n",
      "1726/1726 [==============================] - 2s 942us/step - loss: 4.5414 - mean_squared_error: 4.5414 - mean_absolute_error: 1.7048\n"
     ]
    },
    {
     "name": "stderr",
     "output_type": "stream",
     "text": [
      "/usr/local/lib/python3.6/dist-packages/ipykernel_launcher.py:15: RuntimeWarning: More than 20 figures have been opened. Figures created through the pyplot interface (`matplotlib.pyplot.figure`) are retained until explicitly closed and may consume too much memory. (To control this warning, see the rcParam `figure.max_open_warning`).\n",
      "  from ipykernel import kernelapp as app\n"
     ]
    },
    {
     "data": {
      "application/vnd.jupyter.widget-view+json": {
       "model_id": "251809ea1d864646b042c63817a1cc76",
       "version_major": 2,
       "version_minor": 0
      },
      "text/plain": [
       "Canvas(toolbar=Toolbar(toolitems=[('Home', 'Reset original view', 'home', 'home'), ('Back', 'Back to previous …"
      ]
     },
     "metadata": {},
     "output_type": "display_data"
    },
    {
     "name": "stderr",
     "output_type": "stream",
     "text": [
      "/usr/local/lib/python3.6/dist-packages/ipykernel_launcher.py:21: RuntimeWarning: More than 20 figures have been opened. Figures created through the pyplot interface (`matplotlib.pyplot.figure`) are retained until explicitly closed and may consume too much memory. (To control this warning, see the rcParam `figure.max_open_warning`).\n"
     ]
    },
    {
     "data": {
      "application/vnd.jupyter.widget-view+json": {
       "model_id": "9ca4c5ba2c9c44ccabd10f2498d1d9e6",
       "version_major": 2,
       "version_minor": 0
      },
      "text/plain": [
       "Canvas(toolbar=Toolbar(toolitems=[('Home', 'Reset original view', 'home', 'home'), ('Back', 'Back to previous …"
      ]
     },
     "metadata": {},
     "output_type": "display_data"
    },
    {
     "name": "stderr",
     "output_type": "stream",
     "text": [
      "/usr/local/lib/python3.6/dist-packages/ipykernel_launcher.py:27: RuntimeWarning: More than 20 figures have been opened. Figures created through the pyplot interface (`matplotlib.pyplot.figure`) are retained until explicitly closed and may consume too much memory. (To control this warning, see the rcParam `figure.max_open_warning`).\n"
     ]
    },
    {
     "data": {
      "application/vnd.jupyter.widget-view+json": {
       "model_id": "b20fc7e98a104f74a2bcde8fc7ac501a",
       "version_major": 2,
       "version_minor": 0
      },
      "text/plain": [
       "Canvas(toolbar=Toolbar(toolitems=[('Home', 'Reset original view', 'home', 'home'), ('Back', 'Back to previous …"
      ]
     },
     "metadata": {},
     "output_type": "display_data"
    },
    {
     "name": "stderr",
     "output_type": "stream",
     "text": [
      "/usr/local/lib/python3.6/dist-packages/ipykernel_launcher.py:33: RuntimeWarning: More than 20 figures have been opened. Figures created through the pyplot interface (`matplotlib.pyplot.figure`) are retained until explicitly closed and may consume too much memory. (To control this warning, see the rcParam `figure.max_open_warning`).\n"
     ]
    },
    {
     "data": {
      "application/vnd.jupyter.widget-view+json": {
       "model_id": "e60fa548a650492eb9984b4185ff5186",
       "version_major": 2,
       "version_minor": 0
      },
      "text/plain": [
       "Canvas(toolbar=Toolbar(toolitems=[('Home', 'Reset original view', 'home', 'home'), ('Back', 'Back to previous …"
      ]
     },
     "metadata": {},
     "output_type": "display_data"
    }
   ],
   "source": [
    "# This is without the vector output\n",
    "\n",
    "filename = 'best_with_auroral_region_weights'\n",
    "model = tensorflow.keras.models.load_model(filename)\n",
    "\n",
    "model.evaluate(X_val_scaled,y.values)\n",
    "model.evaluate(X_val_real_senario_scaled,y.values)\n",
    "\n",
    "\n",
    "results = model.predict(X_val_real_senario_scaled)#, y_val_log.values)#, batch_size=128)\n",
    "\n",
    "    \n",
    "df_results = pd.DataFrame(data=results, index = X_val.index)\n",
    "\n",
    "plt.figure()\n",
    "plt.plot(y[:500])\n",
    "plt.plot(df_results[:500])\n",
    "plt.legend(['val', 'result'], loc='upper left')\n",
    "plt.show()\n",
    "\n",
    "plt.figure()\n",
    "plt.plot(y[:5000])\n",
    "plt.plot(df_results[:5000])\n",
    "plt.legend(['val', 'result'], loc='upper left')\n",
    "plt.show()\n",
    "\n",
    "plt.figure()\n",
    "plt.plot(y[:])\n",
    "plt.plot(df_results[:])\n",
    "plt.legend(['val', 'result'], loc='upper left')\n",
    "plt.show()\n",
    "\n",
    "plt.figure()\n",
    "plt.plot(y[-500:])\n",
    "plt.plot(df_results[-500:])\n",
    "plt.legend(['val', 'result'], loc='upper left')\n",
    "plt.show()\n"
   ]
  },
  {
   "cell_type": "code",
   "execution_count": 81,
   "metadata": {
    "scrolled": false
   },
   "outputs": [
    {
     "name": "stderr",
     "output_type": "stream",
     "text": [
      "/usr/local/lib/python3.6/dist-packages/ipykernel_launcher.py:1: RuntimeWarning: More than 20 figures have been opened. Figures created through the pyplot interface (`matplotlib.pyplot.figure`) are retained until explicitly closed and may consume too much memory. (To control this warning, see the rcParam `figure.max_open_warning`).\n",
      "  \"\"\"Entry point for launching an IPython kernel.\n"
     ]
    },
    {
     "data": {
      "application/vnd.jupyter.widget-view+json": {
       "model_id": "53c71b0c69314bd99ce93461fd30502d",
       "version_major": 2,
       "version_minor": 0
      },
      "text/plain": [
       "Canvas(toolbar=Toolbar(toolitems=[('Home', 'Reset original view', 'home', 'home'), ('Back', 'Back to previous …"
      ]
     },
     "metadata": {},
     "output_type": "display_data"
    }
   ],
   "source": [
    "fig, ax1 = plt.subplots()\n",
    "\n",
    "color = 'tab:red'\n",
    "ax1.set_xlabel('time (s)')\n",
    "ax1.set_ylabel('flux', color=color)\n",
    "ax1.tick_params(axis='y', labelcolor=color)\n",
    "\n",
    "ax1.plot(y[:5000])\n",
    "ax1.plot(df_results[:5000])\n",
    "\n",
    "\n",
    "filename = 'best_base_line'\n",
    "model = tensorflow.keras.models.load_model(filename)\n",
    "results_baseline = model.predict(X_val_scaled[:,:148])#, y_val_log.values)#, batch_size=128)\n",
    "df_results_baseline = pd.DataFrame(data=results_baseline, index = X_val.index)\n",
    "\n",
    "ax1.plot(df_results_baseline[:5000])\n",
    "\n",
    "ax1.legend(['true energy flux', 'predicted with auroral region', 'predicted  baseline'], loc='lower left')\n",
    "plt.title('Weighted samples')\n",
    "plt.show()\n",
    "\n",
    "\n",
    "ax2 = ax1.twinx()  # instantiate a second axes that shares the same x-axis\n",
    "\n",
    "color = 'tab:purple'\n",
    "ax2.set_ylabel('MLat', color=color)  # we already handled the x-label with ax1\n",
    "ax2.tick_params(axis='y', labelcolor=color)\n",
    "ax2.plot(X_val['SC_AACGM_LAT'][:5000], color=color)\n",
    "ax1.legend(['true energy flux', 'predicted with auroral region', 'predicted  baseline'], loc='lower left')\n",
    "\n",
    "\n",
    "fig.tight_layout()  # otherwise the right y-label is slightly clipped\n"
   ]
  },
  {
   "cell_type": "markdown",
   "metadata": {},
   "source": [
    "# Trying Multi-modal without auroral region type as input for X (This is working)\n",
    "(but still using the auroal type to specify y_train and y_val for which of the three modes it is in)"
   ]
  },
  {
   "cell_type": "code",
   "execution_count": 40,
   "metadata": {},
   "outputs": [],
   "source": [
    "feature_cols = [c for c in X_val.columns if not 'aurora_type' in c]\n",
    "X_val = X_val[feature_cols].copy(deep=True)\n",
    "X_train = X_train[feature_cols].copy(deep=True)\n",
    "\n",
    "scaler_X = preprocessing.RobustScaler()\n",
    "scaler_X = scaler_X.fit(X_train.values)\n",
    "X_val_scaled = scaler_X.transform(X_val.values)\n",
    "X_train_scaled = scaler_X.transform(X_train.values)\n",
    "\n",
    "X = np.array(X_train_scaled, dtype=np.float32)\n",
    "X_test = np.array(X_val_scaled, dtype=np.float32)\n"
   ]
  },
  {
   "cell_type": "code",
   "execution_count": 41,
   "metadata": {
    "scrolled": true
   },
   "outputs": [],
   "source": [
    "# model = Sequential()\n",
    "\n",
    "# model.add(Dense(int(256), activation='relu'))\n",
    "# model.add(Dropout(.5))\n",
    "# model.add(Dense(64, activation='relu'))\n",
    "# model.add(Dense(8, activation='relu'))\n",
    "# model.add(Dense(3))\n",
    "\n",
    "\n",
    "# #compile model using accuracy to measure model performance\n",
    "# model.compile(loss='mse', optimizer='adam',  metrics=['mse'])\n",
    "\n",
    "# history = model.fit(X, np.array(y_train_log),\n",
    "#                     validation_data=(X_test, np.array(y_val_log)), batch_size=1024,epochs=1000, sample_weight=sample_weights)"
   ]
  },
  {
   "cell_type": "code",
   "execution_count": 42,
   "metadata": {},
   "outputs": [
    {
     "name": "stdout",
     "output_type": "stream",
     "text": [
      "1726/1726 [==============================] - 1s 825us/step - loss: 33.8009 - mean_squared_error: 33.8009\n",
      "55210\n",
      "(55210,)\n"
     ]
    },
    {
     "name": "stderr",
     "output_type": "stream",
     "text": [
      "/usr/local/lib/python3.6/dist-packages/ipykernel_launcher.py:22: RuntimeWarning: More than 20 figures have been opened. Figures created through the pyplot interface (`matplotlib.pyplot.figure`) are retained until explicitly closed and may consume too much memory. (To control this warning, see the rcParam `figure.max_open_warning`).\n"
     ]
    },
    {
     "data": {
      "application/vnd.jupyter.widget-view+json": {
       "model_id": "6dfde11b85fb471589c83bc370966d54",
       "version_major": 2,
       "version_minor": 0
      },
      "text/plain": [
       "Canvas(toolbar=Toolbar(toolitems=[('Home', 'Reset original view', 'home', 'home'), ('Back', 'Back to previous …"
      ]
     },
     "metadata": {},
     "output_type": "display_data"
    },
    {
     "name": "stdout",
     "output_type": "stream",
     "text": [
      "4.5460274193608345\n"
     ]
    }
   ],
   "source": [
    "filename = 'best_modal__weighted'\n",
    "\n",
    "# model.save(filename)\n",
    "# model.save_weights('my_model_weights2.h5')\n",
    "\n",
    "model = tensorflow.keras.models.load_model(filename)\n",
    "\n",
    "model.evaluate(X_test,y_val_log)\n",
    "\n",
    "results1 = model.predict(X_test)#, y_val_log.values)#, batch_size=128)\n",
    "print(results1.shape[0])\n",
    "results = np.zeros((results1.shape[0]))\n",
    "y = np.zeros((results1.shape[0]))\n",
    "print(y.shape)\n",
    "for i in range(0,results1.shape[0]):\n",
    "    results[i]= np.max(results1[i,:])\n",
    "    y[i] = np.max(y_val_log[i,:])\n",
    "\n",
    "df_results = pd.DataFrame(data=results, index = X_val.index)\n",
    "y = pd.DataFrame(data=y, index = X_val.index)\n",
    "\n",
    "plt.figure()\n",
    "plt.plot(y[-500:])\n",
    "plt.plot(df_results[-500:])\n",
    "plt.legend(['val', 'result'], loc='upper left')\n",
    "plt.show()   \n",
    "\n",
    "\n",
    "mse_final = np.average((df_results.values-y.values)**2)\n",
    "print(mse_final)"
   ]
  },
  {
   "cell_type": "code",
   "execution_count": 44,
   "metadata": {},
   "outputs": [
    {
     "name": "stdout",
     "output_type": "stream",
     "text": [
      "55210\n",
      "(55210,)\n"
     ]
    },
    {
     "name": "stderr",
     "output_type": "stream",
     "text": [
      "/usr/local/lib/python3.6/dist-packages/ipykernel_launcher.py:14: RuntimeWarning: More than 20 figures have been opened. Figures created through the pyplot interface (`matplotlib.pyplot.figure`) are retained until explicitly closed and may consume too much memory. (To control this warning, see the rcParam `figure.max_open_warning`).\n",
      "  \n"
     ]
    },
    {
     "data": {
      "application/vnd.jupyter.widget-view+json": {
       "model_id": "c9fe3f20759d45689087c153ca227d40",
       "version_major": 2,
       "version_minor": 0
      },
      "text/plain": [
       "Canvas(toolbar=Toolbar(toolitems=[('Home', 'Reset original view', 'home', 'home'), ('Back', 'Back to previous …"
      ]
     },
     "metadata": {},
     "output_type": "display_data"
    },
    {
     "name": "stdout",
     "output_type": "stream",
     "text": [
      "3.9261112393614046\n"
     ]
    }
   ],
   "source": [
    "\n",
    "results1 = model.predict(X_test)#, y_val_log.values)#, batch_size=128)\n",
    "print(results1.shape[0])\n",
    "results = np.zeros((results1.shape[0]))\n",
    "y = np.zeros((results1.shape[0]))\n",
    "print(y.shape)\n",
    "for i in range(0,results1.shape[0]):\n",
    "    results[i]= np.sum(results1[i,:])\n",
    "    y[i] = np.sum(y_val_log[i,:])\n",
    "\n",
    "    \n",
    "df_results = pd.DataFrame(data=results, index = X_val.index)\n",
    "y = pd.DataFrame(data=y, index = X_val.index)\n",
    "\n",
    "plt.figure()\n",
    "plt.plot(y[-500:])\n",
    "plt.plot(df_results[-500:])\n",
    "plt.legend(['val', 'result'], loc='upper left')\n",
    "plt.show()   \n",
    "\n",
    "mse_final = np.average((df_results.values-y.values)**2)\n",
    "print(mse_final)\n"
   ]
  },
  {
   "cell_type": "code",
   "execution_count": 45,
   "metadata": {
    "scrolled": true
   },
   "outputs": [],
   "source": [
    "# history = model.fit(X, np.array(y_train_log), validation_data=(X_test, np.array(y_val_log)), batch_size=1024,epochs=1000)"
   ]
  },
  {
   "cell_type": "code",
   "execution_count": null,
   "metadata": {},
   "outputs": [],
   "source": []
  },
  {
   "cell_type": "markdown",
   "metadata": {},
   "source": [
    "# now test one of the models at one time for the whole earth"
   ]
  },
  {
   "cell_type": "code",
   "execution_count": 98,
   "metadata": {},
   "outputs": [
    {
     "name": "stdout",
     "output_type": "stream",
     "text": [
      "0 SC_AACGM_LAT\n",
      "1 ID_SC\n",
      "2 sin_ut\n",
      "3 cos_ut\n",
      "4 sin_doy\n",
      "5 cos_doy\n",
      "6 sin_SC_AACGM_LTIME\n",
      "7 cos_SC_AACGM_LTIME\n",
      "8 F107\n",
      "9 Bz\n",
      "10 By\n",
      "11 Bx\n",
      "(100, 100, 149)\n",
      "[[ 9.00000000e+01  1.60000000e+01  5.94822787e-01 -8.03856861e-01\n",
      "   5.16196672e-02  9.98666816e-01  3.71662157e-01  9.28368053e-01]\n",
      " [ 9.00000000e+01  1.60000000e+01  5.94822787e-01 -8.03856861e-01\n",
      "   5.16196672e-02  9.98666816e-01  4.29794573e-01  9.02926700e-01]]\n"
     ]
    },
    {
     "data": {
      "image/png": "[encoded data removed]",
      "text/plain": [
       "<Figure size 432x288 with 1 Axes>"
      ]
     },
     "metadata": {
      "needs_background": "light"
     },
     "output_type": "display_data"
    }
   ],
   "source": [
    "df_val = pd.read_pickle(\"./with_aurora_type_val.pkl\")\n",
    "df_train = pd.read_pickle(\"./with_aurora_type_train.pkl\")\n",
    "\n",
    "df_val['aurora_type'][ df_val['aurora_type']==4 ]= 1\n",
    "df_train['aurora_type'][ df_train['aurora_type']==4 ]= 1\n",
    "\n",
    "filename = 'best_auroral_region_predictor'\n",
    "\n",
    "model2 = tensorflow.keras.models.load_model(filename)\n",
    "\n",
    "feature_cols = [c for c in df_train.columns if not 'ELE' in c]\n",
    "for i in range(0,12):\n",
    "    print(i, feature_cols[i])\n",
    "    \n",
    "X_val = df_val[feature_cols].copy(deep=True)\n",
    "X_train = df_train[feature_cols].copy(deep=True)\n",
    "X_train_no_aurora_type = X_train.drop(columns='aurora_type')\n",
    "scaler_X_region = preprocessing.RobustScaler()\n",
    "scaler_X_region = scaler_X_region.fit(X_train_no_aurora_type.values)\n",
    "# X_val_scaled = scaler_X_region.transform(X_val_no_aurora_type.values)\n",
    "\n",
    "X_train = df_train[feature_cols].copy(deep=True)\n",
    "scaler_X_all = preprocessing.RobustScaler()\n",
    "scaler_X_all = scaler_X_all.fit(X_train.values)\n",
    "\n",
    "\n",
    "mlatgridN = np.linspace(45,90,num=100)\n",
    "mltgridN =  np.linspace(0,24,num=100)\n",
    "\n",
    "test_i = 400\n",
    "model_input = np.zeros((mlatgridN.shape[0], mltgridN.shape[0],149))\n",
    "flux = np.zeros((mlatgridN.shape[0], mltgridN.shape[0]))\n",
    "print(model_input.shape)\n",
    "for i in range(0,mlatgridN.shape[0]):\n",
    "    for j in range(0,mltgridN.shape[0]):      \n",
    "        #calc cos and sin\n",
    "        rads = mltgridN[j]*15*3.14159/180.\n",
    "        model_input[i,j,:148]=X_val.values[test_i,:148]\n",
    "        model_input[i,j,7]=np.cos(rads)\n",
    "        model_input[i,j,6]=np.sin(rads)\n",
    "        model_input[i,j,0]=mlatgridN[i]\n",
    "\n",
    "for i in range(0,mlatgridN.shape[0]):\n",
    "    # scale input\n",
    "    X_val_scaled = scaler_X_region.transform(model_input[i,:,:148])\n",
    "    #get auroral region\n",
    "    results = (model2.predict_classes(X_val_scaled))+1\n",
    "    model_input[i,:,148] = results\n",
    "\n",
    "for i in range(0,mlatgridN.shape[0]):\n",
    "    for j in range(0,mltgridN.shape[0]):        \n",
    "        #calc cos and sin\n",
    "        rads = mltgridN[j]*15*3.14159/180.\n",
    "        model_input[i,j,:148]=X_val.values[test_i,:148]\n",
    "        model_input[i,j,7]=np.cos(rads)\n",
    "        model_input[i,j,6]=np.sin(rads)\n",
    "        model_input[i,j,0]=mlatgridN[i]\n",
    "\n",
    "filename = 'best_with_auroral_region_weights'\n",
    "model = tensorflow.keras.models.load_model(filename)       \n",
    "for i in range(0,mlatgridN.shape[0]):\n",
    "    for j in range(0,mlatgridN.shape[0]):\n",
    "    # scale input\n",
    "        shaped = np.reshape(model_input[i,j,:],(1,149))\n",
    "        X_val_scaled = scaler_X_all.transform(shaped)\n",
    "        #get auroral region\n",
    "        flux[i,j] = model.predict(X_val_scaled)[0]\n",
    "\n",
    "# #Here's how you go back to LTIME from sin and cos of LTIME: np.degrees( np.arctan2(sin_LTIME,cos_LTIME) ) / 15.\n",
    "plt.plot(flux[i,:])\n",
    "plt.plot(flux[:,j])\n",
    "\n",
    "print(model_input[i,6:8,0:8])"
   ]
  },
  {
   "cell_type": "code",
   "execution_count": 99,
   "metadata": {},
   "outputs": [],
   "source": [
    "# np.degrees( np.arctan2(.99613417,.087411837) ) / 15"
   ]
  },
  {
   "cell_type": "code",
   "execution_count": 101,
   "metadata": {
    "scrolled": false
   },
   "outputs": [
    {
     "data": {
      "image/png": "[encoded data removed]",
      "text/plain": [
       "<Figure size 1800x900 with 2 Axes>"
      ]
     },
     "metadata": {
      "needs_background": "light"
     },
     "output_type": "display_data"
    },
    {
     "data": {
      "image/png": "[encoded data removed]",
      "text/plain": [
       "<Figure size 1800x900 with 2 Axes>"
      ]
     },
     "metadata": {
      "needs_background": "light"
     },
     "output_type": "display_data"
    }
   ],
   "source": [
    "os.system('source ~/Downloads/cdf37_1-dist/src/definitions/definitions.K')\n",
    "os.environ[\"CDF_LIB\"] = '/home/jackalak/Downloads/cdf37_1-dist/lib'\n",
    "from ovationpyme.ovation_plotting import latlt2polar,polar2dial,pcolor_flux\n",
    "%matplotlib inline\n",
    "\n",
    "\n",
    "\n",
    "\n",
    "f = plt.figure(figsize=(12,6),dpi=150)\n",
    "axN = f.add_subplot(121,projection='polar')\n",
    "pcolor_kwargs = {'cmap':'gnuplot'}\n",
    "mappableN = pcolor_flux(axN,mlatgridN,mltgridN, model_input[:,:,148] ,'N',**pcolor_kwargs)\n",
    "f.colorbar(mappableN,ax=axN,label='Auroral Region')\n",
    "axN.set_title('Northern Hemisphere')\n",
    "polar2dial(axN)\n",
    "f.suptitle('')\n",
    "plt.show()\n",
    "\n",
    "f = plt.figure(figsize=(12,6),dpi=150)\n",
    "axN = f.add_subplot(121,projection='polar')\n",
    "pcolor_kwargs = {'cmap':'gnuplot'}\n",
    "mappableN = pcolor_flux(axN,mlatgridN,mltgridN,flux,'N',**pcolor_kwargs)\n",
    "f.colorbar(mappableN,ax=axN,label='Total Flux')\n",
    "axN.set_title('Northern Hemisphere')\n",
    "polar2dial(axN)\n",
    "f.suptitle('')\n",
    "plt.show()\n",
    "\n"
   ]
  },
  {
   "cell_type": "code",
   "execution_count": null,
   "metadata": {},
   "outputs": [],
   "source": []
  },
  {
   "cell_type": "code",
   "execution_count": null,
   "metadata": {},
   "outputs": [],
   "source": []
  },
  {
   "cell_type": "code",
   "execution_count": null,
   "metadata": {},
   "outputs": [],
   "source": []
  }
 ],
 "metadata": {
  "kernelspec": {
   "display_name": "Python 3",
   "language": "python",
   "name": "python3"
  },
  "language_info": {
   "codemirror_mode": {
    "name": "ipython",
    "version": 3
   },
   "file_extension": ".py",
   "mimetype": "text/x-python",
   "name": "python",
   "nbconvert_exporter": "python",
   "pygments_lexer": "ipython3",
   "version": "3.6.9"
  }
 },
 "nbformat": 4,
 "nbformat_minor": 2
}
