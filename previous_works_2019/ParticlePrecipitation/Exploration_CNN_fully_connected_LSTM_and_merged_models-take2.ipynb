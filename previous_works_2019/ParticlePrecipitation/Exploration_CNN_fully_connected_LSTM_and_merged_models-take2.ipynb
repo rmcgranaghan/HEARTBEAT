{
 "cells": [
  {
   "cell_type": "code",
   "execution_count": 1,
   "metadata": {},
   "outputs": [],
   "source": [
    "from tensorflow.compat.v1 import ConfigProto\n",
    "from tensorflow.compat.v1 import InteractiveSession\n",
    "\n",
    "config = ConfigProto()\n",
    "config.gpu_options.allow_growth = True\n",
    "session = InteractiveSession(config=config)\n",
    "\n"
   ]
  },
  {
   "cell_type": "markdown",
   "metadata": {},
   "source": [
    "## Some background reading\n",
    "\n",
    "###### Space Weather:\n",
    "- [Introduction](https://ccmc.gsfc.nasa.gov/RoR_WWW/SWREDI/2016/SpaceWeatherIntro_Bootcamp_2016.pdf)\n",
    "- [Understanding space weather](https://www.sciencedirect.com/science/article/pii/S0273117715002252)\n",
    "\n",
    "###### Particle Precipitation:\n",
    "Here are a few particle precipitation resources that I believe are most valuable to start with:\n",
    "- Technical details of the observations: [Redmon et al., [2017]](https://agupubs.onlinelibrary.wiley.com/doi/full/10.1002/2016JA023339)\n",
    "- Creating particle precipitation models from these data: [Hardy et al., [1987]](https://doi.org/10.1029/JA090iA05p04229) and [Newell et al., [2009]](https://doi.org/10.1029/2009JA014326)\n",
    "- Considered the 'state of the art' model: [OVATION PRIME](https://ccmc.gsfc.nasa.gov/models/modelinfo.php?model=Ovation%20Prime)\n",
    "\n"
   ]
  },
  {
   "cell_type": "markdown",
   "metadata": {},
   "source": [
    "## Imports and utility functions\n"
   ]
  },
  {
   "cell_type": "code",
   "execution_count": 1,
   "metadata": {
    "ExecuteTime": {
     "end_time": "2020-03-23T19:21:43.443481Z",
     "start_time": "2020-03-23T19:21:43.434394Z"
    }
   },
   "outputs": [],
   "source": [
    "import numpy as np\n",
    "import os\n",
    "import pandas as pd\n",
    "import seaborn as sns\n",
    "from pandas.plotting import register_matplotlib_converters\n",
    "register_matplotlib_converters()\n",
    "import datetime\n",
    "from os.path import isfile, join\n",
    "from sys import getsizeof\n",
    "import glob\n",
    "\n",
    "from random import *\n",
    "\n",
    "from sklearn import *"
   ]
  },
  {
   "cell_type": "markdown",
   "metadata": {
    "ExecuteTime": {
     "end_time": "2019-09-10T19:40:40.324776Z",
     "start_time": "2019-09-10T19:40:40.321957Z"
    }
   },
   "source": [
    "## Prepare data for ML exploration (read in full DB created from standard_ML_DB_preparation.ipynb)\n"
   ]
  },
  {
   "cell_type": "code",
   "execution_count": 2,
   "metadata": {
    "ExecuteTime": {
     "end_time": "2020-03-23T18:13:28.212521Z",
     "start_time": "2020-03-23T18:12:28.361995Z"
    }
   },
   "outputs": [],
   "source": [
    "file_load_df_cumulative = 'ML_DB_subsamp_ext_full_dfCumulative_complexHemisphereCombine.csv'\n",
    "DMSP_DATA_DIR=''\n",
    "df_cumulative = pd.read_csv(os.path.join(DMSP_DATA_DIR,file_load_df_cumulative))\n",
    "df_cumulative = df_cumulative.set_index('Datetimes')\n",
    "df_cumulative.index = pd.to_datetime(df_cumulative.index)\n",
    "\n",
    "cols_to_drop_validation = [c for c in df_cumulative.columns if ('STD' in c) | ('AVG' in c) | ('SC_AACGM_LTIME'==c)]\n",
    "# cols_to_drop_validation = [c for c in df.columns if ('1min' in c) | ('3min' in c) | ('4min' in c) | ('5min' in c) | ('15min' in c) | ('newell' in c) | ('STD' in c) | ('AVG' in c) | ('SC_AACGM_LTIME'==c)]\n",
    "\n",
    "df_cumulative = df_cumulative.drop(columns=cols_to_drop_validation)\n"
   ]
  },
  {
   "cell_type": "code",
   "execution_count": 3,
   "metadata": {
    "ExecuteTime": {
     "end_time": "2020-03-23T18:29:36.673170Z",
     "start_time": "2020-03-23T18:29:36.626586Z"
    }
   },
   "outputs": [
    {
     "data": {
      "text/plain": [
       "(1947016, 149)"
      ]
     },
     "execution_count": 3,
     "metadata": {},
     "output_type": "execute_result"
    }
   ],
   "source": [
    "df_cumulative.shape\n",
    "\n"
   ]
  },
  {
   "cell_type": "code",
   "execution_count": 4,
   "metadata": {
    "ExecuteTime": {
     "end_time": "2020-03-23T18:31:00.652947Z",
     "start_time": "2020-03-23T18:30:30.761576Z"
    }
   },
   "outputs": [
    {
     "name": "stdout",
     "output_type": "stream",
     "text": [
      "validation data shape = (55210, 149)\n",
      "train data shape = (1838283, 149)\n",
      "NOTE: we will use CV on the train data below to define model training and testing data,\n",
      "  so have called the withheld data *validation* data here\n"
     ]
    }
   ],
   "source": [
    "# Separate training and testing data\n",
    "mask_val = [(df_cumulative.index.year == 2010) & (df_cumulative['ID_SC'].values==16)]\n",
    "df_val = df_cumulative[mask_val[0]].copy(deep=True)\n",
    "df_train = df_cumulative.copy(deep=True).drop( df_cumulative.index[mask_val[0]])\n",
    "print('validation data shape = {}'.format(df_val.shape))\n",
    "print('train data shape = {}'.format(df_train.shape))\n",
    "print('NOTE: we will use CV on the train data below to define model training and testing data,\\n  so have called the withheld data *validation* data here')\n",
    "\n",
    "# Construct X and y\n",
    "feature_cols = [c for c in df_cumulative.columns if not 'ELE' in c]\n",
    "#print( (feature_cols))\n",
    "#print(df_cumulative.columns)\n",
    "\n",
    "X_val = df_val[feature_cols].copy(deep=True)\n",
    "y_val = df_val['ELE_TOTAL_ENERGY_FLUX'].copy(deep=True)\n",
    "X_train = df_train[feature_cols].copy(deep=True)\n",
    "y_train = df_train['ELE_TOTAL_ENERGY_FLUX'].copy(deep=True)\n",
    "scaler_X = preprocessing.RobustScaler()\n",
    "scaler_X = scaler_X.fit(X_train.values)\n",
    "X_val_scaled = scaler_X.transform(X_val.values)\n",
    "X_train_scaled = scaler_X.transform(X_train.values)\n",
    "\n",
    "numFeatures = len(X_train.columns.to_list())\n",
    "feature_labels = X_train.columns.to_list()\n",
    "#print(numFeatures)"
   ]
  },
  {
   "cell_type": "code",
   "execution_count": 5,
   "metadata": {
    "ExecuteTime": {
     "end_time": "2020-03-23T18:32:14.962971Z",
     "start_time": "2020-03-23T18:32:14.726927Z"
    }
   },
   "outputs": [
    {
     "data": {
      "text/plain": [
       "1838283"
      ]
     },
     "execution_count": 5,
     "metadata": {},
     "output_type": "execute_result"
    }
   ],
   "source": [
    "y_train_erg = y_train.copy(deep=True) * (1.60218e-12)\n",
    "y_val_erg = y_val.copy(deep=True) * (1.60218e-12)\n",
    "\n",
    "y_train[y_train == 0] = 0.0001\n",
    "y_val[y_val == 0] = 0.0001\n",
    "y_train_log = np.log10(y_train.copy(deep=True))\n",
    "y_val_log = np.log10(y_val.copy(deep=True))\n",
    "\n",
    "%matplotlib inline  \n",
    "import matplotlib.pyplot as plt\n",
    "X = np.array(X_train_scaled, dtype=np.float32)\n",
    "X_test = np.array(X_val_scaled, dtype=np.float32)\n",
    "\n",
    "Y = np.array(y_train_log, dtype=np.float32)\n",
    "X.shape\n",
    "X[:,2].size\n",
    "Y.size"
   ]
  },
  {
   "cell_type": "code",
   "execution_count": 6,
   "metadata": {},
   "outputs": [],
   "source": [
    "\n",
    "# plt.figure(figsize=(20,20))\n",
    "# #plt.scatter(X[:,3],Y)\n",
    "# plt.plot(X[:1000,2])\n",
    "# plt.plot(Y[:1000])\n",
    "\n",
    "# #plt.show()\n",
    "\n"
   ]
  },
  {
   "cell_type": "code",
   "execution_count": 7,
   "metadata": {},
   "outputs": [],
   "source": [
    "X_train_scaled.shape[1]\n",
    "hist_len = 128"
   ]
  },
  {
   "cell_type": "code",
   "execution_count": null,
   "metadata": {},
   "outputs": [],
   "source": [
    "X_train_scaled_hist = np.zeros((X.shape[0], hist_len,22, 1), dtype=np.float32)\n",
    "X_test_scaled_hist = np.zeros((X_test.shape[0], hist_len,22, 1), dtype=np.float32)\n",
    "\n",
    "for i in range(hist_len,X.shape[0]):\n",
    "    for j in range(22):    \n",
    "        X_train_scaled_hist[i-hist_len,:,j,0]= X[i-hist_len:i,j]\n",
    "        \n",
    "\n",
    "for i in range(hist_len,X_test.shape[0]):\n",
    "    for j in range(22):    \n",
    "        X_test_scaled_hist[i-hist_len,:,j,0]= X_test[i-hist_len:i,j]"
   ]
  },
  {
   "cell_type": "code",
   "execution_count": null,
   "metadata": {},
   "outputs": [],
   "source": []
  },
  {
   "cell_type": "code",
   "execution_count": null,
   "metadata": {},
   "outputs": [],
   "source": []
  },
  {
   "cell_type": "code",
   "execution_count": null,
   "metadata": {},
   "outputs": [],
   "source": [
    "# results = modelhist.evaluate(X_train_scaled_hist)#, y_val_log, batch_size=128)\n",
    "# plt.figure(figsize=(50,15))\n",
    "\n",
    "# plt.plot(y_train_log.values[:1000])\n",
    "# plt.plot(results[:1000])\n",
    "# plt.show()\n",
    "\n",
    "# results = modelhist.evaluate(X_test_scaled_hist)#, y_val_log, batch_size=128)\n",
    "# plt.figure(figsize=(50,15))\n",
    "\n",
    "# plt.plot(y_val_log.values[:1000])\n",
    "# plt.plot(results[:1000])\n",
    "# plt.show()"
   ]
  },
  {
   "cell_type": "code",
   "execution_count": null,
   "metadata": {},
   "outputs": [],
   "source": []
  },
  {
   "cell_type": "code",
   "execution_count": null,
   "metadata": {},
   "outputs": [],
   "source": []
  },
  {
   "cell_type": "code",
   "execution_count": 16,
   "metadata": {},
   "outputs": [],
   "source": [
    "import numpy as np\n",
    "X_with_log = np.zeros((X.shape[0],148*2))\n",
    "X_test_with_log = np.zeros((X_test.shape[0],148*2))\n",
    "\n",
    "X_with_log[:,:148]= X\n",
    "X_test_with_log[:,:148] = X_test\n",
    "X_with_log[:,148:]= np.log(abs(X)+.0001)\n",
    "X_test_with_log[:,148:] = np.log(abs(X_test)+.0001)"
   ]
  },
  {
   "cell_type": "code",
   "execution_count": 17,
   "metadata": {},
   "outputs": [],
   "source": [
    "from keras.models import Sequential\n",
    "from keras.layers import Dense, Conv2D, Flatten\n",
    "#create model\n",
    "model = Sequential()\n",
    "#add model layers\n",
    "\n",
    "model.add(Dense(int(148*2), activation='relu'))\n",
    "model.add(Dense(44, activation='relu'))\n",
    "model.add(Dense(4, activation='relu'))\n",
    "model.add(Dense(1))\n",
    "\n",
    "#compile model using accuracy to measure model performance\n",
    "model.compile(loss='mse', optimizer='adam', metrics=['accuracy'])"
   ]
  },
  {
   "cell_type": "code",
   "execution_count": 18,
   "metadata": {},
   "outputs": [
    {
     "name": "stdout",
     "output_type": "stream",
     "text": [
      "Train on 1838283 samples, validate on 55210 samples\n",
      "Epoch 1/6\n",
      "1838283/1838283 [==============================] - 118s 64us/step - loss: 1.0459 - accuracy: 0.0000e+00 - val_loss: 0.7121 - val_accuracy: 0.0000e+00\n",
      "Epoch 2/6\n",
      "1838283/1838283 [==============================] - 141s 77us/step - loss: 0.5601 - accuracy: 0.0000e+00 - val_loss: 0.6695 - val_accuracy: 0.0000e+00\n",
      "Epoch 3/6\n",
      "1838283/1838283 [==============================] - 144s 78us/step - loss: 0.5072 - accuracy: 5.4399e-07 - val_loss: 0.6869 - val_accuracy: 0.0000e+00\n",
      "Epoch 4/6\n",
      "1838283/1838283 [==============================] - 121s 66us/step - loss: 0.5072 - accuracy: 0.0000e+00 - val_loss: 0.6790 - val_accuracy: 0.0000e+00\n",
      "Epoch 5/6\n",
      "1838283/1838283 [==============================] - 121s 66us/step - loss: 0.4893 - accuracy: 5.4399e-07 - val_loss: 0.7120 - val_accuracy: 0.0000e+00\n",
      "Epoch 6/6\n",
      "1838283/1838283 [==============================] - 120s 65us/step - loss: 0.4790 - accuracy: 0.0000e+00 - val_loss: 0.6498 - val_accuracy: 0.0000e+00\n"
     ]
    },
    {
     "data": {
      "text/plain": [
       "<keras.callbacks.callbacks.History at 0x7f41e00fc1d0>"
      ]
     },
     "execution_count": 18,
     "metadata": {},
     "output_type": "execute_result"
    }
   ],
   "source": [
    "model.fit(X_with_log, np.array(y_train_log), validation_data=(X_test_with_log, np.array(y_val_log)), epochs=6)"
   ]
  },
  {
   "cell_type": "code",
   "execution_count": null,
   "metadata": {},
   "outputs": [],
   "source": [
    "results = model.predict(X_val_scaled)#, y_val_log.values)#, batch_size=128)\n",
    "\n",
    "#print(X_val_scaled, y_val_log.values, results)\n",
    "plt.figure(figsize=(200,20))\n",
    "\n",
    "plt.plot(y_val_log.values)\n",
    "plt.plot(results)\n",
    "plt.show()\n",
    "plt.figure(figsize=(50,15))\n",
    "\n",
    "plt.plot(y_val_log.values[:1000])\n",
    "plt.plot(results[:1000])\n",
    "plt.show()"
   ]
  },
  {
   "cell_type": "code",
   "execution_count": null,
   "metadata": {},
   "outputs": [],
   "source": [
    "plt.figure(figsize=(50,15))\n",
    "\n",
    "plt.plot(y_val_log.values[:1000])\n",
    "plt.plot(results[:1000])\n",
    "plt.show()"
   ]
  },
  {
   "cell_type": "code",
   "execution_count": 15,
   "metadata": {},
   "outputs": [
    {
     "name": "stdout",
     "output_type": "stream",
     "text": [
      "Train on 1838283 samples, validate on 55210 samples\n",
      "Epoch 1/40\n",
      "1838283/1838283 [==============================] - 132s 72us/step - loss: 1.2530 - accuracy: 0.0000e+00 - val_loss: 1.7673 - val_accuracy: 0.0000e+00\n",
      "Epoch 2/40\n",
      "1838283/1838283 [==============================] - 149s 81us/step - loss: 1.0863 - accuracy: 0.0000e+00 - val_loss: 1.7112 - val_accuracy: 0.0000e+00\n",
      "Epoch 3/40\n",
      "1838283/1838283 [==============================] - 181s 98us/step - loss: 1.0611 - accuracy: 0.0000e+00 - val_loss: 1.6446 - val_accuracy: 0.0000e+00\n",
      "Epoch 4/40\n",
      "1838283/1838283 [==============================] - 184s 100us/step - loss: 1.0473 - accuracy: 0.0000e+00 - val_loss: 1.6548 - val_accuracy: 0.0000e+00\n",
      "Epoch 5/40\n",
      "1838283/1838283 [==============================] - 198s 108us/step - loss: 1.0399 - accuracy: 0.0000e+00 - val_loss: 1.6731 - val_accuracy: 0.0000e+00\n",
      "Epoch 6/40\n",
      "1838283/1838283 [==============================] - 159s 86us/step - loss: 1.0345 - accuracy: 0.0000e+00 - val_loss: 1.6533 - val_accuracy: 0.0000e+00\n",
      "Epoch 7/40\n",
      " 115424/1838283 [>.............................] - ETA: 1:47 - loss: 1.0330 - accuracy: 0.0000e+00"
     ]
    },
    {
     "ename": "KeyboardInterrupt",
     "evalue": "",
     "output_type": "error",
     "traceback": [
      "\u001b[0;31m---------------------------------------------------------------------------\u001b[0m",
      "\u001b[0;31mKeyboardInterrupt\u001b[0m                         Traceback (most recent call last)",
      "\u001b[0;32m<ipython-input-15-24afe0625874>\u001b[0m in \u001b[0;36m<module>\u001b[0;34m\u001b[0m\n\u001b[1;32m     17\u001b[0m \u001b[0mmodel\u001b[0m\u001b[0;34m.\u001b[0m\u001b[0mcompile\u001b[0m\u001b[0;34m(\u001b[0m\u001b[0mloss\u001b[0m\u001b[0;34m=\u001b[0m\u001b[0;34m'mse'\u001b[0m\u001b[0;34m,\u001b[0m \u001b[0moptimizer\u001b[0m\u001b[0;34m=\u001b[0m\u001b[0;34m'adam'\u001b[0m\u001b[0;34m,\u001b[0m \u001b[0mmetrics\u001b[0m\u001b[0;34m=\u001b[0m\u001b[0;34m[\u001b[0m\u001b[0;34m'accuracy'\u001b[0m\u001b[0;34m]\u001b[0m\u001b[0;34m)\u001b[0m\u001b[0;34m\u001b[0m\u001b[0;34m\u001b[0m\u001b[0m\n\u001b[1;32m     18\u001b[0m \u001b[0;34m\u001b[0m\u001b[0m\n\u001b[0;32m---> 19\u001b[0;31m \u001b[0mmodel\u001b[0m\u001b[0;34m.\u001b[0m\u001b[0mfit\u001b[0m\u001b[0;34m(\u001b[0m\u001b[0mX_log\u001b[0m\u001b[0;34m,\u001b[0m \u001b[0mnp\u001b[0m\u001b[0;34m.\u001b[0m\u001b[0marray\u001b[0m\u001b[0;34m(\u001b[0m\u001b[0my_train_log\u001b[0m\u001b[0;34m)\u001b[0m\u001b[0;34m,\u001b[0m \u001b[0mvalidation_data\u001b[0m\u001b[0;34m=\u001b[0m\u001b[0;34m(\u001b[0m\u001b[0mX_test_log\u001b[0m\u001b[0;34m,\u001b[0m \u001b[0mnp\u001b[0m\u001b[0;34m.\u001b[0m\u001b[0marray\u001b[0m\u001b[0;34m(\u001b[0m\u001b[0my_val_log\u001b[0m\u001b[0;34m)\u001b[0m\u001b[0;34m)\u001b[0m\u001b[0;34m,\u001b[0m \u001b[0mepochs\u001b[0m\u001b[0;34m=\u001b[0m\u001b[0;36m40\u001b[0m\u001b[0;34m)\u001b[0m\u001b[0;34m\u001b[0m\u001b[0;34m\u001b[0m\u001b[0m\n\u001b[0m",
      "\u001b[0;32m/usr/local/lib/python3.6/dist-packages/keras/engine/training.py\u001b[0m in \u001b[0;36mfit\u001b[0;34m(self, x, y, batch_size, epochs, verbose, callbacks, validation_split, validation_data, shuffle, class_weight, sample_weight, initial_epoch, steps_per_epoch, validation_steps, validation_freq, max_queue_size, workers, use_multiprocessing, **kwargs)\u001b[0m\n\u001b[1;32m   1237\u001b[0m                                         \u001b[0msteps_per_epoch\u001b[0m\u001b[0;34m=\u001b[0m\u001b[0msteps_per_epoch\u001b[0m\u001b[0;34m,\u001b[0m\u001b[0;34m\u001b[0m\u001b[0;34m\u001b[0m\u001b[0m\n\u001b[1;32m   1238\u001b[0m                                         \u001b[0mvalidation_steps\u001b[0m\u001b[0;34m=\u001b[0m\u001b[0mvalidation_steps\u001b[0m\u001b[0;34m,\u001b[0m\u001b[0;34m\u001b[0m\u001b[0;34m\u001b[0m\u001b[0m\n\u001b[0;32m-> 1239\u001b[0;31m                                         validation_freq=validation_freq)\n\u001b[0m\u001b[1;32m   1240\u001b[0m \u001b[0;34m\u001b[0m\u001b[0m\n\u001b[1;32m   1241\u001b[0m     def evaluate(self,\n",
      "\u001b[0;32m/usr/local/lib/python3.6/dist-packages/keras/engine/training_arrays.py\u001b[0m in \u001b[0;36mfit_loop\u001b[0;34m(model, fit_function, fit_inputs, out_labels, batch_size, epochs, verbose, callbacks, val_function, val_inputs, shuffle, initial_epoch, steps_per_epoch, validation_steps, validation_freq)\u001b[0m\n\u001b[1;32m    194\u001b[0m                     \u001b[0mins_batch\u001b[0m\u001b[0;34m[\u001b[0m\u001b[0mi\u001b[0m\u001b[0;34m]\u001b[0m \u001b[0;34m=\u001b[0m \u001b[0mins_batch\u001b[0m\u001b[0;34m[\u001b[0m\u001b[0mi\u001b[0m\u001b[0;34m]\u001b[0m\u001b[0;34m.\u001b[0m\u001b[0mtoarray\u001b[0m\u001b[0;34m(\u001b[0m\u001b[0;34m)\u001b[0m\u001b[0;34m\u001b[0m\u001b[0;34m\u001b[0m\u001b[0m\n\u001b[1;32m    195\u001b[0m \u001b[0;34m\u001b[0m\u001b[0m\n\u001b[0;32m--> 196\u001b[0;31m                 \u001b[0mouts\u001b[0m \u001b[0;34m=\u001b[0m \u001b[0mfit_function\u001b[0m\u001b[0;34m(\u001b[0m\u001b[0mins_batch\u001b[0m\u001b[0;34m)\u001b[0m\u001b[0;34m\u001b[0m\u001b[0;34m\u001b[0m\u001b[0m\n\u001b[0m\u001b[1;32m    197\u001b[0m                 \u001b[0mouts\u001b[0m \u001b[0;34m=\u001b[0m \u001b[0mto_list\u001b[0m\u001b[0;34m(\u001b[0m\u001b[0mouts\u001b[0m\u001b[0;34m)\u001b[0m\u001b[0;34m\u001b[0m\u001b[0;34m\u001b[0m\u001b[0m\n\u001b[1;32m    198\u001b[0m                 \u001b[0;32mfor\u001b[0m \u001b[0ml\u001b[0m\u001b[0;34m,\u001b[0m \u001b[0mo\u001b[0m \u001b[0;32min\u001b[0m \u001b[0mzip\u001b[0m\u001b[0;34m(\u001b[0m\u001b[0mout_labels\u001b[0m\u001b[0;34m,\u001b[0m \u001b[0mouts\u001b[0m\u001b[0;34m)\u001b[0m\u001b[0;34m:\u001b[0m\u001b[0;34m\u001b[0m\u001b[0;34m\u001b[0m\u001b[0m\n",
      "\u001b[0;32m~/.local/lib/python3.6/site-packages/tensorflow/python/keras/backend.py\u001b[0m in \u001b[0;36m__call__\u001b[0;34m(self, inputs)\u001b[0m\n\u001b[1;32m   3790\u001b[0m         \u001b[0mvalue\u001b[0m \u001b[0;34m=\u001b[0m \u001b[0mmath_ops\u001b[0m\u001b[0;34m.\u001b[0m\u001b[0mcast\u001b[0m\u001b[0;34m(\u001b[0m\u001b[0mvalue\u001b[0m\u001b[0;34m,\u001b[0m \u001b[0mtensor\u001b[0m\u001b[0;34m.\u001b[0m\u001b[0mdtype\u001b[0m\u001b[0;34m)\u001b[0m\u001b[0;34m\u001b[0m\u001b[0;34m\u001b[0m\u001b[0m\n\u001b[1;32m   3791\u001b[0m       \u001b[0mconverted_inputs\u001b[0m\u001b[0;34m.\u001b[0m\u001b[0mappend\u001b[0m\u001b[0;34m(\u001b[0m\u001b[0mvalue\u001b[0m\u001b[0;34m)\u001b[0m\u001b[0;34m\u001b[0m\u001b[0;34m\u001b[0m\u001b[0m\n\u001b[0;32m-> 3792\u001b[0;31m     \u001b[0moutputs\u001b[0m \u001b[0;34m=\u001b[0m \u001b[0mself\u001b[0m\u001b[0;34m.\u001b[0m\u001b[0m_graph_fn\u001b[0m\u001b[0;34m(\u001b[0m\u001b[0;34m*\u001b[0m\u001b[0mconverted_inputs\u001b[0m\u001b[0;34m)\u001b[0m\u001b[0;34m\u001b[0m\u001b[0;34m\u001b[0m\u001b[0m\n\u001b[0m\u001b[1;32m   3793\u001b[0m \u001b[0;34m\u001b[0m\u001b[0m\n\u001b[1;32m   3794\u001b[0m     \u001b[0;31m# EagerTensor.numpy() will often make a copy to ensure memory safety.\u001b[0m\u001b[0;34m\u001b[0m\u001b[0;34m\u001b[0m\u001b[0;34m\u001b[0m\u001b[0m\n",
      "\u001b[0;32m~/.local/lib/python3.6/site-packages/tensorflow/python/eager/function.py\u001b[0m in \u001b[0;36m__call__\u001b[0;34m(self, *args, **kwargs)\u001b[0m\n\u001b[1;32m   1603\u001b[0m       \u001b[0mTypeError\u001b[0m\u001b[0;34m:\u001b[0m \u001b[0mFor\u001b[0m \u001b[0minvalid\u001b[0m \u001b[0mpositional\u001b[0m\u001b[0;34m/\u001b[0m\u001b[0mkeyword\u001b[0m \u001b[0margument\u001b[0m \u001b[0mcombinations\u001b[0m\u001b[0;34m.\u001b[0m\u001b[0;34m\u001b[0m\u001b[0;34m\u001b[0m\u001b[0m\n\u001b[1;32m   1604\u001b[0m     \"\"\"\n\u001b[0;32m-> 1605\u001b[0;31m     \u001b[0;32mreturn\u001b[0m \u001b[0mself\u001b[0m\u001b[0;34m.\u001b[0m\u001b[0m_call_impl\u001b[0m\u001b[0;34m(\u001b[0m\u001b[0margs\u001b[0m\u001b[0;34m,\u001b[0m \u001b[0mkwargs\u001b[0m\u001b[0;34m)\u001b[0m\u001b[0;34m\u001b[0m\u001b[0;34m\u001b[0m\u001b[0m\n\u001b[0m\u001b[1;32m   1606\u001b[0m \u001b[0;34m\u001b[0m\u001b[0m\n\u001b[1;32m   1607\u001b[0m   \u001b[0;32mdef\u001b[0m \u001b[0m_call_impl\u001b[0m\u001b[0;34m(\u001b[0m\u001b[0mself\u001b[0m\u001b[0;34m,\u001b[0m \u001b[0margs\u001b[0m\u001b[0;34m,\u001b[0m \u001b[0mkwargs\u001b[0m\u001b[0;34m,\u001b[0m \u001b[0mcancellation_manager\u001b[0m\u001b[0;34m=\u001b[0m\u001b[0;32mNone\u001b[0m\u001b[0;34m)\u001b[0m\u001b[0;34m:\u001b[0m\u001b[0;34m\u001b[0m\u001b[0;34m\u001b[0m\u001b[0m\n",
      "\u001b[0;32m~/.local/lib/python3.6/site-packages/tensorflow/python/eager/function.py\u001b[0m in \u001b[0;36m_call_impl\u001b[0;34m(self, args, kwargs, cancellation_manager)\u001b[0m\n\u001b[1;32m   1643\u001b[0m       raise TypeError(\"Keyword arguments {} unknown. Expected {}.\".format(\n\u001b[1;32m   1644\u001b[0m           list(kwargs.keys()), list(self._arg_keywords)))\n\u001b[0;32m-> 1645\u001b[0;31m     \u001b[0;32mreturn\u001b[0m \u001b[0mself\u001b[0m\u001b[0;34m.\u001b[0m\u001b[0m_call_flat\u001b[0m\u001b[0;34m(\u001b[0m\u001b[0margs\u001b[0m\u001b[0;34m,\u001b[0m \u001b[0mself\u001b[0m\u001b[0;34m.\u001b[0m\u001b[0mcaptured_inputs\u001b[0m\u001b[0;34m,\u001b[0m \u001b[0mcancellation_manager\u001b[0m\u001b[0;34m)\u001b[0m\u001b[0;34m\u001b[0m\u001b[0;34m\u001b[0m\u001b[0m\n\u001b[0m\u001b[1;32m   1646\u001b[0m \u001b[0;34m\u001b[0m\u001b[0m\n\u001b[1;32m   1647\u001b[0m   \u001b[0;32mdef\u001b[0m \u001b[0m_filtered_call\u001b[0m\u001b[0;34m(\u001b[0m\u001b[0mself\u001b[0m\u001b[0;34m,\u001b[0m \u001b[0margs\u001b[0m\u001b[0;34m,\u001b[0m \u001b[0mkwargs\u001b[0m\u001b[0;34m)\u001b[0m\u001b[0;34m:\u001b[0m\u001b[0;34m\u001b[0m\u001b[0;34m\u001b[0m\u001b[0m\n",
      "\u001b[0;32m~/.local/lib/python3.6/site-packages/tensorflow/python/eager/function.py\u001b[0m in \u001b[0;36m_call_flat\u001b[0;34m(self, args, captured_inputs, cancellation_manager)\u001b[0m\n\u001b[1;32m   1744\u001b[0m       \u001b[0;31m# No tape is watching; skip to running the function.\u001b[0m\u001b[0;34m\u001b[0m\u001b[0;34m\u001b[0m\u001b[0;34m\u001b[0m\u001b[0m\n\u001b[1;32m   1745\u001b[0m       return self._build_call_outputs(self._inference_function.call(\n\u001b[0;32m-> 1746\u001b[0;31m           ctx, args, cancellation_manager=cancellation_manager))\n\u001b[0m\u001b[1;32m   1747\u001b[0m     forward_backward = self._select_forward_and_backward_functions(\n\u001b[1;32m   1748\u001b[0m         \u001b[0margs\u001b[0m\u001b[0;34m,\u001b[0m\u001b[0;34m\u001b[0m\u001b[0;34m\u001b[0m\u001b[0m\n",
      "\u001b[0;32m~/.local/lib/python3.6/site-packages/tensorflow/python/eager/function.py\u001b[0m in \u001b[0;36mcall\u001b[0;34m(self, ctx, args, cancellation_manager)\u001b[0m\n\u001b[1;32m    596\u001b[0m               \u001b[0minputs\u001b[0m\u001b[0;34m=\u001b[0m\u001b[0margs\u001b[0m\u001b[0;34m,\u001b[0m\u001b[0;34m\u001b[0m\u001b[0;34m\u001b[0m\u001b[0m\n\u001b[1;32m    597\u001b[0m               \u001b[0mattrs\u001b[0m\u001b[0;34m=\u001b[0m\u001b[0mattrs\u001b[0m\u001b[0;34m,\u001b[0m\u001b[0;34m\u001b[0m\u001b[0;34m\u001b[0m\u001b[0m\n\u001b[0;32m--> 598\u001b[0;31m               ctx=ctx)\n\u001b[0m\u001b[1;32m    599\u001b[0m         \u001b[0;32melse\u001b[0m\u001b[0;34m:\u001b[0m\u001b[0;34m\u001b[0m\u001b[0;34m\u001b[0m\u001b[0m\n\u001b[1;32m    600\u001b[0m           outputs = execute.execute_with_cancellation(\n",
      "\u001b[0;32m~/.local/lib/python3.6/site-packages/tensorflow/python/eager/execute.py\u001b[0m in \u001b[0;36mquick_execute\u001b[0;34m(op_name, num_outputs, inputs, attrs, ctx, name)\u001b[0m\n\u001b[1;32m     58\u001b[0m     \u001b[0mctx\u001b[0m\u001b[0;34m.\u001b[0m\u001b[0mensure_initialized\u001b[0m\u001b[0;34m(\u001b[0m\u001b[0;34m)\u001b[0m\u001b[0;34m\u001b[0m\u001b[0;34m\u001b[0m\u001b[0m\n\u001b[1;32m     59\u001b[0m     tensors = pywrap_tfe.TFE_Py_Execute(ctx._handle, device_name, op_name,\n\u001b[0;32m---> 60\u001b[0;31m                                         inputs, attrs, num_outputs)\n\u001b[0m\u001b[1;32m     61\u001b[0m   \u001b[0;32mexcept\u001b[0m \u001b[0mcore\u001b[0m\u001b[0;34m.\u001b[0m\u001b[0m_NotOkStatusException\u001b[0m \u001b[0;32mas\u001b[0m \u001b[0me\u001b[0m\u001b[0;34m:\u001b[0m\u001b[0;34m\u001b[0m\u001b[0;34m\u001b[0m\u001b[0m\n\u001b[1;32m     62\u001b[0m     \u001b[0;32mif\u001b[0m \u001b[0mname\u001b[0m \u001b[0;32mis\u001b[0m \u001b[0;32mnot\u001b[0m \u001b[0;32mNone\u001b[0m\u001b[0;34m:\u001b[0m\u001b[0;34m\u001b[0m\u001b[0;34m\u001b[0m\u001b[0m\n",
      "\u001b[0;31mKeyboardInterrupt\u001b[0m: "
     ]
    }
   ],
   "source": [
    "\n",
    "\n",
    "\n",
    "X_log= np.log(abs(X)+.0001)\n",
    "X_test_log = np.log(abs(X_test)+.0001)\n",
    "\n",
    "\n",
    "from keras.models import Sequential\n",
    "from keras.layers import Dense, Conv2D, Flatten\n",
    "#create model\n",
    "model = Sequential()\n",
    "#add model layers\n",
    "\n",
    "model.add(Dense(int(148), activation='relu'))\n",
    "model.add(Dense(22, activation='relu'))\n",
    "model.add(Dense(4, activation='relu'))\n",
    "model.add(Dense(1))\n",
    "\n",
    "#compile model using accuracy to measure model performance\n",
    "model.compile(loss='mse', optimizer='adam', metrics=['accuracy'])\n",
    "\n",
    "model.fit(X_log, np.array(y_train_log), validation_data=(X_test_log, np.array(y_val_log)), epochs=40)"
   ]
  },
  {
   "cell_type": "code",
   "execution_count": null,
   "metadata": {},
   "outputs": [],
   "source": []
  },
  {
   "cell_type": "code",
   "execution_count": null,
   "metadata": {},
   "outputs": [],
   "source": []
  },
  {
   "cell_type": "code",
   "execution_count": null,
   "metadata": {},
   "outputs": [],
   "source": []
  },
  {
   "cell_type": "code",
   "execution_count": null,
   "metadata": {},
   "outputs": [],
   "source": []
  },
  {
   "cell_type": "code",
   "execution_count": null,
   "metadata": {},
   "outputs": [],
   "source": []
  },
  {
   "cell_type": "code",
   "execution_count": null,
   "metadata": {},
   "outputs": [],
   "source": []
  },
  {
   "cell_type": "code",
   "execution_count": 23,
   "metadata": {},
   "outputs": [],
   "source": [
    "\n",
    "from keras.models import Sequential, Model\n",
    "from keras.layers import Dense, Conv1D, Flatten, Input, LSTM, TimeDistributed, MaxPooling1D\n",
    "from keras.layers.merge import concatenate"
   ]
  },
  {
   "cell_type": "code",
   "execution_count": 35,
   "metadata": {},
   "outputs": [
    {
     "name": "stdout",
     "output_type": "stream",
     "text": [
      "Model: \"model_12\"\n",
      "_________________________________________________________________\n",
      "Layer (type)                 Output Shape              Param #   \n",
      "=================================================================\n",
      "input_12 (InputLayer)        (None, 148, 1)            0         \n",
      "_________________________________________________________________\n",
      "dense_58 (Dense)             (None, 148, 32)           64        \n",
      "_________________________________________________________________\n",
      "time_distributed_12 (TimeDis (None, 148, 32)           0         \n",
      "_________________________________________________________________\n",
      "lstm_12 (LSTM)               (None, 8)                 1312      \n",
      "_________________________________________________________________\n",
      "dense_59 (Dense)             (None, 4)                 36        \n",
      "_________________________________________________________________\n",
      "dense_60 (Dense)             (None, 1)                 5         \n",
      "=================================================================\n",
      "Total params: 1,417\n",
      "Trainable params: 1,417\n",
      "Non-trainable params: 0\n",
      "_________________________________________________________________\n",
      "Train on 1838283 samples, validate on 55210 samples\n",
      "Epoch 1/6\n",
      " 496992/1838283 [=======>......................] - ETA: 1:34:25 - loss: 1.7242 - accuracy: 0.0000e+00"
     ]
    },
    {
     "ename": "KeyboardInterrupt",
     "evalue": "",
     "output_type": "error",
     "traceback": [
      "\u001b[0;31m---------------------------------------------------------------------------\u001b[0m",
      "\u001b[0;31mKeyboardInterrupt\u001b[0m                         Traceback (most recent call last)",
      "\u001b[0;32m<ipython-input-35-fca8b2f22f12>\u001b[0m in \u001b[0;36m<module>\u001b[0;34m\u001b[0m\n\u001b[1;32m     16\u001b[0m \u001b[0mmerged_model\u001b[0m\u001b[0;34m.\u001b[0m\u001b[0mcompile\u001b[0m\u001b[0;34m(\u001b[0m\u001b[0mloss\u001b[0m\u001b[0;34m=\u001b[0m\u001b[0;34m'mse'\u001b[0m\u001b[0;34m,\u001b[0m \u001b[0moptimizer\u001b[0m\u001b[0;34m=\u001b[0m\u001b[0;34m'adam'\u001b[0m\u001b[0;34m,\u001b[0m \u001b[0mmetrics\u001b[0m\u001b[0;34m=\u001b[0m\u001b[0;34m[\u001b[0m\u001b[0;34m'accuracy'\u001b[0m\u001b[0;34m]\u001b[0m\u001b[0;34m)\u001b[0m\u001b[0;34m\u001b[0m\u001b[0;34m\u001b[0m\u001b[0m\n\u001b[1;32m     17\u001b[0m \u001b[0mmerged_model\u001b[0m\u001b[0;34m.\u001b[0m\u001b[0msummary\u001b[0m\u001b[0;34m(\u001b[0m\u001b[0;34m)\u001b[0m\u001b[0;34m\u001b[0m\u001b[0;34m\u001b[0m\u001b[0m\n\u001b[0;32m---> 18\u001b[0;31m \u001b[0mmerged_model\u001b[0m\u001b[0;34m.\u001b[0m\u001b[0mfit\u001b[0m\u001b[0;34m(\u001b[0m\u001b[0mX1\u001b[0m\u001b[0;34m,\u001b[0m \u001b[0my_train_log\u001b[0m\u001b[0;34m,\u001b[0m \u001b[0mvalidation_data\u001b[0m\u001b[0;34m=\u001b[0m\u001b[0;34m(\u001b[0m\u001b[0mX_test1\u001b[0m\u001b[0;34m,\u001b[0m \u001b[0my_val_log\u001b[0m\u001b[0;34m)\u001b[0m\u001b[0;34m,\u001b[0m \u001b[0mepochs\u001b[0m\u001b[0;34m=\u001b[0m\u001b[0;36m6\u001b[0m\u001b[0;34m)\u001b[0m\u001b[0;34m\u001b[0m\u001b[0;34m\u001b[0m\u001b[0m\n\u001b[0m",
      "\u001b[0;32m/usr/local/lib/python3.6/dist-packages/keras/engine/training.py\u001b[0m in \u001b[0;36mfit\u001b[0;34m(self, x, y, batch_size, epochs, verbose, callbacks, validation_split, validation_data, shuffle, class_weight, sample_weight, initial_epoch, steps_per_epoch, validation_steps, validation_freq, max_queue_size, workers, use_multiprocessing, **kwargs)\u001b[0m\n\u001b[1;32m   1237\u001b[0m                                         \u001b[0msteps_per_epoch\u001b[0m\u001b[0;34m=\u001b[0m\u001b[0msteps_per_epoch\u001b[0m\u001b[0;34m,\u001b[0m\u001b[0;34m\u001b[0m\u001b[0;34m\u001b[0m\u001b[0m\n\u001b[1;32m   1238\u001b[0m                                         \u001b[0mvalidation_steps\u001b[0m\u001b[0;34m=\u001b[0m\u001b[0mvalidation_steps\u001b[0m\u001b[0;34m,\u001b[0m\u001b[0;34m\u001b[0m\u001b[0;34m\u001b[0m\u001b[0m\n\u001b[0;32m-> 1239\u001b[0;31m                                         validation_freq=validation_freq)\n\u001b[0m\u001b[1;32m   1240\u001b[0m \u001b[0;34m\u001b[0m\u001b[0m\n\u001b[1;32m   1241\u001b[0m     def evaluate(self,\n",
      "\u001b[0;32m/usr/local/lib/python3.6/dist-packages/keras/engine/training_arrays.py\u001b[0m in \u001b[0;36mfit_loop\u001b[0;34m(model, fit_function, fit_inputs, out_labels, batch_size, epochs, verbose, callbacks, val_function, val_inputs, shuffle, initial_epoch, steps_per_epoch, validation_steps, validation_freq)\u001b[0m\n\u001b[1;32m    194\u001b[0m                     \u001b[0mins_batch\u001b[0m\u001b[0;34m[\u001b[0m\u001b[0mi\u001b[0m\u001b[0;34m]\u001b[0m \u001b[0;34m=\u001b[0m \u001b[0mins_batch\u001b[0m\u001b[0;34m[\u001b[0m\u001b[0mi\u001b[0m\u001b[0;34m]\u001b[0m\u001b[0;34m.\u001b[0m\u001b[0mtoarray\u001b[0m\u001b[0;34m(\u001b[0m\u001b[0;34m)\u001b[0m\u001b[0;34m\u001b[0m\u001b[0;34m\u001b[0m\u001b[0m\n\u001b[1;32m    195\u001b[0m \u001b[0;34m\u001b[0m\u001b[0m\n\u001b[0;32m--> 196\u001b[0;31m                 \u001b[0mouts\u001b[0m \u001b[0;34m=\u001b[0m \u001b[0mfit_function\u001b[0m\u001b[0;34m(\u001b[0m\u001b[0mins_batch\u001b[0m\u001b[0;34m)\u001b[0m\u001b[0;34m\u001b[0m\u001b[0;34m\u001b[0m\u001b[0m\n\u001b[0m\u001b[1;32m    197\u001b[0m                 \u001b[0mouts\u001b[0m \u001b[0;34m=\u001b[0m \u001b[0mto_list\u001b[0m\u001b[0;34m(\u001b[0m\u001b[0mouts\u001b[0m\u001b[0;34m)\u001b[0m\u001b[0;34m\u001b[0m\u001b[0;34m\u001b[0m\u001b[0m\n\u001b[1;32m    198\u001b[0m                 \u001b[0;32mfor\u001b[0m \u001b[0ml\u001b[0m\u001b[0;34m,\u001b[0m \u001b[0mo\u001b[0m \u001b[0;32min\u001b[0m \u001b[0mzip\u001b[0m\u001b[0;34m(\u001b[0m\u001b[0mout_labels\u001b[0m\u001b[0;34m,\u001b[0m \u001b[0mouts\u001b[0m\u001b[0;34m)\u001b[0m\u001b[0;34m:\u001b[0m\u001b[0;34m\u001b[0m\u001b[0;34m\u001b[0m\u001b[0m\n",
      "\u001b[0;32m~/.local/lib/python3.6/site-packages/tensorflow/python/keras/backend.py\u001b[0m in \u001b[0;36m__call__\u001b[0;34m(self, inputs)\u001b[0m\n\u001b[1;32m   3790\u001b[0m         \u001b[0mvalue\u001b[0m \u001b[0;34m=\u001b[0m \u001b[0mmath_ops\u001b[0m\u001b[0;34m.\u001b[0m\u001b[0mcast\u001b[0m\u001b[0;34m(\u001b[0m\u001b[0mvalue\u001b[0m\u001b[0;34m,\u001b[0m \u001b[0mtensor\u001b[0m\u001b[0;34m.\u001b[0m\u001b[0mdtype\u001b[0m\u001b[0;34m)\u001b[0m\u001b[0;34m\u001b[0m\u001b[0;34m\u001b[0m\u001b[0m\n\u001b[1;32m   3791\u001b[0m       \u001b[0mconverted_inputs\u001b[0m\u001b[0;34m.\u001b[0m\u001b[0mappend\u001b[0m\u001b[0;34m(\u001b[0m\u001b[0mvalue\u001b[0m\u001b[0;34m)\u001b[0m\u001b[0;34m\u001b[0m\u001b[0;34m\u001b[0m\u001b[0m\n\u001b[0;32m-> 3792\u001b[0;31m     \u001b[0moutputs\u001b[0m \u001b[0;34m=\u001b[0m \u001b[0mself\u001b[0m\u001b[0;34m.\u001b[0m\u001b[0m_graph_fn\u001b[0m\u001b[0;34m(\u001b[0m\u001b[0;34m*\u001b[0m\u001b[0mconverted_inputs\u001b[0m\u001b[0;34m)\u001b[0m\u001b[0;34m\u001b[0m\u001b[0;34m\u001b[0m\u001b[0m\n\u001b[0m\u001b[1;32m   3793\u001b[0m \u001b[0;34m\u001b[0m\u001b[0m\n\u001b[1;32m   3794\u001b[0m     \u001b[0;31m# EagerTensor.numpy() will often make a copy to ensure memory safety.\u001b[0m\u001b[0;34m\u001b[0m\u001b[0;34m\u001b[0m\u001b[0;34m\u001b[0m\u001b[0m\n",
      "\u001b[0;32m~/.local/lib/python3.6/site-packages/tensorflow/python/eager/function.py\u001b[0m in \u001b[0;36m__call__\u001b[0;34m(self, *args, **kwargs)\u001b[0m\n\u001b[1;32m   1603\u001b[0m       \u001b[0mTypeError\u001b[0m\u001b[0;34m:\u001b[0m \u001b[0mFor\u001b[0m \u001b[0minvalid\u001b[0m \u001b[0mpositional\u001b[0m\u001b[0;34m/\u001b[0m\u001b[0mkeyword\u001b[0m \u001b[0margument\u001b[0m \u001b[0mcombinations\u001b[0m\u001b[0;34m.\u001b[0m\u001b[0;34m\u001b[0m\u001b[0;34m\u001b[0m\u001b[0m\n\u001b[1;32m   1604\u001b[0m     \"\"\"\n\u001b[0;32m-> 1605\u001b[0;31m     \u001b[0;32mreturn\u001b[0m \u001b[0mself\u001b[0m\u001b[0;34m.\u001b[0m\u001b[0m_call_impl\u001b[0m\u001b[0;34m(\u001b[0m\u001b[0margs\u001b[0m\u001b[0;34m,\u001b[0m \u001b[0mkwargs\u001b[0m\u001b[0;34m)\u001b[0m\u001b[0;34m\u001b[0m\u001b[0;34m\u001b[0m\u001b[0m\n\u001b[0m\u001b[1;32m   1606\u001b[0m \u001b[0;34m\u001b[0m\u001b[0m\n\u001b[1;32m   1607\u001b[0m   \u001b[0;32mdef\u001b[0m \u001b[0m_call_impl\u001b[0m\u001b[0;34m(\u001b[0m\u001b[0mself\u001b[0m\u001b[0;34m,\u001b[0m \u001b[0margs\u001b[0m\u001b[0;34m,\u001b[0m \u001b[0mkwargs\u001b[0m\u001b[0;34m,\u001b[0m \u001b[0mcancellation_manager\u001b[0m\u001b[0;34m=\u001b[0m\u001b[0;32mNone\u001b[0m\u001b[0;34m)\u001b[0m\u001b[0;34m:\u001b[0m\u001b[0;34m\u001b[0m\u001b[0;34m\u001b[0m\u001b[0m\n",
      "\u001b[0;32m~/.local/lib/python3.6/site-packages/tensorflow/python/eager/function.py\u001b[0m in \u001b[0;36m_call_impl\u001b[0;34m(self, args, kwargs, cancellation_manager)\u001b[0m\n\u001b[1;32m   1643\u001b[0m       raise TypeError(\"Keyword arguments {} unknown. Expected {}.\".format(\n\u001b[1;32m   1644\u001b[0m           list(kwargs.keys()), list(self._arg_keywords)))\n\u001b[0;32m-> 1645\u001b[0;31m     \u001b[0;32mreturn\u001b[0m \u001b[0mself\u001b[0m\u001b[0;34m.\u001b[0m\u001b[0m_call_flat\u001b[0m\u001b[0;34m(\u001b[0m\u001b[0margs\u001b[0m\u001b[0;34m,\u001b[0m \u001b[0mself\u001b[0m\u001b[0;34m.\u001b[0m\u001b[0mcaptured_inputs\u001b[0m\u001b[0;34m,\u001b[0m \u001b[0mcancellation_manager\u001b[0m\u001b[0;34m)\u001b[0m\u001b[0;34m\u001b[0m\u001b[0;34m\u001b[0m\u001b[0m\n\u001b[0m\u001b[1;32m   1646\u001b[0m \u001b[0;34m\u001b[0m\u001b[0m\n\u001b[1;32m   1647\u001b[0m   \u001b[0;32mdef\u001b[0m \u001b[0m_filtered_call\u001b[0m\u001b[0;34m(\u001b[0m\u001b[0mself\u001b[0m\u001b[0;34m,\u001b[0m \u001b[0margs\u001b[0m\u001b[0;34m,\u001b[0m \u001b[0mkwargs\u001b[0m\u001b[0;34m)\u001b[0m\u001b[0;34m:\u001b[0m\u001b[0;34m\u001b[0m\u001b[0;34m\u001b[0m\u001b[0m\n",
      "\u001b[0;32m~/.local/lib/python3.6/site-packages/tensorflow/python/eager/function.py\u001b[0m in \u001b[0;36m_call_flat\u001b[0;34m(self, args, captured_inputs, cancellation_manager)\u001b[0m\n\u001b[1;32m   1744\u001b[0m       \u001b[0;31m# No tape is watching; skip to running the function.\u001b[0m\u001b[0;34m\u001b[0m\u001b[0;34m\u001b[0m\u001b[0;34m\u001b[0m\u001b[0m\n\u001b[1;32m   1745\u001b[0m       return self._build_call_outputs(self._inference_function.call(\n\u001b[0;32m-> 1746\u001b[0;31m           ctx, args, cancellation_manager=cancellation_manager))\n\u001b[0m\u001b[1;32m   1747\u001b[0m     forward_backward = self._select_forward_and_backward_functions(\n\u001b[1;32m   1748\u001b[0m         \u001b[0margs\u001b[0m\u001b[0;34m,\u001b[0m\u001b[0;34m\u001b[0m\u001b[0;34m\u001b[0m\u001b[0m\n",
      "\u001b[0;32m~/.local/lib/python3.6/site-packages/tensorflow/python/eager/function.py\u001b[0m in \u001b[0;36mcall\u001b[0;34m(self, ctx, args, cancellation_manager)\u001b[0m\n\u001b[1;32m    596\u001b[0m               \u001b[0minputs\u001b[0m\u001b[0;34m=\u001b[0m\u001b[0margs\u001b[0m\u001b[0;34m,\u001b[0m\u001b[0;34m\u001b[0m\u001b[0;34m\u001b[0m\u001b[0m\n\u001b[1;32m    597\u001b[0m               \u001b[0mattrs\u001b[0m\u001b[0;34m=\u001b[0m\u001b[0mattrs\u001b[0m\u001b[0;34m,\u001b[0m\u001b[0;34m\u001b[0m\u001b[0;34m\u001b[0m\u001b[0m\n\u001b[0;32m--> 598\u001b[0;31m               ctx=ctx)\n\u001b[0m\u001b[1;32m    599\u001b[0m         \u001b[0;32melse\u001b[0m\u001b[0;34m:\u001b[0m\u001b[0;34m\u001b[0m\u001b[0;34m\u001b[0m\u001b[0m\n\u001b[1;32m    600\u001b[0m           outputs = execute.execute_with_cancellation(\n",
      "\u001b[0;32m~/.local/lib/python3.6/site-packages/tensorflow/python/eager/execute.py\u001b[0m in \u001b[0;36mquick_execute\u001b[0;34m(op_name, num_outputs, inputs, attrs, ctx, name)\u001b[0m\n\u001b[1;32m     58\u001b[0m     \u001b[0mctx\u001b[0m\u001b[0;34m.\u001b[0m\u001b[0mensure_initialized\u001b[0m\u001b[0;34m(\u001b[0m\u001b[0;34m)\u001b[0m\u001b[0;34m\u001b[0m\u001b[0;34m\u001b[0m\u001b[0m\n\u001b[1;32m     59\u001b[0m     tensors = pywrap_tfe.TFE_Py_Execute(ctx._handle, device_name, op_name,\n\u001b[0;32m---> 60\u001b[0;31m                                         inputs, attrs, num_outputs)\n\u001b[0m\u001b[1;32m     61\u001b[0m   \u001b[0;32mexcept\u001b[0m \u001b[0mcore\u001b[0m\u001b[0;34m.\u001b[0m\u001b[0m_NotOkStatusException\u001b[0m \u001b[0;32mas\u001b[0m \u001b[0me\u001b[0m\u001b[0;34m:\u001b[0m\u001b[0;34m\u001b[0m\u001b[0;34m\u001b[0m\u001b[0m\n\u001b[1;32m     62\u001b[0m     \u001b[0;32mif\u001b[0m \u001b[0mname\u001b[0m \u001b[0;32mis\u001b[0m \u001b[0;32mnot\u001b[0m \u001b[0;32mNone\u001b[0m\u001b[0;34m:\u001b[0m\u001b[0;34m\u001b[0m\u001b[0;34m\u001b[0m\u001b[0m\n",
      "\u001b[0;31mKeyboardInterrupt\u001b[0m: "
     ]
    }
   ],
   "source": [
    "X1=X.reshape((X.shape[0],148,1))\n",
    "X_test1=X_test.reshape((X_test.shape[0],148,1))\n",
    "\n",
    "\n",
    "input1 = Input(shape=(148,1))\n",
    "\n",
    "model=Dense(int(32), activation='relu')(input1)\n",
    "\n",
    "merged=TimeDistributed(Flatten())(model)\n",
    "merged=LSTM(8,activation='relu')(merged)\n",
    "\n",
    "output = Dense(4, activation='relu')(merged)\n",
    "output = Dense(1)(output)\n",
    "\n",
    "merged_model = Model(inputs = input1, outputs =output )\n",
    "merged_model.compile(loss='mse', optimizer='adam', metrics=['accuracy'])\n",
    "merged_model.summary()\n",
    "merged_model.fit(X1, y_train_log, validation_data=(X_test1, y_val_log), epochs=6)\n"
   ]
  },
  {
   "cell_type": "code",
   "execution_count": 41,
   "metadata": {},
   "outputs": [
    {
     "name": "stdout",
     "output_type": "stream",
     "text": [
      "Model: \"model_18\"\n",
      "_________________________________________________________________\n",
      "Layer (type)                 Output Shape              Param #   \n",
      "=================================================================\n",
      "input_18 (InputLayer)        (None, 1, 148)            0         \n",
      "_________________________________________________________________\n",
      "time_distributed_18 (TimeDis (None, 1, 148)            0         \n",
      "_________________________________________________________________\n",
      "lstm_18 (LSTM)               (None, 32)                23168     \n",
      "_________________________________________________________________\n",
      "dense_77 (Dense)             (None, 4)                 132       \n",
      "_________________________________________________________________\n",
      "dense_78 (Dense)             (None, 1)                 5         \n",
      "=================================================================\n",
      "Total params: 23,305\n",
      "Trainable params: 23,305\n",
      "Non-trainable params: 0\n",
      "_________________________________________________________________\n",
      "Train on 1838283 samples, validate on 55210 samples\n",
      "Epoch 1/6\n",
      "1838283/1838283 [==============================] - 192s 104us/step - loss: 2.8634 - accuracy: 0.0000e+00 - val_loss: 0.8627 - val_accuracy: 0.0000e+00\n",
      "Epoch 2/6\n",
      "1838283/1838283 [==============================] - 192s 104us/step - loss: 0.5398 - accuracy: 0.0000e+00 - val_loss: 0.8126 - val_accuracy: 0.0000e+00\n",
      "Epoch 3/6\n",
      "1838283/1838283 [==============================] - 197s 107us/step - loss: 0.5124 - accuracy: 5.4399e-07 - val_loss: 0.7702 - val_accuracy: 0.0000e+00\n",
      "Epoch 4/6\n",
      "1838283/1838283 [==============================] - 203s 111us/step - loss: 0.4941 - accuracy: 0.0000e+00 - val_loss: 0.7163 - val_accuracy: 0.0000e+00\n",
      "Epoch 5/6\n",
      "1838283/1838283 [==============================] - 208s 113us/step - loss: 0.4821 - accuracy: 5.4399e-07 - val_loss: 0.7035 - val_accuracy: 0.0000e+00\n",
      "Epoch 6/6\n",
      "1838283/1838283 [==============================] - 209s 114us/step - loss: 0.4773 - accuracy: 5.4399e-07 - val_loss: 0.6840 - val_accuracy: 0.0000e+00\n"
     ]
    },
    {
     "data": {
      "text/plain": [
       "<keras.callbacks.callbacks.History at 0x7f43c9bae4e0>"
      ]
     },
     "execution_count": 41,
     "metadata": {},
     "output_type": "execute_result"
    }
   ],
   "source": [
    "X1=X.reshape((X.shape[0],1,148))\n",
    "X_test1=X_test.reshape((X_test.shape[0],1,148))\n",
    "\n",
    "\n",
    "input1 = Input(shape=(1,148))\n",
    "\n",
    "model=Dense(int(148), activation='relu')(input1)\n",
    "\n",
    "merged=TimeDistributed(Flatten())(input1)\n",
    "merged=LSTM(32,activation='relu')(merged)\n",
    "\n",
    "output = Dense(4, activation='relu')(merged)\n",
    "output = Dense(1)(output)\n",
    "\n",
    "merged_model = Model(inputs = input1, outputs =output )\n",
    "merged_model.compile(loss='mse', optimizer='adam', metrics=['accuracy'])\n",
    "merged_model.summary()\n",
    "merged_model.fit(X1, y_train_log, validation_data=(X_test1, y_val_log), epochs=6)\n"
   ]
  },
  {
   "cell_type": "code",
   "execution_count": 42,
   "metadata": {
    "scrolled": true
   },
   "outputs": [
    {
     "name": "stdout",
     "output_type": "stream",
     "text": [
      "Train on 1838283 samples, validate on 55210 samples\n",
      "Epoch 1/34\n",
      "1838283/1838283 [==============================] - 207s 113us/step - loss: 0.4713 - accuracy: 5.4399e-07 - val_loss: 0.6881 - val_accuracy: 0.0000e+00\n",
      "Epoch 2/34\n",
      "1838283/1838283 [==============================] - 207s 113us/step - loss: 0.4665 - accuracy: 5.4399e-07 - val_loss: 0.6654 - val_accuracy: 0.0000e+00\n",
      "Epoch 3/34\n",
      "1838283/1838283 [==============================] - 209s 114us/step - loss: 0.4632 - accuracy: 5.4399e-07 - val_loss: 0.6558 - val_accuracy: 0.0000e+00\n",
      "Epoch 4/34\n",
      "1838283/1838283 [==============================] - 210s 114us/step - loss: 0.4601 - accuracy: 5.4399e-07 - val_loss: 0.6562 - val_accuracy: 0.0000e+00\n",
      "Epoch 5/34\n",
      "1838283/1838283 [==============================] - 210s 114us/step - loss: 0.4605 - accuracy: 5.4399e-07 - val_loss: 0.6415 - val_accuracy: 0.0000e+00\n",
      "Epoch 6/34\n",
      "1838283/1838283 [==============================] - 195s 106us/step - loss: 0.4577 - accuracy: 5.4399e-07 - val_loss: 0.6376 - val_accuracy: 0.0000e+00\n",
      "Epoch 7/34\n",
      "1838283/1838283 [==============================] - 206s 112us/step - loss: 0.4565 - accuracy: 5.4399e-07 - val_loss: 0.6405 - val_accuracy: 0.0000e+00\n",
      "Epoch 8/34\n",
      "1838283/1838283 [==============================] - 209s 114us/step - loss: 0.4564 - accuracy: 5.4399e-07 - val_loss: 0.6386 - val_accuracy: 0.0000e+00\n",
      "Epoch 9/34\n",
      "1838283/1838283 [==============================] - 209s 114us/step - loss: 0.4540 - accuracy: 5.4399e-07 - val_loss: 0.6389 - val_accuracy: 0.0000e+00\n",
      "Epoch 10/34\n",
      "1838283/1838283 [==============================] - 210s 114us/step - loss: 0.4525 - accuracy: 5.4399e-07 - val_loss: 0.6350 - val_accuracy: 0.0000e+00\n",
      "Epoch 11/34\n",
      "1838283/1838283 [==============================] - 210s 114us/step - loss: 0.4521 - accuracy: 5.4399e-07 - val_loss: 0.6297 - val_accuracy: 0.0000e+00\n",
      "Epoch 12/34\n",
      "1838283/1838283 [==============================] - 213s 116us/step - loss: 0.4498 - accuracy: 5.4399e-07 - val_loss: 0.6273 - val_accuracy: 0.0000e+00\n",
      "Epoch 13/34\n",
      "1838283/1838283 [==============================] - 214s 117us/step - loss: 0.4492 - accuracy: 5.4399e-07 - val_loss: 0.6267 - val_accuracy: 0.0000e+00\n",
      "Epoch 14/34\n",
      "1838283/1838283 [==============================] - 216s 117us/step - loss: 0.4482 - accuracy: 5.4399e-07 - val_loss: 0.6341 - val_accuracy: 0.0000e+00\n",
      "Epoch 15/34\n",
      "1838283/1838283 [==============================] - 215s 117us/step - loss: 0.4488 - accuracy: 5.4399e-07 - val_loss: 0.6285 - val_accuracy: 0.0000e+00\n",
      "Epoch 16/34\n",
      "1838283/1838283 [==============================] - 215s 117us/step - loss: 0.4466 - accuracy: 5.4399e-07 - val_loss: 0.6424 - val_accuracy: 0.0000e+00\n",
      "Epoch 17/34\n",
      "1838283/1838283 [==============================] - 217s 118us/step - loss: 0.4470 - accuracy: 5.4399e-07 - val_loss: 0.6282 - val_accuracy: 0.0000e+00\n",
      "Epoch 18/34\n",
      "1838283/1838283 [==============================] - 215s 117us/step - loss: 0.4452 - accuracy: 5.4399e-07 - val_loss: 0.6222 - val_accuracy: 0.0000e+00\n",
      "Epoch 19/34\n",
      "1838283/1838283 [==============================] - 216s 117us/step - loss: 0.4455 - accuracy: 0.0000e+00 - val_loss: 0.6301 - val_accuracy: 0.0000e+00\n",
      "Epoch 20/34\n",
      "1838283/1838283 [==============================] - 215s 117us/step - loss: 0.4442 - accuracy: 5.4399e-07 - val_loss: 0.6261 - val_accuracy: 0.0000e+00\n",
      "Epoch 21/34\n",
      "1838283/1838283 [==============================] - 213s 116us/step - loss: 0.4447 - accuracy: 5.4399e-07 - val_loss: 0.6301 - val_accuracy: 0.0000e+00\n",
      "Epoch 22/34\n",
      "1838283/1838283 [==============================] - 210s 114us/step - loss: 0.4448 - accuracy: 5.4399e-07 - val_loss: 0.6330 - val_accuracy: 0.0000e+00\n",
      "Epoch 23/34\n",
      "1838283/1838283 [==============================] - 211s 115us/step - loss: 0.4432 - accuracy: 0.0000e+00 - val_loss: 0.6316 - val_accuracy: 0.0000e+00\n",
      "Epoch 24/34\n",
      "1838283/1838283 [==============================] - 211s 115us/step - loss: 0.4421 - accuracy: 5.4399e-07 - val_loss: 0.6278 - val_accuracy: 0.0000e+00\n",
      "Epoch 25/34\n",
      "1838283/1838283 [==============================] - 210s 114us/step - loss: 0.4426 - accuracy: 5.4399e-07 - val_loss: 0.6274 - val_accuracy: 0.0000e+00\n",
      "Epoch 26/34\n",
      "1838283/1838283 [==============================] - 210s 114us/step - loss: 0.4429 - accuracy: 5.4399e-07 - val_loss: 0.6342 - val_accuracy: 0.0000e+00\n",
      "Epoch 27/34\n",
      "1838283/1838283 [==============================] - 209s 114us/step - loss: 0.4415 - accuracy: 5.4399e-07 - val_loss: 0.6316 - val_accuracy: 0.0000e+00\n",
      "Epoch 28/34\n",
      "1838283/1838283 [==============================] - 194s 106us/step - loss: 0.4416 - accuracy: 5.4399e-07 - val_loss: 0.6244 - val_accuracy: 0.0000e+00\n",
      "Epoch 29/34\n",
      "1838283/1838283 [==============================] - 194s 105us/step - loss: 0.4408 - accuracy: 5.4399e-07 - val_loss: 0.6172 - val_accuracy: 0.0000e+00\n",
      "Epoch 30/34\n",
      "1838283/1838283 [==============================] - 193s 105us/step - loss: 0.4420 - accuracy: 5.4399e-07 - val_loss: 0.6242 - val_accuracy: 0.0000e+00\n",
      "Epoch 31/34\n",
      "1838283/1838283 [==============================] - 192s 104us/step - loss: 0.4407 - accuracy: 5.4399e-07 - val_loss: 0.6273 - val_accuracy: 0.0000e+00\n",
      "Epoch 32/34\n",
      "1838283/1838283 [==============================] - 190s 103us/step - loss: 0.4399 - accuracy: 5.4399e-07 - val_loss: 0.6300 - val_accuracy: 0.0000e+00\n",
      "Epoch 33/34\n",
      "1838283/1838283 [==============================] - 199s 108us/step - loss: 0.4397 - accuracy: 5.4399e-07 - val_loss: 0.6202 - val_accuracy: 0.0000e+00\n",
      "Epoch 34/34\n",
      "1838283/1838283 [==============================] - 197s 107us/step - loss: 0.4393 - accuracy: 5.4399e-07 - val_loss: 0.6226 - val_accuracy: 0.0000e+00\n"
     ]
    },
    {
     "data": {
      "text/plain": [
       "<keras.callbacks.callbacks.History at 0x7f43cc309080>"
      ]
     },
     "execution_count": 42,
     "metadata": {},
     "output_type": "execute_result"
    }
   ],
   "source": [
    "merged_model.fit(X1, y_train_log, validation_data=(X_test1, y_val_log), epochs=34)\n"
   ]
  },
  {
   "cell_type": "code",
   "execution_count": 22,
   "metadata": {},
   "outputs": [
    {
     "name": "stdout",
     "output_type": "stream",
     "text": [
      "Train on 1838283 samples, validate on 55210 samples\n",
      "Epoch 1/40\n",
      "1838283/1838283 [==============================] - 118s 64us/step - loss: 1.4170 - accuracy: 0.0000e+00 - val_loss: 0.8645 - val_accuracy: 0.0000e+00\n",
      "Epoch 2/40\n",
      "1838283/1838283 [==============================] - 157s 86us/step - loss: 0.5446 - accuracy: 5.4399e-07 - val_loss: 0.7546 - val_accuracy: 0.0000e+00\n",
      "Epoch 3/40\n",
      "1838283/1838283 [==============================] - 153s 83us/step - loss: 0.4959 - accuracy: 5.4399e-07 - val_loss: 0.6570 - val_accuracy: 0.0000e+00\n",
      "Epoch 4/40\n",
      "1838283/1838283 [==============================] - 133s 72us/step - loss: 0.4773 - accuracy: 5.4399e-07 - val_loss: 0.6774 - val_accuracy: 0.0000e+00\n",
      "Epoch 5/40\n",
      "1838283/1838283 [==============================] - 138s 75us/step - loss: 0.4762 - accuracy: 5.4399e-07 - val_loss: 0.6612 - val_accuracy: 0.0000e+00\n",
      "Epoch 6/40\n",
      "1838283/1838283 [==============================] - 140s 76us/step - loss: 0.4633 - accuracy: 0.0000e+00 - val_loss: 0.6643 - val_accuracy: 0.0000e+00\n",
      "Epoch 7/40\n",
      "1838283/1838283 [==============================] - 133s 73us/step - loss: 0.4624 - accuracy: 5.4399e-07 - val_loss: 0.6501 - val_accuracy: 0.0000e+00\n",
      "Epoch 8/40\n",
      "1838283/1838283 [==============================] - 136s 74us/step - loss: 0.4628 - accuracy: 5.4399e-07 - val_loss: 0.6505 - val_accuracy: 0.0000e+00\n",
      "Epoch 9/40\n",
      "1838283/1838283 [==============================] - 142s 77us/step - loss: 0.4548 - accuracy: 0.0000e+00 - val_loss: 0.6400 - val_accuracy: 0.0000e+00\n",
      "Epoch 10/40\n",
      "1838283/1838283 [==============================] - 123s 67us/step - loss: 0.4583 - accuracy: 0.0000e+00 - val_loss: 0.6584 - val_accuracy: 0.0000e+00\n",
      "Epoch 11/40\n",
      "1838283/1838283 [==============================] - 117s 64us/step - loss: 0.4538 - accuracy: 5.4399e-07 - val_loss: 0.6564 - val_accuracy: 0.0000e+00\n",
      "Epoch 12/40\n",
      "1838283/1838283 [==============================] - 117s 64us/step - loss: 0.4515 - accuracy: 0.0000e+00 - val_loss: 0.6435 - val_accuracy: 0.0000e+00\n",
      "Epoch 13/40\n",
      "1838283/1838283 [==============================] - 116s 63us/step - loss: 0.4499 - accuracy: 5.4399e-07 - val_loss: 0.6498 - val_accuracy: 0.0000e+00\n",
      "Epoch 14/40\n",
      "1838283/1838283 [==============================] - 127s 69us/step - loss: 0.4503 - accuracy: 0.0000e+00 - val_loss: 0.6448 - val_accuracy: 0.0000e+00\n",
      "Epoch 15/40\n",
      "1838283/1838283 [==============================] - 132s 72us/step - loss: 0.4584 - accuracy: 5.4399e-07 - val_loss: 0.6391 - val_accuracy: 0.0000e+00\n",
      "Epoch 16/40\n",
      "1838283/1838283 [==============================] - 132s 72us/step - loss: 0.4472 - accuracy: 0.0000e+00 - val_loss: 0.6419 - val_accuracy: 0.0000e+00\n",
      "Epoch 17/40\n",
      "1838283/1838283 [==============================] - 133s 72us/step - loss: 0.4462 - accuracy: 5.4399e-07 - val_loss: 0.6324 - val_accuracy: 0.0000e+00\n",
      "Epoch 18/40\n",
      "1838283/1838283 [==============================] - 134s 73us/step - loss: 0.4458 - accuracy: 5.4399e-07 - val_loss: 0.6271 - val_accuracy: 0.0000e+00\n",
      "Epoch 19/40\n",
      "1838283/1838283 [==============================] - 134s 73us/step - loss: 0.4446 - accuracy: 5.4399e-07 - val_loss: 0.6461 - val_accuracy: 0.0000e+00\n",
      "Epoch 20/40\n",
      "1838283/1838283 [==============================] - 133s 72us/step - loss: 0.4451 - accuracy: 0.0000e+00 - val_loss: 0.6218 - val_accuracy: 0.0000e+00\n",
      "Epoch 21/40\n",
      "1838283/1838283 [==============================] - 135s 73us/step - loss: 0.4442 - accuracy: 5.4399e-07 - val_loss: 0.6363 - val_accuracy: 0.0000e+00\n",
      "Epoch 22/40\n",
      "1838283/1838283 [==============================] - 135s 73us/step - loss: 0.4433 - accuracy: 5.4399e-07 - val_loss: 0.6457 - val_accuracy: 0.0000e+00\n",
      "Epoch 23/40\n",
      "1838283/1838283 [==============================] - 135s 73us/step - loss: 0.4436 - accuracy: 5.4399e-07 - val_loss: 0.6415 - val_accuracy: 0.0000e+00\n",
      "Epoch 24/40\n",
      "1838283/1838283 [==============================] - 133s 72us/step - loss: 0.4436 - accuracy: 0.0000e+00 - val_loss: 0.6340 - val_accuracy: 0.0000e+00\n",
      "Epoch 25/40\n",
      "1838283/1838283 [==============================] - 135s 73us/step - loss: 0.4426 - accuracy: 0.0000e+00 - val_loss: 0.6330 - val_accuracy: 0.0000e+00\n",
      "Epoch 26/40\n",
      "1838283/1838283 [==============================] - 137s 74us/step - loss: 0.4427 - accuracy: 0.0000e+00 - val_loss: 0.6434 - val_accuracy: 0.0000e+00\n",
      "Epoch 27/40\n",
      "1838283/1838283 [==============================] - 136s 74us/step - loss: 0.4416 - accuracy: 0.0000e+00 - val_loss: 0.6252 - val_accuracy: 0.0000e+00\n",
      "Epoch 28/40\n",
      "1838283/1838283 [==============================] - 149s 81us/step - loss: 0.4417 - accuracy: 5.4399e-07 - val_loss: 0.6259 - val_accuracy: 0.0000e+00\n",
      "Epoch 29/40\n",
      "1838283/1838283 [==============================] - 157s 85us/step - loss: 0.4415 - accuracy: 5.4399e-07 - val_loss: 0.6330 - val_accuracy: 0.0000e+00\n",
      "Epoch 30/40\n",
      "1838283/1838283 [==============================] - 149s 81us/step - loss: 0.4421 - accuracy: 5.4399e-07 - val_loss: 0.6224 - val_accuracy: 0.0000e+00\n",
      "Epoch 31/40\n",
      "1838283/1838283 [==============================] - 140s 76us/step - loss: 0.4416 - accuracy: 5.4399e-07 - val_loss: 0.6406 - val_accuracy: 0.0000e+00\n",
      "Epoch 32/40\n",
      "1838283/1838283 [==============================] - 144s 78us/step - loss: 0.4410 - accuracy: 5.4399e-07 - val_loss: 0.6287 - val_accuracy: 0.0000e+00\n",
      "Epoch 33/40\n",
      "1838283/1838283 [==============================] - 136s 74us/step - loss: 0.4406 - accuracy: 5.4399e-07 - val_loss: 0.6309 - val_accuracy: 0.0000e+00\n",
      "Epoch 34/40\n",
      " 401216/1838283 [=====>........................] - ETA: 1:40 - loss: 0.4389 - accuracy: 0.0000e+00"
     ]
    },
    {
     "ename": "KeyboardInterrupt",
     "evalue": "",
     "output_type": "error",
     "traceback": [
      "\u001b[0;31m---------------------------------------------------------------------------\u001b[0m",
      "\u001b[0;31mKeyboardInterrupt\u001b[0m                         Traceback (most recent call last)",
      "\u001b[0;32m<ipython-input-22-a865eee96e74>\u001b[0m in \u001b[0;36m<module>\u001b[0;34m\u001b[0m\n\u001b[1;32m     13\u001b[0m \u001b[0mmodel\u001b[0m\u001b[0;34m.\u001b[0m\u001b[0mcompile\u001b[0m\u001b[0;34m(\u001b[0m\u001b[0mloss\u001b[0m\u001b[0;34m=\u001b[0m\u001b[0;34m'mse'\u001b[0m\u001b[0;34m,\u001b[0m \u001b[0moptimizer\u001b[0m\u001b[0;34m=\u001b[0m\u001b[0;34m'adam'\u001b[0m\u001b[0;34m,\u001b[0m \u001b[0mmetrics\u001b[0m\u001b[0;34m=\u001b[0m\u001b[0;34m[\u001b[0m\u001b[0;34m'accuracy'\u001b[0m\u001b[0;34m]\u001b[0m\u001b[0;34m)\u001b[0m\u001b[0;34m\u001b[0m\u001b[0;34m\u001b[0m\u001b[0m\n\u001b[1;32m     14\u001b[0m \u001b[0;34m\u001b[0m\u001b[0m\n\u001b[0;32m---> 15\u001b[0;31m \u001b[0mmodel\u001b[0m\u001b[0;34m.\u001b[0m\u001b[0mfit\u001b[0m\u001b[0;34m(\u001b[0m\u001b[0mX\u001b[0m\u001b[0;34m,\u001b[0m \u001b[0mnp\u001b[0m\u001b[0;34m.\u001b[0m\u001b[0marray\u001b[0m\u001b[0;34m(\u001b[0m\u001b[0my_train_log\u001b[0m\u001b[0;34m)\u001b[0m\u001b[0;34m,\u001b[0m \u001b[0mvalidation_data\u001b[0m\u001b[0;34m=\u001b[0m\u001b[0;34m(\u001b[0m\u001b[0mX_test\u001b[0m\u001b[0;34m,\u001b[0m \u001b[0mnp\u001b[0m\u001b[0;34m.\u001b[0m\u001b[0marray\u001b[0m\u001b[0;34m(\u001b[0m\u001b[0my_val_log\u001b[0m\u001b[0;34m)\u001b[0m\u001b[0;34m)\u001b[0m\u001b[0;34m,\u001b[0m \u001b[0mepochs\u001b[0m\u001b[0;34m=\u001b[0m\u001b[0;36m40\u001b[0m\u001b[0;34m)\u001b[0m\u001b[0;34m\u001b[0m\u001b[0;34m\u001b[0m\u001b[0m\n\u001b[0m",
      "\u001b[0;32m/usr/local/lib/python3.6/dist-packages/keras/engine/training.py\u001b[0m in \u001b[0;36mfit\u001b[0;34m(self, x, y, batch_size, epochs, verbose, callbacks, validation_split, validation_data, shuffle, class_weight, sample_weight, initial_epoch, steps_per_epoch, validation_steps, validation_freq, max_queue_size, workers, use_multiprocessing, **kwargs)\u001b[0m\n\u001b[1;32m   1237\u001b[0m                                         \u001b[0msteps_per_epoch\u001b[0m\u001b[0;34m=\u001b[0m\u001b[0msteps_per_epoch\u001b[0m\u001b[0;34m,\u001b[0m\u001b[0;34m\u001b[0m\u001b[0;34m\u001b[0m\u001b[0m\n\u001b[1;32m   1238\u001b[0m                                         \u001b[0mvalidation_steps\u001b[0m\u001b[0;34m=\u001b[0m\u001b[0mvalidation_steps\u001b[0m\u001b[0;34m,\u001b[0m\u001b[0;34m\u001b[0m\u001b[0;34m\u001b[0m\u001b[0m\n\u001b[0;32m-> 1239\u001b[0;31m                                         validation_freq=validation_freq)\n\u001b[0m\u001b[1;32m   1240\u001b[0m \u001b[0;34m\u001b[0m\u001b[0m\n\u001b[1;32m   1241\u001b[0m     def evaluate(self,\n",
      "\u001b[0;32m/usr/local/lib/python3.6/dist-packages/keras/engine/training_arrays.py\u001b[0m in \u001b[0;36mfit_loop\u001b[0;34m(model, fit_function, fit_inputs, out_labels, batch_size, epochs, verbose, callbacks, val_function, val_inputs, shuffle, initial_epoch, steps_per_epoch, validation_steps, validation_freq)\u001b[0m\n\u001b[1;32m    194\u001b[0m                     \u001b[0mins_batch\u001b[0m\u001b[0;34m[\u001b[0m\u001b[0mi\u001b[0m\u001b[0;34m]\u001b[0m \u001b[0;34m=\u001b[0m \u001b[0mins_batch\u001b[0m\u001b[0;34m[\u001b[0m\u001b[0mi\u001b[0m\u001b[0;34m]\u001b[0m\u001b[0;34m.\u001b[0m\u001b[0mtoarray\u001b[0m\u001b[0;34m(\u001b[0m\u001b[0;34m)\u001b[0m\u001b[0;34m\u001b[0m\u001b[0;34m\u001b[0m\u001b[0m\n\u001b[1;32m    195\u001b[0m \u001b[0;34m\u001b[0m\u001b[0m\n\u001b[0;32m--> 196\u001b[0;31m                 \u001b[0mouts\u001b[0m \u001b[0;34m=\u001b[0m \u001b[0mfit_function\u001b[0m\u001b[0;34m(\u001b[0m\u001b[0mins_batch\u001b[0m\u001b[0;34m)\u001b[0m\u001b[0;34m\u001b[0m\u001b[0;34m\u001b[0m\u001b[0m\n\u001b[0m\u001b[1;32m    197\u001b[0m                 \u001b[0mouts\u001b[0m \u001b[0;34m=\u001b[0m \u001b[0mto_list\u001b[0m\u001b[0;34m(\u001b[0m\u001b[0mouts\u001b[0m\u001b[0;34m)\u001b[0m\u001b[0;34m\u001b[0m\u001b[0;34m\u001b[0m\u001b[0m\n\u001b[1;32m    198\u001b[0m                 \u001b[0;32mfor\u001b[0m \u001b[0ml\u001b[0m\u001b[0;34m,\u001b[0m \u001b[0mo\u001b[0m \u001b[0;32min\u001b[0m \u001b[0mzip\u001b[0m\u001b[0;34m(\u001b[0m\u001b[0mout_labels\u001b[0m\u001b[0;34m,\u001b[0m \u001b[0mouts\u001b[0m\u001b[0;34m)\u001b[0m\u001b[0;34m:\u001b[0m\u001b[0;34m\u001b[0m\u001b[0;34m\u001b[0m\u001b[0m\n",
      "\u001b[0;32m~/.local/lib/python3.6/site-packages/tensorflow/python/keras/backend.py\u001b[0m in \u001b[0;36m__call__\u001b[0;34m(self, inputs)\u001b[0m\n\u001b[1;32m   3790\u001b[0m         \u001b[0mvalue\u001b[0m \u001b[0;34m=\u001b[0m \u001b[0mmath_ops\u001b[0m\u001b[0;34m.\u001b[0m\u001b[0mcast\u001b[0m\u001b[0;34m(\u001b[0m\u001b[0mvalue\u001b[0m\u001b[0;34m,\u001b[0m \u001b[0mtensor\u001b[0m\u001b[0;34m.\u001b[0m\u001b[0mdtype\u001b[0m\u001b[0;34m)\u001b[0m\u001b[0;34m\u001b[0m\u001b[0;34m\u001b[0m\u001b[0m\n\u001b[1;32m   3791\u001b[0m       \u001b[0mconverted_inputs\u001b[0m\u001b[0;34m.\u001b[0m\u001b[0mappend\u001b[0m\u001b[0;34m(\u001b[0m\u001b[0mvalue\u001b[0m\u001b[0;34m)\u001b[0m\u001b[0;34m\u001b[0m\u001b[0;34m\u001b[0m\u001b[0m\n\u001b[0;32m-> 3792\u001b[0;31m     \u001b[0moutputs\u001b[0m \u001b[0;34m=\u001b[0m \u001b[0mself\u001b[0m\u001b[0;34m.\u001b[0m\u001b[0m_graph_fn\u001b[0m\u001b[0;34m(\u001b[0m\u001b[0;34m*\u001b[0m\u001b[0mconverted_inputs\u001b[0m\u001b[0;34m)\u001b[0m\u001b[0;34m\u001b[0m\u001b[0;34m\u001b[0m\u001b[0m\n\u001b[0m\u001b[1;32m   3793\u001b[0m \u001b[0;34m\u001b[0m\u001b[0m\n\u001b[1;32m   3794\u001b[0m     \u001b[0;31m# EagerTensor.numpy() will often make a copy to ensure memory safety.\u001b[0m\u001b[0;34m\u001b[0m\u001b[0;34m\u001b[0m\u001b[0;34m\u001b[0m\u001b[0m\n",
      "\u001b[0;32m~/.local/lib/python3.6/site-packages/tensorflow/python/eager/function.py\u001b[0m in \u001b[0;36m__call__\u001b[0;34m(self, *args, **kwargs)\u001b[0m\n\u001b[1;32m   1603\u001b[0m       \u001b[0mTypeError\u001b[0m\u001b[0;34m:\u001b[0m \u001b[0mFor\u001b[0m \u001b[0minvalid\u001b[0m \u001b[0mpositional\u001b[0m\u001b[0;34m/\u001b[0m\u001b[0mkeyword\u001b[0m \u001b[0margument\u001b[0m \u001b[0mcombinations\u001b[0m\u001b[0;34m.\u001b[0m\u001b[0;34m\u001b[0m\u001b[0;34m\u001b[0m\u001b[0m\n\u001b[1;32m   1604\u001b[0m     \"\"\"\n\u001b[0;32m-> 1605\u001b[0;31m     \u001b[0;32mreturn\u001b[0m \u001b[0mself\u001b[0m\u001b[0;34m.\u001b[0m\u001b[0m_call_impl\u001b[0m\u001b[0;34m(\u001b[0m\u001b[0margs\u001b[0m\u001b[0;34m,\u001b[0m \u001b[0mkwargs\u001b[0m\u001b[0;34m)\u001b[0m\u001b[0;34m\u001b[0m\u001b[0;34m\u001b[0m\u001b[0m\n\u001b[0m\u001b[1;32m   1606\u001b[0m \u001b[0;34m\u001b[0m\u001b[0m\n\u001b[1;32m   1607\u001b[0m   \u001b[0;32mdef\u001b[0m \u001b[0m_call_impl\u001b[0m\u001b[0;34m(\u001b[0m\u001b[0mself\u001b[0m\u001b[0;34m,\u001b[0m \u001b[0margs\u001b[0m\u001b[0;34m,\u001b[0m \u001b[0mkwargs\u001b[0m\u001b[0;34m,\u001b[0m \u001b[0mcancellation_manager\u001b[0m\u001b[0;34m=\u001b[0m\u001b[0;32mNone\u001b[0m\u001b[0;34m)\u001b[0m\u001b[0;34m:\u001b[0m\u001b[0;34m\u001b[0m\u001b[0;34m\u001b[0m\u001b[0m\n",
      "\u001b[0;32m~/.local/lib/python3.6/site-packages/tensorflow/python/eager/function.py\u001b[0m in \u001b[0;36m_call_impl\u001b[0;34m(self, args, kwargs, cancellation_manager)\u001b[0m\n\u001b[1;32m   1643\u001b[0m       raise TypeError(\"Keyword arguments {} unknown. Expected {}.\".format(\n\u001b[1;32m   1644\u001b[0m           list(kwargs.keys()), list(self._arg_keywords)))\n\u001b[0;32m-> 1645\u001b[0;31m     \u001b[0;32mreturn\u001b[0m \u001b[0mself\u001b[0m\u001b[0;34m.\u001b[0m\u001b[0m_call_flat\u001b[0m\u001b[0;34m(\u001b[0m\u001b[0margs\u001b[0m\u001b[0;34m,\u001b[0m \u001b[0mself\u001b[0m\u001b[0;34m.\u001b[0m\u001b[0mcaptured_inputs\u001b[0m\u001b[0;34m,\u001b[0m \u001b[0mcancellation_manager\u001b[0m\u001b[0;34m)\u001b[0m\u001b[0;34m\u001b[0m\u001b[0;34m\u001b[0m\u001b[0m\n\u001b[0m\u001b[1;32m   1646\u001b[0m \u001b[0;34m\u001b[0m\u001b[0m\n\u001b[1;32m   1647\u001b[0m   \u001b[0;32mdef\u001b[0m \u001b[0m_filtered_call\u001b[0m\u001b[0;34m(\u001b[0m\u001b[0mself\u001b[0m\u001b[0;34m,\u001b[0m \u001b[0margs\u001b[0m\u001b[0;34m,\u001b[0m \u001b[0mkwargs\u001b[0m\u001b[0;34m)\u001b[0m\u001b[0;34m:\u001b[0m\u001b[0;34m\u001b[0m\u001b[0;34m\u001b[0m\u001b[0m\n",
      "\u001b[0;32m~/.local/lib/python3.6/site-packages/tensorflow/python/eager/function.py\u001b[0m in \u001b[0;36m_call_flat\u001b[0;34m(self, args, captured_inputs, cancellation_manager)\u001b[0m\n\u001b[1;32m   1744\u001b[0m       \u001b[0;31m# No tape is watching; skip to running the function.\u001b[0m\u001b[0;34m\u001b[0m\u001b[0;34m\u001b[0m\u001b[0;34m\u001b[0m\u001b[0m\n\u001b[1;32m   1745\u001b[0m       return self._build_call_outputs(self._inference_function.call(\n\u001b[0;32m-> 1746\u001b[0;31m           ctx, args, cancellation_manager=cancellation_manager))\n\u001b[0m\u001b[1;32m   1747\u001b[0m     forward_backward = self._select_forward_and_backward_functions(\n\u001b[1;32m   1748\u001b[0m         \u001b[0margs\u001b[0m\u001b[0;34m,\u001b[0m\u001b[0;34m\u001b[0m\u001b[0;34m\u001b[0m\u001b[0m\n",
      "\u001b[0;32m~/.local/lib/python3.6/site-packages/tensorflow/python/eager/function.py\u001b[0m in \u001b[0;36mcall\u001b[0;34m(self, ctx, args, cancellation_manager)\u001b[0m\n\u001b[1;32m    596\u001b[0m               \u001b[0minputs\u001b[0m\u001b[0;34m=\u001b[0m\u001b[0margs\u001b[0m\u001b[0;34m,\u001b[0m\u001b[0;34m\u001b[0m\u001b[0;34m\u001b[0m\u001b[0m\n\u001b[1;32m    597\u001b[0m               \u001b[0mattrs\u001b[0m\u001b[0;34m=\u001b[0m\u001b[0mattrs\u001b[0m\u001b[0;34m,\u001b[0m\u001b[0;34m\u001b[0m\u001b[0;34m\u001b[0m\u001b[0m\n\u001b[0;32m--> 598\u001b[0;31m               ctx=ctx)\n\u001b[0m\u001b[1;32m    599\u001b[0m         \u001b[0;32melse\u001b[0m\u001b[0;34m:\u001b[0m\u001b[0;34m\u001b[0m\u001b[0;34m\u001b[0m\u001b[0m\n\u001b[1;32m    600\u001b[0m           outputs = execute.execute_with_cancellation(\n",
      "\u001b[0;32m~/.local/lib/python3.6/site-packages/tensorflow/python/eager/execute.py\u001b[0m in \u001b[0;36mquick_execute\u001b[0;34m(op_name, num_outputs, inputs, attrs, ctx, name)\u001b[0m\n\u001b[1;32m     58\u001b[0m     \u001b[0mctx\u001b[0m\u001b[0;34m.\u001b[0m\u001b[0mensure_initialized\u001b[0m\u001b[0;34m(\u001b[0m\u001b[0;34m)\u001b[0m\u001b[0;34m\u001b[0m\u001b[0;34m\u001b[0m\u001b[0m\n\u001b[1;32m     59\u001b[0m     tensors = pywrap_tfe.TFE_Py_Execute(ctx._handle, device_name, op_name,\n\u001b[0;32m---> 60\u001b[0;31m                                         inputs, attrs, num_outputs)\n\u001b[0m\u001b[1;32m     61\u001b[0m   \u001b[0;32mexcept\u001b[0m \u001b[0mcore\u001b[0m\u001b[0;34m.\u001b[0m\u001b[0m_NotOkStatusException\u001b[0m \u001b[0;32mas\u001b[0m \u001b[0me\u001b[0m\u001b[0;34m:\u001b[0m\u001b[0;34m\u001b[0m\u001b[0;34m\u001b[0m\u001b[0m\n\u001b[1;32m     62\u001b[0m     \u001b[0;32mif\u001b[0m \u001b[0mname\u001b[0m \u001b[0;32mis\u001b[0m \u001b[0;32mnot\u001b[0m \u001b[0;32mNone\u001b[0m\u001b[0;34m:\u001b[0m\u001b[0;34m\u001b[0m\u001b[0;34m\u001b[0m\u001b[0m\n",
      "\u001b[0;31mKeyboardInterrupt\u001b[0m: "
     ]
    }
   ],
   "source": [
    "from keras.models import Sequential\n",
    "from keras.layers import Dense, Conv2D, Flatten\n",
    "#create model\n",
    "model = Sequential()model\n",
    "#add model layers\n",
    "\n",
    "model.add(Dense(int(32), activation='relu'))\n",
    "model.add(Dense(22, activation='relu'))\n",
    "model.add(Dense(4, activation='relu'))\n",
    "model.add(Dense(1))\n",
    "\n",
    "#compile model using accuracy to measure model performance\n",
    "model.compile(loss='mse', optimizer='adam', metrics=['accuracy'])\n",
    "\n",
    "model.fit(X, np.array(y_train_log), validation_data=(X_test, np.array(y_val_log)), epochs=40)"
   ]
  },
  {
   "cell_type": "code",
   "execution_count": null,
   "metadata": {},
   "outputs": [],
   "source": []
  },
  {
   "cell_type": "code",
   "execution_count": null,
   "metadata": {},
   "outputs": [],
   "source": []
  },
  {
   "cell_type": "code",
   "execution_count": null,
   "metadata": {},
   "outputs": [],
   "source": []
  },
  {
   "cell_type": "code",
   "execution_count": null,
   "metadata": {},
   "outputs": [],
   "source": []
  },
  {
   "cell_type": "code",
   "execution_count": null,
   "metadata": {},
   "outputs": [],
   "source": []
  },
  {
   "cell_type": "code",
   "execution_count": null,
   "metadata": {},
   "outputs": [],
   "source": []
  },
  {
   "cell_type": "code",
   "execution_count": null,
   "metadata": {},
   "outputs": [],
   "source": []
  },
  {
   "cell_type": "code",
   "execution_count": null,
   "metadata": {},
   "outputs": [],
   "source": []
  },
  {
   "cell_type": "code",
   "execution_count": null,
   "metadata": {},
   "outputs": [],
   "source": []
  },
  {
   "cell_type": "code",
   "execution_count": null,
   "metadata": {},
   "outputs": [],
   "source": []
  },
  {
   "cell_type": "code",
   "execution_count": null,
   "metadata": {},
   "outputs": [],
   "source": []
  },
  {
   "cell_type": "code",
   "execution_count": null,
   "metadata": {},
   "outputs": [],
   "source": []
  }
 ],
 "metadata": {
  "kernelspec": {
   "display_name": "Python 3",
   "language": "python",
   "name": "python3"
  },
  "language_info": {
   "codemirror_mode": {
    "name": "ipython",
    "version": 3
   },
   "file_extension": ".py",
   "mimetype": "text/x-python",
   "name": "python",
   "nbconvert_exporter": "python",
   "pygments_lexer": "ipython3",
   "version": "3.6.9"
  }
 },
 "nbformat": 4,
 "nbformat_minor": 2
}
