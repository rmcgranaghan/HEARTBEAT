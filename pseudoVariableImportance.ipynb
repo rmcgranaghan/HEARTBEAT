{
 "cells": [
  {
   "cell_type": "markdown",
   "metadata": {},
   "source": [
    "# Variable Importance Python Jupyter Notebook. "
   ]
  },
  {
   "cell_type": "markdown",
   "metadata": {},
   "source": [
    "This juputer notebook provides an  example to estimate variable importance using \n",
    "the Random Forest machine learing method. The code doesn't run by itself,  it just shows how to impliment the random forest for variable selection.  A separate python script of the same code is also provided.  "
   ]
  },
  {
   "cell_type": "code",
   "execution_count": null,
   "metadata": {},
   "outputs": [],
   "source": [
    "import numpy as np\n",
    "import pandas as pd \n",
    "import matplotlib.pyplot as plt \n",
    "import seaborn as sns\n",
    "from scipy.stats import norm\n",
    "from scipy import stats\n",
    "# import warnings\n",
    "# warnings.filterwarnings('ignore')\n",
    "%matplotlib inline\n",
    "from sklearn.ensemble import RandomForestRegressor"
   ]
  },
  {
   "cell_type": "code",
   "execution_count": null,
   "metadata": {},
   "outputs": [],
   "source": [
    "#Train and test split of the trainig and target. You might do your own split,  \n",
    "#example first three years as trinig and last year test.\n",
    "x_train, x_test, y_train, y_test = train_test_split(training, target)"
   ]
  },
  {
   "cell_type": "code",
   "execution_count": null,
   "metadata": {},
   "outputs": [],
   "source": [
    "#Random Forest Regressor\n",
    "# Modify this for your experiment\n",
    "modelRF=RandomForestRegressor(n_estimators=100, criterion='mse', max_depth=None, min_samples_split=2) "
   ]
  },
  {
   "cell_type": "code",
   "execution_count": null,
   "metadata": {},
   "outputs": [],
   "source": [
    "#Fit Model \n",
    "modelRF=modelRF.fit(x_train,y_train)"
   ]
  },
  {
   "cell_type": "code",
   "execution_count": null,
   "metadata": {},
   "outputs": [],
   "source": [
    "#Predict on the test\n",
    "y_predict=modelRF.predict(x_test)"
   ]
  },
  {
   "cell_type": "code",
   "execution_count": null,
   "metadata": {},
   "outputs": [],
   "source": [
    "#Variable Importance estimation and plotting. \n",
    "#Note:  In this case the x_train is a pandas dataframe with the names of columns the same as the feature names.\n",
    "var_importance=modelRF.feature_importances_\n",
    "important_idx = np.where(var_importance > 0)\n",
    "important_var = x_train.columns[important_idx]\n",
    "sorted_idx = np.argsort(var_importance[important_idx])[::1]\n",
    "var_importance=var_importance[important_idx]\n",
    "sorted_var=important_var[sorted_idx]\n",
    "sorted_var_importance=var_importance[sorted_idx]\n",
    "pos = np.arange(sorted_idx.shape[0]) + .5\n",
    "plt.figure(figsize=(18, 15))\n",
    "plt.barh(pos, sorted_var_importance, color='red',align='center')\n",
    "plt.yticks(pos, sorted_var,fontsize=20)\n",
    "plt.xlabel('Relative Importance',fontsize=30)\n",
    "plt.title('Variable Importance',fontsize=30)\n",
    "plt.rcParams['ytick.labelsize']=30\n",
    "plt.rcParams['xtick.labelsize']=30\n",
    "plt.tight_layout()\n",
    "plt.margins(y=0)\n",
    "plt.savefig('VariableImportance.png', facecolor='w', format='png')\n",
    "plt.show()"
   ]
  },
  {
   "cell_type": "markdown",
   "metadata": {},
   "source": [
    "![The Folowing](VariableImportance.png \"Feautures Used\")"
   ]
  },
  {
   "cell_type": "code",
   "execution_count": 14,
   "metadata": {},
   "outputs": [
    {
     "data": {
      "text/plain": [
       "'/home/gebreab/Desktop/Ionospheric_Research/ML_TEC'"
      ]
     },
     "execution_count": 14,
     "metadata": {},
     "output_type": "execute_result"
    }
   ],
   "source": [
    "pwd"
   ]
  },
  {
   "cell_type": "code",
   "execution_count": 15,
   "metadata": {},
   "outputs": [
    {
     "data": {
      "text/plain": [
       "'/home/gebreab/Desktop/Ionospheric_Research/ML_TEC'"
      ]
     },
     "execution_count": 15,
     "metadata": {},
     "output_type": "execute_result"
    }
   ],
   "source": [
    "pwd"
   ]
  },
  {
   "cell_type": "code",
   "execution_count": null,
   "metadata": {},
   "outputs": [],
   "source": []
  }
 ],
 "metadata": {
  "kernelspec": {
   "display_name": "Python 3",
   "language": "python",
   "name": "python3"
  },
  "language_info": {
   "codemirror_mode": {
    "name": "ipython",
    "version": 3
   },
   "file_extension": ".py",
   "mimetype": "text/x-python",
   "name": "python",
   "nbconvert_exporter": "python",
   "pygments_lexer": "ipython3",
   "version": "3.8.0"
  }
 },
 "nbformat": 4,
 "nbformat_minor": 2
}
