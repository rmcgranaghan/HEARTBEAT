{
 "cells": [
  {
   "cell_type": "code",
   "execution_count": null,
   "metadata": {},
   "outputs": [],
   "source": []
  },
  {
   "cell_type": "code",
   "execution_count": 1,
   "metadata": {},
   "outputs": [],
   "source": [
    "import pandas as pd\n",
    "import numpy as np\n",
    "import os\n",
    "import glob\n",
    "import datetime\n",
    "\n",
    "from tensorflow.compat.v1 import ConfigProto\n",
    "from tensorflow.compat.v1 import InteractiveSession\n",
    "\n",
    "# config = ConfigProto()\n",
    "# config.gpu_options.allow_growth = True\n",
    "# session = InteractiveSession(config=config)\n",
    "# import tensorflow\n",
    "\n",
    "# from tensorflow.compat.v1.keras.backend import get_session\n",
    "# tensorflow.compat.v1.disable_v2_behavior()\n",
    "# import shap\n",
    "\n",
    "import numpy as np\n",
    "from tensorflow.keras.models import Sequential\n",
    "from tensorflow.keras.layers import Dense, Conv2D, Flatten, Dropout\n",
    "from sklearn import preprocessing\n",
    "\n",
    "import tensorflow as tf\n",
    "\n",
    "import numpy as np\n",
    "import os\n",
    "import pandas as pd\n",
    "import seaborn as sns\n",
    "from pandas.plotting import register_matplotlib_converters\n",
    "register_matplotlib_converters()\n",
    "import datetime\n",
    "from os.path import isfile, join\n",
    "from sys import getsizeof\n",
    "import glob\n",
    "\n",
    "from random import *\n",
    "\n",
    "import matplotlib.pyplot as plt\n",
    "#plt.ion()\n",
    "%matplotlib widget\n",
    "\n",
    "#import mpld3\n",
    "#mpld3.enable_notebook()\n",
    "import numpy as np\n",
    "\n",
    "from sklearn.preprocessing import LabelEncoder\n",
    "from sklearn.preprocessing import OneHotEncoder"
   ]
  },
  {
   "cell_type": "code",
   "execution_count": null,
   "metadata": {
    "ExecuteTime": {
     "end_time": "2020-04-13T16:15:05.916031Z",
     "start_time": "2020-04-13T16:15:05.906959Z"
    }
   },
   "outputs": [],
   "source": []
  },
  {
   "cell_type": "markdown",
   "metadata": {
    "ExecuteTime": {
     "end_time": "2020-04-13T16:15:12.466090Z",
     "start_time": "2020-04-13T16:15:10.118125Z"
    }
   },
   "source": [
    "# Only using years 2010, 2011, 2012, 2013, and 2014 because of the auroral boundary database used only has those dates"
   ]
  },
  {
   "cell_type": "code",
   "execution_count": 2,
   "metadata": {
    "ExecuteTime": {
     "end_time": "2020-04-13T16:15:12.466090Z",
     "start_time": "2020-04-13T16:15:10.118125Z"
    }
   },
   "outputs": [],
   "source": [
    "file_load_df_cumulative = '/home/jackalak/heartbeat_work/HEARTBEAT/ParticlePrecipitation/ML_DB_subsamp_ext_full_dfCumulative_complexHemisphereCombine.csv'\n",
    "DMSP_DATA_DIR=''\n",
    "df_cumulative = pd.read_csv(os.path.join(DMSP_DATA_DIR,file_load_df_cumulative))\n",
    "df_cumulative = df_cumulative.sort_values(by=['ID_SC', 'Datetimes'])\n",
    "df_cumulative = df_cumulative.set_index('Datetimes')\n",
    "df_cumulative.index = pd.to_datetime(df_cumulative.index)\n",
    "\n",
    "cols_to_drop_validation = [c for c in df_cumulative.columns if ('STD' in c) | ('AVG' in c) | ('SC_AACGM_LTIME'==c)]\n",
    "# cols_to_drop_validation = [c for c in df.columns if ('1min' in c) | ('3min' in c) | ('4min' in c) | ('5min' in c) | ('15min' in c) | ('newell' in c) | ('STD' in c) | ('AVG' in c) | ('SC_AACGM_LTIME'==c)]\n",
    "\n",
    "df_cumulative = df_cumulative.drop(columns=cols_to_drop_validation)\n",
    "\n",
    "# Separate training and testing data\n",
    "mask_val = [(df_cumulative.index.year == 2010) & (df_cumulative['ID_SC'].values==16)]\n",
    "df_val = df_cumulative[mask_val[0]].copy(deep=True)\n",
    "df_train = df_cumulative.copy(deep=True).drop( df_cumulative.index[mask_val[0]])\n",
    "\n",
    "mask_for_2010_to_2014 = [(df_train.index.year == 2010) | (df_train.index.year == 2011)\n",
    "                         | (df_train.index.year == 2012) |(df_train.index.year == 2013)\n",
    "                         | (df_train.index.year == 2014)]\n",
    "df_train = df_train[mask_for_2010_to_2014[0]]\n",
    "df_train = df_train.sort_values(by=['ID_SC', 'Datetimes'])\n",
    "df_val = df_val.sort_values(by=['ID_SC', 'Datetimes'])"
   ]
  },
  {
   "cell_type": "code",
   "execution_count": 3,
   "metadata": {
    "ExecuteTime": {
     "end_time": "2020-04-13T16:15:12.466090Z",
     "start_time": "2020-04-13T16:15:10.118125Z"
    }
   },
   "outputs": [],
   "source": [
    "# Construct X and y\n",
    "feature_cols = [c for c in df_train.columns if not 'ELE' in c]\n",
    "#print( (feature_cols))\n",
    "#print(df_cumulative.columns)\n",
    "X_val = df_val[feature_cols].copy(deep=True)\n",
    "y_val = df_val['ELE_TOTAL_ENERGY_FLUX'].copy(deep=True)\n",
    "X_train = df_train[feature_cols].copy(deep=True)\n",
    "y_train = df_train['ELE_TOTAL_ENERGY_FLUX'].copy(deep=True)\n",
    "scaler_X = preprocessing.RobustScaler()\n",
    "scaler_X = scaler_X.fit(X_train.values)\n",
    "X_val_scaled = scaler_X.transform(X_val.values)\n",
    "X_train_scaled = scaler_X.transform(X_train.values)\n",
    "\n",
    "numFeatures = len(X_train.columns.to_list())\n",
    "feature_labels = X_train.columns.to_list()\n",
    "y_train_erg = y_train.copy(deep=True) * (1.60218e-12)\n",
    "y_val_erg = y_val.copy(deep=True) * (1.60218e-12)\n",
    "\n",
    "y_train[y_train == 0] = 0.0001\n",
    "y_val[y_val == 0] = 0.0001\n",
    "y_train_log = np.log10(y_train.copy(deep=True))\n",
    "y_val_log = np.log10(y_val.copy(deep=True))\n",
    "X = np.array(X_train_scaled, dtype=np.float32)\n",
    "X_test = np.array(X_val_scaled, dtype=np.float32)"
   ]
  },
  {
   "cell_type": "markdown",
   "metadata": {
    "scrolled": true
   },
   "source": [
    "# Read in the the auroral regions from a pickle file (constructed from auroral boundary transition points) "
   ]
  },
  {
   "cell_type": "code",
   "execution_count": 4,
   "metadata": {},
   "outputs": [],
   "source": [
    "\n",
    "df_val = pd.read_pickle(\"/home/jackalak/heartbeat_work/HEARTBEAT/AuroralBoundaries/with_aurora_type_val.pkl\")\n",
    "df_train = pd.read_pickle(\"/home/jackalak/heartbeat_work/HEARTBEAT/AuroralBoundaries/with_aurora_type_train.pkl\")\n"
   ]
  },
  {
   "cell_type": "markdown",
   "metadata": {},
   "source": [
    "# The boundary transition type regions can be reduced to 3 instead of 4 regions (plus unknown region 5), because going into the auroal region from the equatorial region or the polar region is the same for our intention of labeling just equatorial region, auroral, region, or polar region. \n",
    "\n",
    "# therefore type 4 is the same as type 1"
   ]
  },
  {
   "cell_type": "code",
   "execution_count": 5,
   "metadata": {},
   "outputs": [],
   "source": [
    "df_val['aurora_type'][ df_val['aurora_type']==4 ]= 1\n",
    "df_train['aurora_type'][ df_train['aurora_type']==4 ]= 1\n",
    "\n"
   ]
  },
  {
   "cell_type": "code",
   "execution_count": 6,
   "metadata": {},
   "outputs": [],
   "source": [
    "\n",
    "mask = ( np.isnan(df_train['aurora_type'])==False )\n",
    "df_train_clean = df_train[mask].copy(deep=True)\n",
    "mask = ( np.isnan(df_val['aurora_type'])==False)\n",
    "df_val_clean = df_val[mask].copy(deep=True)"
   ]
  },
  {
   "cell_type": "code",
   "execution_count": 7,
   "metadata": {},
   "outputs": [],
   "source": [
    "\n",
    "# Construct X and y\n",
    "feature_cols = [c for c in df_train_clean.columns if not 'ELE' in c]\n",
    "#print( (feature_cols))\n",
    "#print(df_cumulative.columns)\n",
    "X_val = df_val_clean[feature_cols].copy(deep=True)\n",
    "y_val = df_val_clean['ELE_TOTAL_ENERGY_FLUX'].copy(deep=True)\n",
    "X_train = df_train_clean[feature_cols].copy(deep=True)\n",
    "y_train = df_train_clean['ELE_TOTAL_ENERGY_FLUX'].copy(deep=True)\n",
    "scaler_X = preprocessing.RobustScaler()\n",
    "scaler_X = scaler_X.fit(X_train.values)\n",
    "X_val_scaled = scaler_X.transform(X_val.values)\n",
    "X_train_scaled = scaler_X.transform(X_train.values)\n",
    "\n",
    "numFeatures = len(X_train.columns.to_list())\n",
    "feature_labels = X_train.columns.to_list()\n",
    "y_train_erg = y_train.copy(deep=True) * (1.60218e-12)\n",
    "y_val_erg = y_val.copy(deep=True) * (1.60218e-12)\n",
    "\n",
    "y_train[y_train == 0] = 0.0001\n",
    "y_val[y_val == 0] = 0.0001\n",
    "y_train_log = np.log10(y_train.copy(deep=True))\n",
    "y_val_log = np.log10(y_val.copy(deep=True))\n",
    "\n",
    "X = np.array(X_train_scaled, dtype=np.float32)\n",
    "X_test = np.array(X_val_scaled, dtype=np.float32)\n",
    "\n",
    "Y = np.array(y_train_log, dtype=np.float32)\n"
   ]
  },
  {
   "cell_type": "code",
   "execution_count": 8,
   "metadata": {},
   "outputs": [],
   "source": [
    "X_train_no_aurora_type = X_train.drop(columns='aurora_type')\n",
    "X_val_no_aurora_type = X_val.drop(columns='aurora_type')\n",
    "scaler_X = scaler_X.fit(X_train_no_aurora_type.values)\n",
    "X_val_no_aurora_type_scaled = scaler_X.transform(X_val_no_aurora_type.values)\n",
    "X_train_no_aurora_type_scaled = scaler_X.transform(X_train_no_aurora_type.values)\n",
    "\n",
    "y_train_aurora_type = X_train['aurora_type']\n",
    "y_val_aurora_type = X_val['aurora_type']"
   ]
  },
  {
   "cell_type": "code",
   "execution_count": 9,
   "metadata": {},
   "outputs": [
    {
     "name": "stdout",
     "output_type": "stream",
     "text": [
      "(720998,)\n",
      "(720998,)\n"
     ]
    }
   ],
   "source": [
    "\n",
    "label_encoder = LabelEncoder()\n",
    "onehot_encoder = OneHotEncoder(sparse=False)\n",
    "\n",
    "integer_encoded = label_encoder.fit_transform(y_train_aurora_type)\n",
    "print(integer_encoded.shape)\n",
    "\n",
    "integer_encoded_train = integer_encoded.reshape(len(integer_encoded), 1)\n",
    "print(integer_encoded.shape)\n",
    "\n",
    "y_train_aurora_type_encoded = onehot_encoder.fit_transform(integer_encoded_train)\n",
    "integer_encoded = label_encoder.fit_transform(y_val_aurora_type)\n",
    "integer_encoded_val = integer_encoded.reshape(len(integer_encoded), 1)\n",
    "y_val_aurora_type_encoded = onehot_encoder.fit_transform(integer_encoded_val)\n"
   ]
  },
  {
   "cell_type": "code",
   "execution_count": 10,
   "metadata": {},
   "outputs": [
    {
     "name": "stdout",
     "output_type": "stream",
     "text": [
      "False\n",
      "(23848, 148)\n",
      "(324651,)\n",
      "(324651,)\n",
      "(324651, 148)\n",
      "(324651,)\n",
      "(324651, 3)\n",
      "equatorial 0.22883672092633456\n",
      "auroral 0.10463513594006918\n",
      "polar 0.11624617848203142\n"
     ]
    },
    {
     "data": {
      "image/png": "[encoded data removed]",
      "text/plain": [
       "<Figure size 432x288 with 1 Axes>"
      ]
     },
     "metadata": {
      "needs_background": "light"
     },
     "output_type": "display_data"
    },
    {
     "data": {
      "image/png": "[encoded data removed]",
      "text/plain": [
       "<Figure size 432x288 with 1 Axes>"
      ]
     },
     "metadata": {
      "needs_background": "light"
     },
     "output_type": "display_data"
    }
   ],
   "source": [
    "\n",
    "mask = [ (np.isnan(df_train['aurora_type'])==False) & (df_train['aurora_type'] != 5 ) ]\n",
    "df_train_clean = df_train[mask[0]].copy(deep=True)\n",
    "print((mask[0].any())==False)\n",
    "mask = [ (np.isnan(df_val['aurora_type'])==False) & (df_val['aurora_type'] != 5 ) ]\n",
    "df_val_clean = df_val[mask[0]].copy(deep=True)\n",
    "\n",
    "\n",
    "\n",
    "# Construct X and y\n",
    "feature_cols = [c for c in df_train_clean.columns if not 'ELE' in c]\n",
    "from sklearn import preprocessing\n",
    "X_val = df_val_clean[feature_cols].copy(deep=True)\n",
    "y_val = df_val_clean['ELE_TOTAL_ENERGY_FLUX'].copy(deep=True)\n",
    "X_train = df_train_clean[feature_cols].copy(deep=True)\n",
    "y_train = df_train_clean['ELE_TOTAL_ENERGY_FLUX'].copy(deep=True)\n",
    "scaler_X = preprocessing.RobustScaler()\n",
    "scaler_X = scaler_X.fit(X_train.values)\n",
    "X_val_scaled = scaler_X.transform(X_val.values)\n",
    "X_train_scaled = scaler_X.transform(X_train.values)\n",
    "\n",
    "numFeatures = len(X_train.columns.to_list())\n",
    "feature_labels = X_train.columns.to_list()\n",
    "y_train_erg = y_train.copy(deep=True) * (1.60218e-12)\n",
    "y_val_erg = y_val.copy(deep=True) * (1.60218e-12)\n",
    "\n",
    "y_train[y_train == 0] = 0.0001\n",
    "y_val[y_val == 0] = 0.0001\n",
    "y_train_log = np.log10(y_train.copy(deep=True))\n",
    "y_val_log = np.log10(y_val.copy(deep=True))\n",
    "\n",
    "\n",
    "X = np.array(X_train_scaled, dtype=np.float32)\n",
    "X_test = np.array(X_val_scaled, dtype=np.float32)\n",
    "\n",
    "Y = np.array(y_train_log, dtype=np.float32)\n",
    "\n",
    "X_train_no_aurora_type = X_train.drop(columns='aurora_type')\n",
    "X_val_no_aurora_type = X_val.drop(columns='aurora_type')\n",
    "scaler_X = scaler_X.fit(X_train_no_aurora_type.values)\n",
    "X_val_no_aurora_type_scaled = scaler_X.transform(X_val_no_aurora_type.values)\n",
    "print(X_val_no_aurora_type_scaled.shape)\n",
    "X_train_no_aurora_type_scaled = scaler_X.transform(X_train_no_aurora_type.values)\n",
    "\n",
    "y_train_aurora_type = X_train['aurora_type']\n",
    "y_val_aurora_type = X_val['aurora_type']\n",
    "\n",
    "label_encoder = LabelEncoder()\n",
    "onehot_encoder = OneHotEncoder(sparse=False)\n",
    "\n",
    "integer_encoded = label_encoder.fit_transform(y_train_aurora_type)\n",
    "print(integer_encoded.shape)\n",
    "\n",
    "integer_encoded_train = integer_encoded.reshape(len(integer_encoded), 1)\n",
    "print(integer_encoded.shape)\n",
    "\n",
    "y_train_aurora_type_encoded = onehot_encoder.fit_transform(integer_encoded_train)\n",
    "integer_encoded = label_encoder.fit_transform(y_val_aurora_type)\n",
    "integer_encoded_val = integer_encoded.reshape(len(integer_encoded), 1)\n",
    "y_val_aurora_type_encoded = onehot_encoder.fit_transform(integer_encoded_val)\n",
    "\n",
    "print(X_train_no_aurora_type_scaled.shape)\n",
    "\n",
    "print(y_train_aurora_type.shape)\n",
    "print(y_train_aurora_type_encoded.shape)\n",
    "\n",
    "sum(df_val_clean['aurora_type']==2)/df_val_clean.shape[0]\n",
    "sum(df_train_clean['aurora_type']==2)/df_train_clean.shape[0]\n",
    "\n",
    "print('equatorial', sum(df_train['aurora_type']==2)/df_train['aurora_type'].shape[0])\n",
    "print('auroral', sum(df_train['aurora_type']==1)/df_train['aurora_type'].shape[0])\n",
    "print('polar', sum(df_train['aurora_type']==3)/df_train['aurora_type'].shape[0])\n",
    "\n",
    "plt.hist(y_val_aurora_type)\n",
    "plt.show()\n",
    "plt.hist(y_train_aurora_type)\n",
    "plt.show()"
   ]
  },
  {
   "cell_type": "code",
   "execution_count": 14,
   "metadata": {},
   "outputs": [
    {
     "name": "stdout",
     "output_type": "stream",
     "text": [
      "10146/10146 [==============================] - 21s 2ms/step - loss: 0.3138 - accuracy: 0.8691 - val_loss: 0.2156 - val_accuracy: 0.9088\n",
      "746/746 [==============================] - 1s 1ms/step - loss: 0.1872 - accuracy: 0.9190\n"
     ]
    },
    {
     "data": {
      "image/png": "[encoded data removed]",
      "text/plain": [
       "<Figure size 432x288 with 1 Axes>"
      ]
     },
     "metadata": {
      "needs_background": "light"
     },
     "output_type": "display_data"
    },
    {
     "data": {
      "image/png": "[encoded data removed]",
      "text/plain": [
       "<Figure size 432x288 with 1 Axes>"
      ]
     },
     "metadata": {
      "needs_background": "light"
     },
     "output_type": "display_data"
    }
   ],
   "source": [
    "import tensorflow\n",
    "\n",
    "model = Sequential()\n",
    "model.add(Dense(int(256), activation='relu'))\n",
    "model.add(Dropout(.5))\n",
    "model.add(Dense(64, activation='relu'))\n",
    "model.add(Dense(16, activation='relu'))\n",
    "model.add(Dense(3,activation='softmax'))\n",
    "#compile model using accuracy to measure model performance\n",
    "model.compile(loss=tf.keras.losses.CategoricalCrossentropy(from_logits=False), optimizer='adam',  metrics=['accuracy'])\n",
    "history = model.fit(X_train_no_aurora_type_scaled, y_train_aurora_type_encoded, validation_data=(X_val_no_aurora_type_scaled, y_val_aurora_type_encoded), batch_size=32,epochs=1)\n",
    "\n",
    "# filename = 'best_auroral_region_predictor'\n",
    "\n",
    "# model = tensorflow.keras.models.load_model(filename)\n",
    "# # model.save(filename)\n",
    "# model.save_weights('best_auroral_region_predictor_sampleweights_weights.h5')\n",
    "model.load_weights('best_auroral_region_predictor_sampleweights_weights.h5')\n",
    "model.evaluate(X_val_no_aurora_type_scaled, y_val_aurora_type_encoded)\n",
    "\n",
    "results = (model.predict_classes(X_val_no_aurora_type_scaled))#, y_val_log.values)#, batch_size=128)\n",
    "\n",
    "df_results = pd.DataFrame(data=results, index = X_val.index)\n",
    "val = pd.DataFrame(data=integer_encoded_val, index = X_val.index)\n",
    "# plt.figure()\n",
    "\n",
    "# plt.plot( integer_encoded_val[:3000])\n",
    "# plt.plot(results[:3000])\n",
    "# plt.show()\n",
    "plt.figure()\n",
    "\n",
    "plt.plot( val[:100])\n",
    "plt.plot(df_results[:100])\n",
    "plt.show()\n",
    "\n",
    "plt.figure()\n",
    "\n",
    "plt.plot( val[:500])\n",
    "plt.plot(df_results[:500])\n",
    "plt.show()"
   ]
  },
  {
   "cell_type": "markdown",
   "metadata": {},
   "source": [
    "# Now use this Auroal region predictor model to predict what type the \"unknown/unspecified\" regions are.  Then combine this predicted data with the known training and test data"
   ]
  },
  {
   "cell_type": "code",
   "execution_count": 15,
   "metadata": {},
   "outputs": [
    {
     "name": "stdout",
     "output_type": "stream",
     "text": [
      "False\n",
      "(397248, 150)\n",
      "(31362, 150)\n"
     ]
    }
   ],
   "source": [
    " \n",
    "mask = [ (np.isnan(df_train['aurora_type'])==True) | (df_train['aurora_type'] == 5 ) ]\n",
    "df_train_pred = df_train[mask[0]].copy(deep=True)\n",
    "print((mask[0].any())==False)\n",
    "mask = [ (np.isnan(df_val['aurora_type'])==True) | (df_val['aurora_type'] == 5 ) ]\n",
    "df_val_pred = df_val[mask[0]].copy(deep=True)\n",
    "print(df_train_pred.shape)\n",
    "print(df_val_pred.shape)"
   ]
  },
  {
   "cell_type": "code",
   "execution_count": 16,
   "metadata": {},
   "outputs": [
    {
     "name": "stdout",
     "output_type": "stream",
     "text": [
      "(397248, 148)\n"
     ]
    }
   ],
   "source": [
    "# Construct X and y\n",
    "feature_cols = [c for c in df_train_pred.columns if (not ( 'ELE' in c) | ('aurora_type' in c))]\n",
    "X_train = df_train_pred[feature_cols].copy(deep=True)\n",
    "X_val = df_val_pred[feature_cols].copy(deep=True)\n",
    "print(X_train.shape)\n",
    "scaler_X = preprocessing.RobustScaler()\n",
    "scaler_X = scaler_X.fit(X_train.values)\n",
    "X_val_scaled = scaler_X.transform(X_val.values)\n",
    "X_train_scaled = scaler_X.transform(X_train.values)\n",
    "X = np.array(X_train_scaled, dtype=np.float32)\n",
    "X_test = np.array(X_val_scaled, dtype=np.float32)\n",
    "#scaler_X = scaler_X.fit(X_train_no_aurora_type.values)\n",
    "\n"
   ]
  },
  {
   "cell_type": "code",
   "execution_count": 17,
   "metadata": {},
   "outputs": [
    {
     "name": "stdout",
     "output_type": "stream",
     "text": [
      "(397248, 148)\n",
      "(324651,)\n",
      "(397248, 150)\n",
      "(397248, 150)\n",
      "(324651, 150)\n",
      "(55210, 150)\n"
     ]
    }
   ],
   "source": [
    "\n",
    "print(X.shape)\n",
    "\n",
    "print((model.predict_classes(X_train_no_aurora_type_scaled)).shape)\n",
    "print(df_train_pred.shape)\n",
    "\n",
    "df_train_pred['aurora_type']= model.predict_classes(X)+1\n",
    "df_val_pred['aurora_type']= model.predict_classes(X_test)+1\n",
    "\n",
    "# plt.figure()\n",
    "# plt.hist(df_train_pred['aurora_type'])\n",
    "# plt.figure()\n",
    "# plt.hist(df_train_clean['aurora_type'])\n",
    "\n",
    "print(df_train_pred.shape)\n",
    "print(df_train_clean.shape)\n",
    "\n",
    "frames = [df_train_clean, df_train_pred]\n",
    "df_train_new = pd.concat(frames)\n",
    "frames = [df_val_clean, df_val_pred]\n",
    "df_val_new = pd.concat(frames) \n",
    "\n",
    "print(df_val_new.values.shape)"
   ]
  },
  {
   "cell_type": "code",
   "execution_count": 18,
   "metadata": {},
   "outputs": [],
   "source": [
    "\n",
    "# Construct X and y\n",
    "feature_cols = [c for c in df_train_new.columns if not 'ELE' in c]\n",
    "\n",
    "X_val = df_val_new[feature_cols].copy(deep=True)\n",
    "y_val = df_val_new['ELE_TOTAL_ENERGY_FLUX'].copy(deep=True)\n",
    "X_train = df_train_new[feature_cols].copy(deep=True)\n",
    "y_train = df_train_new['ELE_TOTAL_ENERGY_FLUX'].copy(deep=True)\n",
    "scaler_X = preprocessing.RobustScaler()\n",
    "scaler_X = scaler_X.fit(X_train.values)\n",
    "X_val_scaled = scaler_X.transform(X_val.values)\n",
    "X_train_scaled = scaler_X.transform(X_train.values)\n",
    "\n",
    "numFeatures = len(X_train.columns.to_list())\n",
    "feature_labels = X_train.columns.to_list()\n",
    "y_train_erg = y_train.copy(deep=True) * (1.60218e-12)\n",
    "y_val_erg = y_val.copy(deep=True) * (1.60218e-12)\n",
    "\n",
    "y_train[y_train == 0] = 0.0001\n",
    "y_val[y_val == 0] = 0.0001\n",
    "y_train_log = np.log10(y_train.copy(deep=True))\n",
    "y_val_log = np.log10(y_val.copy(deep=True))\n",
    "\n",
    "X = np.array(X_train_scaled, dtype=np.float32)\n",
    "X_test = np.array(X_val_scaled, dtype=np.float32)\n"
   ]
  },
  {
   "cell_type": "code",
   "execution_count": 29,
   "metadata": {},
   "outputs": [],
   "source": [
    "sample_weights = np.ones((X_train.values.shape[0]))\n",
    "for i in range(0,X_train.values.shape[0]):\n",
    "    if X_train['aurora_type'].values[i]==1:\n",
    "        sample_weights[i]=10\n",
    "\n",
    "# plt.figure()\n",
    "# plt.hist(sample_weights)\n",
    "# plt.figure()\n",
    "# plt.hist(X_train['aurora_type'].values)"
   ]
  },
  {
   "cell_type": "markdown",
   "metadata": {},
   "source": [
    "# Now with the supervised auroral type values and the predicted (unsupervised) type values as a new column in the input X, predict the scalar energy flux y"
   ]
  },
  {
   "cell_type": "code",
   "execution_count": 19,
   "metadata": {
    "scrolled": true
   },
   "outputs": [],
   "source": [
    "model = Sequential()\n",
    "\n",
    "model.add(Dense(int(256), activation='relu'))\n",
    "model.add(Dropout(.5))\n",
    "model.add(Dense(64, activation='relu'))\n",
    "model.add(Dense(16, activation='relu'))\n",
    "model.add(Dense(1))\n",
    "\n",
    "\n",
    "#compile model using accuracy to measure model performance\n",
    "model.compile(loss='mse', optimizer='adam',  metrics=['mse','mae'])\n",
    "\n",
    "history = model.fit(X, np.array(y_train_log), \n",
    "    validation_data=(X_test, np.array(y_val_log)), batch_size=1024,epochs=1, sample_weight=sample_weights)"
   ]
  },
  {
   "cell_type": "code",
   "execution_count": 21,
   "metadata": {},
   "outputs": [],
   "source": [
    "filename = 'best_with_auroral_region_weights'\n",
    "\n",
    "# model.save(filename)\n",
    "\n",
    "# model = tensorflow.keras.models.load_model(filename)\n",
    "# model.save_weights('best_with_auroral_region_weights_weightfile.h5')\n",
    "model.load_weights('best_with_auroral_region_weights_weightfile.h5')\n",
    "\n",
    "# print(history.history.keys())\n",
    "# plt.figure()\n",
    "# # summarize history for loss\n",
    "# plt.plot(history.history['loss'][20:])\n",
    "# plt.plot(history.history['val_loss'][20:])\n",
    "# plt.title('model loss')\n",
    "# plt.ylabel('loss')\n",
    "# plt.xlabel('epoch')\n",
    "# plt.legend(['train', 'test'], loc='upper left')\n",
    "# plt.show()\n",
    "\n",
    "# plt.figure()\n",
    "# # summarize history for loss\n",
    "# plt.plot(history.history['loss'][20:])\n",
    "# plt.title('model loss')\n",
    "# plt.ylabel('loss')\n",
    "# plt.xlabel('epoch')\n",
    "# plt.legend(['train', 'test'], loc='upper left')\n",
    "# plt.show()\n",
    "\n",
    "# plt.figure()\n",
    "# # summarize history for loss\n",
    "# plt.plot(history.history['val_loss'][20:])\n",
    "# plt.title('model loss')\n",
    "# plt.ylabel('loss')\n",
    "# plt.xlabel('epoch')\n",
    "# plt.legend(['train', 'test'], loc='upper left')\n",
    "# plt.show()\n",
    "\n",
    "# plt.figure()\n",
    "# # summarize history for loss\n",
    "# plt.plot(history.history['val_loss'][200:])\n",
    "# plt.title('model loss')\n",
    "# plt.ylabel('loss')\n",
    "# plt.xlabel('epoch')\n",
    "# plt.legend(['train', 'test'], loc='upper left')\n",
    "# plt.show()"
   ]
  },
  {
   "cell_type": "code",
   "execution_count": 22,
   "metadata": {},
   "outputs": [
    {
     "name": "stdout",
     "output_type": "stream",
     "text": [
      "1726/1726 [==============================] - 2s 972us/step - loss: 0.5924 - mean_squared_error: 0.5924 - mean_absolute_error: 0.5501\n"
     ]
    },
    {
     "data": {
      "text/plain": [
       "[0.592354953289032, 0.592354953289032, 0.5500954389572144]"
      ]
     },
     "execution_count": 22,
     "metadata": {},
     "output_type": "execute_result"
    }
   ],
   "source": [
    "model.evaluate(X_val_scaled,y_val_log)\n"
   ]
  },
  {
   "cell_type": "code",
   "execution_count": 23,
   "metadata": {
    "scrolled": false
   },
   "outputs": [],
   "source": [
    "results = model.predict(X_val_scaled)#, y_val_log.values)#, batch_size=128)\n",
    "\n",
    "df_results = pd.DataFrame(data=results, index = X_val.index)\n",
    "\n",
    "# plt.figure()\n",
    "# plt.plot(y_val_log[:500])\n",
    "# plt.plot(df_results[:500])\n",
    "# plt.legend(['val', 'result'], loc='upper left')\n",
    "# plt.show()\n",
    "\n",
    "# plt.figure()\n",
    "# plt.plot(y_val_log[:5000])\n",
    "# plt.plot(df_results[:5000])\n",
    "# plt.legend(['val', 'result'], loc='upper left')\n",
    "# plt.show()\n",
    "\n",
    "# plt.figure()\n",
    "# plt.plot(y_val_log[:])\n",
    "# plt.plot(df_results[:])\n",
    "# plt.legend(['val', 'result'], loc='upper left')\n",
    "# plt.show()\n",
    "\n",
    "# plt.figure()\n",
    "# plt.plot(y_val_log[-500:])\n",
    "# plt.plot(df_results[-500:])\n",
    "# plt.legend(['val', 'result'], loc='upper left')\n",
    "# plt.show()\n",
    "\n",
    "# plt.figure()\n",
    "# plt.plot(y_val_log[:])\n",
    "# plt.plot(df_results[:])\n",
    "# plt.legend(['val', 'result'], loc='upper left')\n",
    "# plt.show()\n",
    "\n",
    "# plt.figure()\n",
    "# plt.plot(y_val_log[-500:])\n",
    "# plt.plot(df_results[-500:])\n",
    "# plt.legend(['val', 'result'], loc='upper left')\n",
    "# plt.show()"
   ]
  },
  {
   "cell_type": "code",
   "execution_count": 35,
   "metadata": {
    "scrolled": false
   },
   "outputs": [
    {
     "name": "stdout",
     "output_type": "stream",
     "text": [
      "705/705 [==============================] - 1s 2ms/step - loss: 35.7696 - mse: 9.5046 - mae: 1.9002 - val_loss: 2.0697 - val_mse: 2.0697 - val_mae: 1.1414\n"
     ]
    },
    {
     "data": {
      "application/vnd.jupyter.widget-view+json": {
       "model_id": "a87706f2017d4f588c53f0cc5e8e7fe9",
       "version_major": 2,
       "version_minor": 0
      },
      "text/plain": [
       "Canvas(toolbar=Toolbar(toolitems=[('Home', 'Reset original view', 'home', 'home'), ('Back', 'Back to previous …"
      ]
     },
     "metadata": {},
     "output_type": "display_data"
    },
    {
     "name": "stdout",
     "output_type": "stream",
     "text": [
      "705/705 [==============================] - 1s 2ms/step - loss: 36.7008 - mse: 10.1068 - mae: 1.8710 - val_loss: 2.0783 - val_mse: 2.0783 - val_mae: 1.1482\n"
     ]
    }
   ],
   "source": [
    "model = Sequential()\n",
    "model.add(Dense(int(256), activation='relu'))\n",
    "model.add(Dropout(.5))\n",
    "model.add(Dense(64, activation='relu'))\n",
    "model.add(Dense(16, activation='relu'))\n",
    "model.add(Dense(1))\n",
    "#compile model using accuracy to measure model performance\n",
    "model.compile(loss='mse', optimizer='adam',  metrics=['mse','mae'])\n",
    "history = model.fit(X, np.array(y_train_log), \n",
    "    validation_data=(X_test, np.array(y_val_log)), batch_size=1024,epochs=1, sample_weight=sample_weights)\n",
    "model.load_weights('best_with_auroral_region_weights_weightfile.h5')\n",
    "\n",
    "results = model.predict(X_val_scaled)#, y_val_log.values)#, batch_size=128)\n",
    "df_results = pd.DataFrame(data=results, index = X_val.index)\n",
    "\n",
    "indices = np.array(np.linspace(35,80,num=80-35+1,dtype=np.int))\n",
    "\n",
    "%matplotlib widget\n",
    "\n",
    "\n",
    "fig, ax1 = plt.subplots(figsize=(10,8))\n",
    "color = 'tab:red'\n",
    "ax1.set_xlabel('time (s)')\n",
    "ax1.set_ylabel('flux', color=color)\n",
    "ax1.tick_params(axis='y', labelcolor=color)\n",
    "\n",
    "ax1.plot(y_val_log[:10000])\n",
    "ax1.plot(df_results[:10000])\n",
    "\n",
    "model = Sequential()\n",
    "model.add(Dense(int(256), activation='relu'))\n",
    "model.add(Dropout(.5))\n",
    "model.add(Dense(64, activation='relu'))\n",
    "model.add(Dense(16, activation='relu'))\n",
    "model.add(Dense(1))\n",
    "#compile model using accuracy to measure model performance\n",
    "model.compile(loss='mse', optimizer='adam',  metrics=['mse','mae'])\n",
    "history = model.fit(X[:,:148], np.array(y_train_log), \n",
    "    validation_data=(X_test[:,:148], np.array(y_val_log)), batch_size=1024,epochs=1, sample_weight=sample_weights)\n",
    "model.load_weights('best_base_line_Weightfile.h5')\n",
    "\n",
    "\n",
    "results = model.predict(X_val_scaled[:,:148])#, y_val_log.values)#, batch_size=128)\n",
    "df_results = pd.DataFrame(data=results, index = X_val.index)\n",
    "\n",
    "ax1.plot(df_results[:10000])\n",
    "\n",
    "ax1.legend(['true energy flux', 'predicted with auroral region', 'predicted  baseline'], loc='upper left')\n",
    "plt.title('Weighted samples')\n",
    "plt.show()\n",
    "\n",
    "\n",
    "ax2 = ax1.twinx()  # instantiate a second axes that shares the same x-axis\n",
    "\n",
    "color = 'tab:purple'\n",
    "ax2.set_ylabel('MLat', color=color)  # we already handled the x-label with ax1\n",
    "ax2.tick_params(axis='y', labelcolor=color)\n",
    "ax2.plot(y_val_log.index[:10000], X_val['SC_AACGM_LAT'].values[:10000], color=color)\n",
    "\n",
    "\n",
    "fig.tight_layout()  # otherwise the right y-label is slightly clipped\n"
   ]
  },
  {
   "cell_type": "code",
   "execution_count": 36,
   "metadata": {
    "scrolled": false
   },
   "outputs": [
    {
     "name": "stdout",
     "output_type": "stream",
     "text": [
      "705/705 [==============================] - 1s 2ms/step - loss: 39.6808 - mse: 9.7314 - mae: 2.0122 - val_loss: 2.0506 - val_mse: 2.0506 - val_mae: 1.1237\n"
     ]
    },
    {
     "data": {
      "application/vnd.jupyter.widget-view+json": {
       "model_id": "688a903786ab4c61b9361a00c6e8af94",
       "version_major": 2,
       "version_minor": 0
      },
      "text/plain": [
       "Canvas(toolbar=Toolbar(toolitems=[('Home', 'Reset original view', 'home', 'home'), ('Back', 'Back to previous …"
      ]
     },
     "metadata": {},
     "output_type": "display_data"
    },
    {
     "name": "stdout",
     "output_type": "stream",
     "text": [
      "705/705 [==============================] - 1s 2ms/step - loss: 41.7855 - mse: 10.2791 - mae: 1.9152 - val_loss: 2.1507 - val_mse: 2.1507 - val_mae: 1.1709\n"
     ]
    }
   ],
   "source": [
    "%matplotlib widget\n",
    "\n",
    "model = Sequential()\n",
    "model.add(Dense(int(256), activation='relu'))\n",
    "model.add(Dropout(.5))\n",
    "model.add(Dense(64, activation='relu'))\n",
    "model.add(Dense(16, activation='relu'))\n",
    "model.add(Dense(1))\n",
    "#compile model using accuracy to measure model performance\n",
    "model.compile(loss='mse', optimizer='adam',  metrics=['mse','mae'])\n",
    "history = model.fit(X, np.array(y_train_log), \n",
    "    validation_data=(X_test, np.array(y_val_log)), batch_size=1024,epochs=1, sample_weight=sample_weights)\n",
    "model.load_weights('best_with_auroral_region_weights_weightfile.h5')\n",
    "\n",
    "results = model.predict(X_val_scaled)#, y_val_log.values)#, batch_size=128)\n",
    "df_results = pd.DataFrame(data=results, index = X_val.index)\n",
    "\n",
    "indices = np.array(np.linspace(35,80,num=80-35+1,dtype=np.int))\n",
    "\n",
    "fig, ax1 = plt.subplots(figsize=(10,8))\n",
    "\n",
    "color = 'tab:red'\n",
    "ax1.set_xlabel('time (s)')\n",
    "ax1.set_ylabel('flux', color=color)\n",
    "ax1.tick_params(axis='y', labelcolor=color)\n",
    "\n",
    "ax1.plot(10**y_val_log[:]*1.6e-12)\n",
    "ax1.plot(10**df_results[:]*1.6e-12)\n",
    "\n",
    "model = Sequential()\n",
    "model.add(Dense(int(256), activation='relu'))\n",
    "model.add(Dropout(.5))\n",
    "model.add(Dense(64, activation='relu'))\n",
    "model.add(Dense(16, activation='relu'))\n",
    "model.add(Dense(1))\n",
    "#compile model using accuracy to measure model performance\n",
    "model.compile(loss='mse', optimizer='adam',  metrics=['mse','mae'])\n",
    "history = model.fit(X[:,:148], np.array(y_train_log), \n",
    "    validation_data=(X_test[:,:148], np.array(y_val_log)), batch_size=1024,epochs=1, sample_weight=sample_weights)\n",
    "model.load_weights('best_base_line_Weightfile.h5')\n",
    "\n",
    "results = model.predict(X_val_scaled[:,:148])#, y_val_log.values)#, batch_size=128)\n",
    "df_results = pd.DataFrame(data=results, index = X_val.index)\n",
    "\n",
    "ax1.plot(10**df_results[:]*1.6e-12)\n",
    "\n",
    "ax1.legend(['true energy flux', 'predicted with auroral region', 'predicted  baseline'], loc='upper left')\n",
    "plt.title('Weighted samples')\n",
    "plt.show()\n",
    "\n",
    "\n",
    "ax2 = ax1.twinx()  # instantiate a second axes that shares the same x-axis\n",
    "\n",
    "color = 'tab:purple'\n",
    "ax2.set_ylabel('MLat', color=color)  # we already handled the x-label with ax1\n",
    "ax2.tick_params(axis='y', labelcolor=color)\n",
    "#ax2.plot(X_val['SC_AACGM_LAT'][:5000], color=color)\n",
    "\n",
    "\n",
    "fig.tight_layout()  # otherwise the right y-label is slightly clipped\n"
   ]
  },
  {
   "cell_type": "code",
   "execution_count": 37,
   "metadata": {},
   "outputs": [
    {
     "name": "stdout",
     "output_type": "stream",
     "text": [
      "2010-03-27 02:59:00\n",
      "705/705 [==============================] - 1s 2ms/step - loss: 34.4430 - mse: 9.0898 - mae: 1.9295 - val_loss: 1.8853 - val_mse: 1.8853 - val_mae: 1.0808\n"
     ]
    },
    {
     "data": {
      "application/vnd.jupyter.widget-view+json": {
       "model_id": "e8d8dc422a6444848b4757ebb5f9cec4",
       "version_major": 2,
       "version_minor": 0
      },
      "text/plain": [
       "Canvas(toolbar=Toolbar(toolitems=[('Home', 'Reset original view', 'home', 'home'), ('Back', 'Back to previous …"
      ]
     },
     "metadata": {},
     "output_type": "display_data"
    },
    {
     "name": "stdout",
     "output_type": "stream",
     "text": [
      "705/705 [==============================] - 1s 2ms/step - loss: 39.9443 - mse: 10.4944 - mae: 2.0748 - val_loss: 2.2263 - val_mse: 2.2263 - val_mae: 1.1832\n"
     ]
    }
   ],
   "source": [
    "index = 8000\n",
    "print(X_val.index[index])\n",
    "\n",
    "%matplotlib widget\n",
    "\n",
    "model = Sequential()\n",
    "model.add(Dense(int(256), activation='relu'))\n",
    "model.add(Dropout(.5))\n",
    "model.add(Dense(64, activation='relu'))\n",
    "model.add(Dense(16, activation='relu'))\n",
    "model.add(Dense(1))\n",
    "#compile model using accuracy to measure model performance\n",
    "model.compile(loss='mse', optimizer='adam',  metrics=['mse','mae'])\n",
    "history = model.fit(X, np.array(y_train_log), \n",
    "    validation_data=(X_test, np.array(y_val_log)), batch_size=1024,epochs=1, sample_weight=sample_weights)\n",
    "model.load_weights('best_with_auroral_region_weights_weightfile.h5')\n",
    "\n",
    "results = model.predict(X_val_scaled)#, y_val_log.values)#, batch_size=128)\n",
    "df_results = pd.DataFrame(data=results, index = X_val.index)\n",
    "\n",
    "indices = np.array(np.linspace(35,80,num=80-35+1,dtype=np.int))\n",
    "\n",
    "fig, ax1 = plt.subplots(figsize=(10,8))\n",
    "\n",
    "color = 'tab:red'\n",
    "ax1.set_xlabel('time (s)')\n",
    "ax1.set_ylabel('flux', color=color)\n",
    "ax1.tick_params(axis='y', labelcolor=color)\n",
    "\n",
    "ax1.plot(10**y_val_log[:]*1.6e-12)\n",
    "ax1.plot(10**df_results[:]*1.6e-12)\n",
    "\n",
    "\n",
    "model = Sequential()\n",
    "model.add(Dense(int(256), activation='relu'))\n",
    "model.add(Dropout(.5))\n",
    "model.add(Dense(64, activation='relu'))\n",
    "model.add(Dense(16, activation='relu'))\n",
    "model.add(Dense(1))\n",
    "#compile model using accuracy to measure model performance\n",
    "model.compile(loss='mse', optimizer='adam',  metrics=['mse','mae'])\n",
    "history = model.fit(X[:,:148], np.array(y_train_log), \n",
    "    validation_data=(X_test[:,:148], np.array(y_val_log)), batch_size=1024,epochs=1, sample_weight=sample_weights)\n",
    "model.load_weights('best_base_line_Weightfile.h5')\n",
    "\n",
    "\n",
    "results = model.predict(X_val_scaled[:,:148])#, y_val_log.values)#, batch_size=128)\n",
    "df_results = pd.DataFrame(data=results, index = X_val.index)\n",
    "\n",
    "ax1.plot(10**df_results[:]*1.6e-12)\n",
    "\n",
    "ax1.legend(['true energy flux', 'predicted with auroral region', 'predicted  baseline'], loc='upper left')\n",
    "plt.title('Weighted samples')\n",
    "plt.show()\n",
    "\n",
    "\n",
    "ax2 = ax1.twinx()  # instantiate a second axes that shares the same x-axis\n",
    "\n",
    "color = 'tab:purple'\n",
    "ax2.set_ylabel('MLat', color=color)  # we already handled the x-label with ax1\n",
    "ax2.tick_params(axis='y', labelcolor=color)\n",
    "#ax2.plot(X_val['SC_AACGM_LAT'][:5000], color=color)\n",
    "\n",
    "\n",
    "fig.tight_layout()  # otherwise the right y-label is slightly clipped\n"
   ]
  },
  {
   "cell_type": "markdown",
   "metadata": {},
   "source": [
    "# now test one of the models at one time for the whole earth"
   ]
  },
  {
   "cell_type": "code",
   "execution_count": null,
   "metadata": {},
   "outputs": [],
   "source": [
    "\n"
   ]
  },
  {
   "cell_type": "code",
   "execution_count": 38,
   "metadata": {},
   "outputs": [],
   "source": [
    "# Bz neg is active, also AE, symh"
   ]
  },
  {
   "cell_type": "code",
   "execution_count": null,
   "metadata": {
    "scrolled": false
   },
   "outputs": [
    {
     "name": "stdout",
     "output_type": "stream",
     "text": [
      "time 2010-02-15 13:55:00\n",
      "  404/10146 [>.............................] - ETA: 15s - loss: 0.7855 - accuracy: 0.6487"
     ]
    }
   ],
   "source": [
    "\n",
    "df_val['aurora_type'][ df_val['aurora_type']==4 ]= 1\n",
    "df_train['aurora_type'][ df_train['aurora_type']==4 ]= 1\n",
    "\n",
    "\n",
    "test_i = 9200\n",
    "print('time', df_val.index[test_i] )\n",
    "\n",
    "model2 = Sequential()\n",
    "model2.add(Dense(int(256), activation='relu'))\n",
    "model2.add(Dropout(.5))\n",
    "model2.add(Dense(64, activation='relu'))\n",
    "model2.add(Dense(16, activation='relu'))\n",
    "model2.add(Dense(3,activation='softmax'))\n",
    "#compile model using accuracy to measure model performance\n",
    "model2.compile(loss=tf.keras.losses.CategoricalCrossentropy(from_logits=False), optimizer='adam',  metrics=['accuracy'])\n",
    "history = model2.fit(X_train_no_aurora_type_scaled, y_train_aurora_type_encoded, validation_data=(X_val_no_aurora_type_scaled, y_val_aurora_type_encoded), batch_size=32,epochs=1)\n",
    "model2.load_weights('best_auroral_region_predictor_sampleweights_weights.h5')\n",
    "\n",
    "feature_cols = [c for c in df_train.columns if not 'ELE' in c]\n",
    "    \n",
    "X_val = df_val[feature_cols].copy(deep=True)\n",
    "X_train = df_train[feature_cols].copy(deep=True)\n",
    "X_train_no_aurora_type = X_train.drop(columns='aurora_type')\n",
    "scaler_X_region = preprocessing.RobustScaler()\n",
    "scaler_X_region = scaler_X_region.fit(X_train_no_aurora_type.values)\n",
    "# X_val_scaled = scaler_X_region.transform(X_val_no_aurora_type.values)\n",
    "\n",
    "X_train = df_train[feature_cols].copy(deep=True)\n",
    "scaler_X_all = preprocessing.RobustScaler()\n",
    "scaler_X_all = scaler_X_all.fit(X_train.values)\n",
    "\n",
    "\n",
    "mlatgridN = np.linspace(45,90,num=100)\n",
    "mltgridN =  np.linspace(0,24,num=100)\n",
    "\n",
    "model_input = np.zeros((mlatgridN.shape[0], mltgridN.shape[0],149))\n",
    "flux = np.zeros((mlatgridN.shape[0], mltgridN.shape[0]))\n",
    "print(model_input.shape)\n",
    "for i in range(0,mlatgridN.shape[0]):\n",
    "    for j in range(0,mltgridN.shape[0]):      \n",
    "        #calc cos and sin\n",
    "        rads = mltgridN[j]*15*3.14159/180.\n",
    "        model_input[i,j,:148]=X_val.values[test_i,:148]\n",
    "        model_input[i,j,7]=np.cos(rads)\n",
    "        model_input[i,j,6]=np.sin(rads)\n",
    "        model_input[i,j,0]=mlatgridN[i]\n",
    "\n",
    "for i in range(0,mlatgridN.shape[0]):\n",
    "    # scale input\n",
    "    X_val_scaled = scaler_X_region.transform(model_input[i,:,:148])\n",
    "    #get auroral region\n",
    "    results = (model2.predict_classes(X_val_scaled))+1\n",
    "    model_input[i,:,148] = results\n",
    "\n",
    "for i in range(0,mlatgridN.shape[0]):\n",
    "    for j in range(0,mltgridN.shape[0]):        \n",
    "        #calc cos and sin\n",
    "        rads = mltgridN[j]*15*3.14159/180.\n",
    "        model_input[i,j,:148]=X_val.values[test_i,:148]\n",
    "        model_input[i,j,7]=np.cos(rads)\n",
    "        model_input[i,j,6]=np.sin(rads)\n",
    "        model_input[i,j,0]=mlatgridN[i]\n",
    "        \n",
    "model = Sequential()\n",
    "model.add(Dense(int(256), activation='relu'))\n",
    "model.add(Dropout(.5))\n",
    "model.add(Dense(64, activation='relu'))\n",
    "model.add(Dense(16, activation='relu'))\n",
    "model.add(Dense(1))\n",
    "#compile model using accuracy to measure model performance\n",
    "model.compile(loss='mse', optimizer='adam',  metrics=['mse','mae'])\n",
    "history = model.fit(X, np.array(y_train_log), \n",
    "    validation_data=(X_test, np.array(y_val_log)), batch_size=1024,epochs=1, sample_weight=sample_weights)\n",
    "model.load_weights('best_with_auroral_region_weights_weightfile.h5')\n",
    "\n",
    "for i in range(0,mlatgridN.shape[0]):\n",
    "    for j in range(0,mlatgridN.shape[0]):\n",
    "    # scale input\n",
    "        shaped = np.reshape(model_input[i,j,:],(1,149))\n",
    "        X_val_scaled = scaler_X_all.transform(shaped)\n",
    "        #get auroral region\n",
    "        flux[i,j] = model.predict(X_val_scaled)[0]\n",
    "\n",
    "# #Here's how you go back to LTIME from sin and cos of LTIME: np.degrees( np.arctan2(sin_LTIME,cos_LTIME) ) / 15.\n",
    "\n",
    "os.system('source ~/Downloads/cdf37_1-dist/src/definitions/definitions.K')\n",
    "os.environ[\"CDF_LIB\"] = '/home/jackalak/Downloads/cdf37_1-dist/lib'\n",
    "from ovationpyme.ovation_plotting import latlt2polar,polar2dial,pcolor_flux\n",
    "%matplotlib inline\n",
    "\n",
    "\n",
    "\n",
    "\n",
    "f = plt.figure(figsize=(12,6),dpi=150)\n",
    "axN = f.add_subplot(121,projection='polar')\n",
    "pcolor_kwargs = {'cmap':'gnuplot'}\n",
    "mappableN = pcolor_flux(axN,mlatgridN,mltgridN, model_input[:,:,148] ,'N',**pcolor_kwargs)\n",
    "f.colorbar(mappableN,ax=axN,label='Auroral Region')\n",
    "axN.set_title('Northern Hemisphere')\n",
    "polar2dial(axN)\n",
    "f.suptitle('')\n",
    "plt.show()\n",
    "\n",
    "mlatgridN = np.linspace(45,90,num=100)\n",
    "mltgridN =  np.linspace(0,24,num=100)        \n",
    "f = plt.figure(figsize=(12,6),dpi=150)\n",
    "axN = f.add_subplot(121,projection='polar')\n",
    "pcolor_kwargs = {'cmap':'gnuplot'}\n",
    "mappableN = pcolor_flux(axN,mlatgridN,mltgridN,(10**flux)*(1.60218e-12),'N',**pcolor_kwargs)\n",
    "f.colorbar(mappableN,ax=axN,label='Total Flux')\n",
    "axN.set_title('Northern Hemisphere')\n",
    "polar2dial(axN)\n",
    "f.suptitle('')\n",
    "plt.show()\n",
    "\n",
    "\n",
    "import numpy as np\n",
    "import matplotlib.pyplot as plt\n",
    "from ovationpyme.ovation_prime import FluxEstimator,AverageEnergyEstimator,BinCorrector\n",
    "from ovationpyme.ovation_utilities import calc_avg_solarwind\n",
    "from ovationpyme.ovation_plotting import latlt2polar,polar2dial,pcolor_flux\n",
    "import ipywidgets\n",
    "from collections import OrderedDict\n",
    "from functools import partial\n",
    "\n",
    "auroral_types = ['diff','mono','wave','ions']\n",
    "\n",
    "\n",
    "f = plt.figure(figsize=(12,6),dpi=150)\n",
    "axN = f.add_subplot(121,projection='polar')\n",
    "# axS = f.add_subplot(122,projection='polar')\n",
    "for i in range(0,3):\n",
    "    atype = auroral_types[i]\n",
    "    jtype =\"energy\"\n",
    "    bincorrect = True\n",
    "    combine_hemispheres = True\n",
    "    dt = df_val.index[test_i] \n",
    "    print(dt)\n",
    "    dtstr = dt.strftime('%Y%m%d %H:%M')\n",
    "    if jtype=='average energy':\n",
    "        estimator = AverageEnergyEstimator(atype)\n",
    "        get_precip_for_time = estimator.get_eavg_for_time\n",
    "    else:\n",
    "        estimator = FluxEstimator(atype,jtype)\n",
    "        get_precip_for_time = estimator.get_flux_for_time\n",
    "\n",
    "\n",
    "    tflux_kwargs = {'combine_hemispheres':combine_hemispheres,\n",
    "                    'return_dF':True}\n",
    "    fluxtupleN = get_precip_for_time(dt,hemi='N',**tflux_kwargs)\n",
    "    mlatgridN,mltgridN,fluxgridN,newell_coupling = fluxtupleN\n",
    "    fluxtupleS = get_precip_for_time(dt,hemi='S',**tflux_kwargs)\n",
    "    mlatgridS,mltgridS,fluxgridS,newell_coupling = fluxtupleS\n",
    "\n",
    "    if bincorrect:\n",
    "        bcN = BinCorrector(mlatgridN,mltgridN)\n",
    "        fluxgridN = bcN.fix(fluxgridN)\n",
    "        bcS = BinCorrector(mlatgridS,mltgridS)\n",
    "        fluxgridS = bcS.fix(fluxgridS)\n",
    "        print(\"Correction Applied\")\n",
    "\n",
    "    if i == 0:\n",
    "        fluxgridN_sum = fluxgridN\n",
    "        fluxgridS_sum = fluxgridS\n",
    "    else:\n",
    "        fluxgridN_sum = fluxgridN_sum+fluxgridN\n",
    "        fluxgridS_sum = fluxgridN_sum+fluxgridS\n",
    "\n",
    "\n",
    "mappableN = pcolor_flux(axN,mlatgridN,mltgridN,fluxgridN_sum,'N',**pcolor_kwargs)\n",
    "# mappableS = pcolor_flux(axS,mlatgridS,mltgridS,fluxgridS_sum,'S',**pcolor_kwargs)\n",
    "f.colorbar(mappableN,ax=axN,label=jtype)\n",
    "# f.colorbar(mappableS,ax=axS,label=jtype)\n",
    "axN.set_title('Northern Hemisphere')\n",
    "# axS.set_title('Southern Hemisphere')\n",
    "polar2dial(axN)\n",
    "# polar2dial(axS)\n",
    "f.suptitle(('Total Electron Flux'+'\\nNewell Coupling (%s): %f' % (dtstr,newell_coupling)))\n",
    "plt.show()\n"
   ]
  },
  {
   "cell_type": "code",
   "execution_count": null,
   "metadata": {},
   "outputs": [],
   "source": []
  },
  {
   "cell_type": "code",
   "execution_count": null,
   "metadata": {},
   "outputs": [],
   "source": []
  },
  {
   "cell_type": "code",
   "execution_count": null,
   "metadata": {},
   "outputs": [],
   "source": []
  }
 ],
 "metadata": {
  "kernelspec": {
   "display_name": "Python 3",
   "language": "python",
   "name": "python3"
  }
 },
 "nbformat": 4,
 "nbformat_minor": 2
}
