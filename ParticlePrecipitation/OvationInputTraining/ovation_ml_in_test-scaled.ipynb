{
 "cells": [
  {
   "cell_type": "code",
   "execution_count": 1,
   "metadata": {},
   "outputs": [
    {
     "name": "stdout",
     "output_type": "stream",
     "text": [
      "Traceback (most recent call last):\n",
      "  File \"/usr/local/lib/python3.6/dist-packages/geospacepy-0.1.0-py3.6.egg/geospacepy/__init__.py\", line 8, in <module>\n",
      "    from geospacepy.geospacepy_config import config\n",
      "ModuleNotFoundError: No module named 'geospacepy.geospacepy_config'\n",
      "\n",
      "Solar wind data files will be saved to /home/jackalak/.local/share/geospacepy\n"
     ]
    }
   ],
   "source": [
    "\n",
    "\n",
    "import numpy as np\n",
    "import os\n",
    "\n",
    "os.system('source ~/Downloads/cdf37_1-dist/src/definitions/definitions.K')\n",
    "os.environ[\"CDF_LIB\"] = '/home/jackalak/Downloads/cdf37_1-dist/lib'\n",
    "import pandas as pd\n",
    "import seaborn as sns\n",
    "from pandas.plotting import register_matplotlib_converters\n",
    "register_matplotlib_converters()\n",
    "import datetime\n",
    "from os.path import isfile, join\n",
    "from sys import getsizeof\n",
    "import glob\n",
    "\n",
    "from random import *\n",
    "\n",
    "from sklearn import *\n",
    "\n",
    "from scipy import interpolate\n",
    "\n",
    "from ovationpyme import ovation_utilities\n",
    "\n",
    "from ovationpyme.ovation_utilities import robinson_auroral_conductance\n",
    "from ovationpyme.ovation_utilities import brekke_moen_solar_conductance\n",
    "\n",
    "import geospacepy\n",
    "from geospacepy import special_datetime,astrodynamics2,satplottools\n",
    "import aacgmv2 #available on pip\n",
    "\n",
    "%matplotlib inline  \n",
    "\n",
    "\n",
    "import numpy as np\n",
    "import matplotlib.pyplot as plt\n",
    "from ovationpyme.ovation_prime import FluxEstimator,AverageEnergyEstimator,BinCorrector, SeasonalFluxEstimator\n",
    "from ovationpyme.ovation_utilities import calc_avg_solarwind\n",
    "from ovationpyme.ovation_plotting import latlt2polar,polar2dial,pcolor_flux\n",
    "import ipywidgets\n",
    "from collections import OrderedDict\n",
    "from functools import partial\n",
    "\n",
    "auroral_types = ['diff','mono','wave']#,'ions']\n",
    "flux_types = [\n",
    "                \"energy\",\n",
    "                \"number\",\n",
    "                \"average energy\"\n",
    "            ]\n",
    "\n",
    "import datetime\n",
    "from collections import OrderedDict\n",
    "\n",
    "import numpy as np\n",
    "import functools\n",
    "\n",
    "from geospacepy import omnireader, special_datetime, astrodynamics2\n",
    "\n",
    "_ovation_prime_omni_cadence = 'hourly' #Ovation Prime was created using hourly SW\n",
    "\n",
    "\n",
    "\n",
    "\n",
    "atype =auroral_types[0] #widgets['atype_select'].value\n",
    "jtype = 'energy'#widgets['jtype_select'].value\n",
    "bincorrect = True#widgets['bincorrect_toggle'].value\n",
    "combine_hemispheres = True#widgets['combineNS_toggle'].value\n",
    "manual_newell = -1#widgets['newell_float'].value"
   ]
  },
  {
   "cell_type": "code",
   "execution_count": null,
   "metadata": {},
   "outputs": [],
   "source": [
    "file_load_df_cumulative = 'ML_DB_subsamp_ext_full_dfCumulative_complexHemisphereCombine.csv'\n",
    "DMSP_DATA_DIR=''\n",
    "df_cumulative = pd.read_csv(os.path.join(DMSP_DATA_DIR,file_load_df_cumulative))\n",
    "df_cumulative = df_cumulative.sort_values(by=[ 'Datetimes'])\n",
    "df_cumulative = df_cumulative.set_index('Datetimes')\n",
    "df_cumulative.index = pd.to_datetime(df_cumulative.index)\n",
    "\n",
    "cols_to_drop_validation = [c for c in df_cumulative.columns if ('STD' in c) | ('AVG' in c)]#] | ('SC_AACGM_LTIME'==c)]\n",
    "# cols_to_drop_validation = [c for c in df.columns if ('1min' in c) | ('3min' in c) | ('4min' in c) | ('5min' in c) | ('15min' in c) | ('newell' in c) | ('STD' in c) | ('AVG' in c) | ('SC_AACGM_LTIME'==c)]\n",
    "\n",
    "df_cumulative = df_cumulative.drop(columns=cols_to_drop_validation)\n",
    "# Separate training and testing data\n",
    "mask_val = [(df_cumulative.index.year == 2010) & (df_cumulative['ID_SC'].values==16)]\n",
    "df_val = df_cumulative[mask_val[0]].copy(deep=True)\n",
    "df_train = df_cumulative.copy(deep=True).drop( df_cumulative.index[mask_val[0]])"
   ]
  },
  {
   "cell_type": "code",
   "execution_count": null,
   "metadata": {},
   "outputs": [],
   "source": [
    "import pickle\n",
    "\n",
    "with open('ovation_fluxes_val','rb') as f: ovation_fluxes_val = pickle.load(f)\n",
    "with open('ovation_fluxes_train','rb') as f: ovation_fluxes_train = pickle.load(f)"
   ]
  },
  {
   "cell_type": "code",
   "execution_count": null,
   "metadata": {},
   "outputs": [],
   "source": [
    "df_val['ovation_flux_sum'] = ovation_fluxes_val[0,:]+ovation_fluxes_val[1,:]+ovation_fluxes_val[2,:]\n",
    "df_train['ovation_flux_sum'] = ovation_fluxes_train[0,:]+ovation_fluxes_train[1,:]+ovation_fluxes_train[2,:]\n",
    "import numpy as np\n",
    "from tensorflow.keras.models import Sequential\n",
    "from tensorflow.keras.layers import Dense, Conv2D, Flatten, Dropout\n",
    "from sklearn import preprocessing"
   ]
  },
  {
   "cell_type": "code",
   "execution_count": null,
   "metadata": {},
   "outputs": [],
   "source": [
    "# Construct X and y\n",
    "feature_cols = [c for c in df_cumulative.columns if not 'ELE' in c]\n",
    "#print( (feature_cols))\n",
    "#print(df_cumulative.columns)\n",
    "\n",
    "X_val = df_val[feature_cols].copy(deep=True)\n",
    "y_val = df_val['ELE_TOTAL_ENERGY_FLUX'].copy(deep=True)\n",
    "X_train = df_train[feature_cols].copy(deep=True)\n",
    "y_train = df_train['ELE_TOTAL_ENERGY_FLUX'].copy(deep=True)\n",
    "scaler_X = preprocessing.RobustScaler()\n",
    "scaler_X = scaler_X.fit(X_train.values)\n",
    "X_val_scaled = scaler_X.transform(X_val.values)\n",
    "X_train_scaled = scaler_X.transform(X_train.values)\n",
    "\n",
    "numFeatures = len(X_train.columns.to_list())\n",
    "feature_labels = X_train.columns.to_list()\n",
    "#print(numFeatures)\n",
    "\n",
    "y_train_erg = y_train.copy(deep=True) * (1.60218e-12)\n",
    "y_val_erg = y_val.copy(deep=True) * (1.60218e-12)\n",
    "\n",
    "y_train[y_train == 0] = 0.0001\n",
    "y_val[y_val == 0] = 0.0001\n",
    "y_train_log = np.log10(y_train.copy(deep=True))\n",
    "y_val_log = np.log10(y_val.copy(deep=True))\n",
    "\n",
    "for i in range(0,X_train_scaled.shape[1]):\n",
    "    maxi = np.max(np.abs(X_train_scaled[:,i]))\n",
    "    print(np.max(np.abs(X_train_scaled[:,i])))\n",
    "    X_train_scaled[:,i] = X_train_scaled[:,i]/maxi\n",
    "    X_val_scaled[:,i]= X_val_scaled[:,i]/maxi\n",
    "\n",
    "    print(np.max(np.abs(X_train_scaled[:,i])))"
   ]
  },
  {
   "cell_type": "code",
   "execution_count": null,
   "metadata": {},
   "outputs": [],
   "source": [
    "\n",
    "for i in range(0,X_train_scaled.shape[1]):\n",
    "    print(np.max(np.abs(X_train_scaled[:,i])))\n"
   ]
  },
  {
   "cell_type": "code",
   "execution_count": null,
   "metadata": {},
   "outputs": [],
   "source": [
    "import tensorflow\n",
    "\n",
    "from tensorflow.keras.models import Sequential\n",
    "from tensorflow.keras.layers import Dense, Conv2D, Flatten\n",
    "\n",
    "from tensorflow.compat.v1 import ConfigProto\n",
    "from tensorflow.compat.v1 import InteractiveSession\n",
    "\n",
    "config = ConfigProto()\n",
    "config.gpu_options.allow_growth = True\n",
    "session = InteractiveSession(config=config)"
   ]
  },
  {
   "cell_type": "code",
   "execution_count": null,
   "metadata": {
    "scrolled": true
   },
   "outputs": [],
   "source": [
    "#create model\n",
    "model = Sequential()\n",
    "\n",
    "model.add(Dense(int(256), activation='relu'))\n",
    "model.add(Dense(64, activation='relu'))\n",
    "model.add(Dense(4, activation='relu'))\n",
    "model.add(Dense(1))\n",
    "\n",
    "\n",
    "#compile model using accuracy to measure model performance\n",
    "model.compile(loss='mse', optimizer='adam',  metrics=['mse'])\n",
    "\n",
    "model.fit(X_train_scaled, np.array(y_train_log), validation_data=(X_val_scaled, np.array(y_val_log)),batch_size=8192, epochs=500)\n",
    "results = model.predict(X_val_scaled)#, y_val_log.values)#, batch_size=128)\n",
    "plt.figure(figsize=(12,12))\n",
    "\n",
    "plt.plot(y_val_log.values[:500])\n",
    "plt.plot(results[:500])\n",
    "plt.show()"
   ]
  },
  {
   "cell_type": "code",
   "execution_count": null,
   "metadata": {},
   "outputs": [],
   "source": [
    "# Construct X and y\n",
    "feature_cols = [c for c in df_cumulative.columns if not (('ELE' in c)| ( 'ovation' in c) )]\n",
    "print( (feature_cols))\n",
    "#print(df_cumulative.columns)\n",
    "\n",
    "X_val = df_val[feature_cols].copy(deep=True)\n",
    "y_val = df_val['ELE_TOTAL_ENERGY_FLUX'].copy(deep=True)\n",
    "X_train = df_train[feature_cols].copy(deep=True)\n",
    "y_train = df_train['ELE_TOTAL_ENERGY_FLUX'].copy(deep=True)\n",
    "scaler_X = preprocessing.RobustScaler()\n",
    "scaler_X = scaler_X.fit(X_train.values)\n",
    "X_val_scaled = scaler_X.transform(X_val.values)\n",
    "X_train_scaled = scaler_X.transform(X_train.values)\n",
    "\n",
    "numFeatures = len(X_train.columns.to_list())\n",
    "feature_labels = X_train.columns.to_list()\n",
    "#print(numFeatures)\n",
    "\n",
    "y_train_erg = y_train.copy(deep=True) * (1.60218e-12)\n",
    "y_val_erg = y_val.copy(deep=True) * (1.60218e-12)\n",
    "\n",
    "y_train[y_train == 0] = 0.0001\n",
    "y_val[y_val == 0] = 0.0001\n",
    "y_train_log = np.log10(y_train.copy(deep=True))\n",
    "y_val_log = np.log10(y_val.copy(deep=True))\n",
    "\n",
    "model = Sequential()\n",
    "\n",
    "model.add(Dense(int(256), activation='relu'))\n",
    "model.add(Dense(64, activation='relu'))\n",
    "model.add(Dense(4, activation='relu'))\n",
    "model.add(Dense(1))\n",
    "\n",
    "\n",
    "#compile model using accuracy to measure model performance\n",
    "model.compile(loss='mse', optimizer='adam',  metrics=['mse'])\n",
    "\n",
    "model.fit(X_train_scaled, np.array(y_train_log), validation_data=(X_val_scaled, np.array(y_val_log)),batch_size=8192, epochs=500)\n",
    "results = model.predict(X_val_scaled)#, y_val_log.values)#, batch_size=128)"
   ]
  },
  {
   "cell_type": "code",
   "execution_count": null,
   "metadata": {},
   "outputs": [],
   "source": [
    "plt.figure(figsize=(12,12))\n",
    "\n",
    "plt.plot(y_val_log.values[:500])\n",
    "plt.plot(results[:500])\n",
    "plt.show()"
   ]
  },
  {
   "cell_type": "code",
   "execution_count": null,
   "metadata": {},
   "outputs": [],
   "source": [
    "df_val['ovation_flux_1'] = ovation_fluxes_val[0,:]\n",
    "df_train['ovation_flux_1'] = ovation_fluxes_train[0,:]\n",
    "df_val['ovation_flux_2'] = ovation_fluxes_val[1,:]\n",
    "df_train['ovation_flux_2'] = ovation_fluxes_train[1,:]\n",
    "df_val['ovation_flux_3'] = ovation_fluxes_val[2,:]\n",
    "df_train['ovation_flux_3'] = ovation_fluxes_train[2,:]\n",
    "\n",
    "\n",
    "# Construct X and y\n",
    "feature_cols = [c for c in df_cumulative.columns if not 'ELE' in c]\n",
    "#print( (feature_cols))\n",
    "#print(df_cumulative.columns)\n",
    "\n",
    "X_val = df_val[feature_cols].copy(deep=True)\n",
    "y_val = df_val['ELE_TOTAL_ENERGY_FLUX'].copy(deep=True)\n",
    "X_train = df_train[feature_cols].copy(deep=True)\n",
    "y_train = df_train['ELE_TOTAL_ENERGY_FLUX'].copy(deep=True)\n",
    "scaler_X = preprocessing.RobustScaler()\n",
    "scaler_X = scaler_X.fit(X_train.values)\n",
    "X_val_scaled = scaler_X.transform(X_val.values)\n",
    "X_train_scaled = scaler_X.transform(X_train.values)\n",
    "\n",
    "numFeatures = len(X_train.columns.to_list())\n",
    "feature_labels = X_train.columns.to_list()\n",
    "#print(numFeatures)\n",
    "\n",
    "y_train_erg = y_train.copy(deep=True) * (1.60218e-12)\n",
    "y_val_erg = y_val.copy(deep=True) * (1.60218e-12)\n",
    "\n",
    "y_train[y_train == 0] = 0.0001\n",
    "y_val[y_val == 0] = 0.0001\n",
    "y_train_log = np.log10(y_train.copy(deep=True))\n",
    "y_val_log = np.log10(y_val.copy(deep=True))"
   ]
  },
  {
   "cell_type": "code",
   "execution_count": null,
   "metadata": {
    "scrolled": true
   },
   "outputs": [],
   "source": [
    "model = Sequential()\n",
    "\n",
    "model.add(Dense(int(256), activation='relu'))\n",
    "model.add(Dense(64, activation='relu'))\n",
    "model.add(Dense(4, activation='relu'))\n",
    "model.add(Dense(1))\n",
    "\n",
    "\n",
    "#compile model using accuracy to measure model performance\n",
    "model.compile(loss='mse', optimizer='adam',  metrics=['mse'])\n",
    "\n",
    "model.fit(X_train_scaled, np.array(y_train_log), validation_data=(X_val_scaled, np.array(y_val_log)),batch_size=8192, epochs=1000)\n",
    "results = model.predict(X_val_scaled)#, y_val_log.values)#, batch_size=128)"
   ]
  },
  {
   "cell_type": "code",
   "execution_count": null,
   "metadata": {
    "scrolled": true
   },
   "outputs": [],
   "source": [
    "plt.figure(figsize=(12,12))\n",
    "plt.plot(y_val_log.values[:500])\n",
    "plt.plot(results[:500])\n",
    "plt.show()"
   ]
  },
  {
   "cell_type": "code",
   "execution_count": null,
   "metadata": {
    "scrolled": true
   },
   "outputs": [],
   "source": [
    "model = Sequential()\n",
    "\n",
    "model.add(Dense(int(256), activation='relu'))\n",
    "model.add(Dense(64, activation='relu'))\n",
    "model.add(Dense(4, activation='relu'))\n",
    "model.add(Dense(1))\n",
    "\n",
    "\n",
    "#compile model using accuracy to measure model performance\n",
    "model.compile(loss='mse', optimizer='adam',  metrics=['mse'])\n",
    "model.fit(X_train_scaled, np.array(y_train_log), validation_data=(X_val_scaled, np.array(y_val_log)),batch_size=8192, epochs=100)\n"
   ]
  },
  {
   "cell_type": "code",
   "execution_count": null,
   "metadata": {},
   "outputs": [],
   "source": [
    "results = model.predict(X_val_scaled)#, y_val_log.values)#, batch_size=128)\n",
    "plt.figure(figsize=(12,12))\n",
    "plt.plot(y_val_log.values[:500])\n",
    "plt.plot(results[:500])\n",
    "plt.show()"
   ]
  },
  {
   "cell_type": "code",
   "execution_count": null,
   "metadata": {},
   "outputs": [],
   "source": [
    "from tensorflow.keras.layers import Dropout\n",
    "import joblib"
   ]
  },
  {
   "cell_type": "code",
   "execution_count": null,
   "metadata": {
    "scrolled": true
   },
   "outputs": [],
   "source": [
    "model = Sequential()\n",
    "\n",
    "model.add(Dense(int(256), activation='relu'))\n",
    "model.add(Dropout(.5))\n",
    "model.add(Dense(64, activation='relu'))\n",
    "model.add(Dense(4, activation='relu'))\n",
    "model.add(Dense(1))\n",
    "\n",
    "\n",
    "#compile model using accuracy to measure model performance\n",
    "model.compile(loss='mse', optimizer='adam',  metrics=['mse'])\n",
    "\n",
    "for i in range(0,20):\n",
    "    model.fit(X_train_scaled, np.array(y_train_log), validation_data=(X_val_scaled, np.array(y_val_log)),batch_size=8192, epochs=100)\n"
   ]
  },
  {
   "cell_type": "code",
   "execution_count": null,
   "metadata": {},
   "outputs": [],
   "source": [
    "filename = \"$PWD/best_with_ovation_input\"\n",
    "#joblib.dump(model, filename) doesn't work\n",
    "\n",
    "model.save(filename)\n",
    "\n",
    "results = model.predict(X_val_scaled)#, y_val_log.values)#, batch_size=128)\n",
    "\n",
    "plt.figure(figsize=(12,12))\n",
    "plt.plot(y_val_log.values[:500])\n",
    "plt.plot(results[:500])\n",
    "plt.show()"
   ]
  },
  {
   "cell_type": "code",
   "execution_count": null,
   "metadata": {
    "scrolled": true
   },
   "outputs": [],
   "source": [
    "model = Sequential()\n",
    "\n",
    "model.add(Dense(int(256), activation='relu'))\n",
    "model.add(Dropout(.25))\n",
    "model.add(Dense(64, activation='relu'))\n",
    "model.add(Dropout(.25))\n",
    "model.add(Dense(4, activation='relu'))\n",
    "model.add(Dense(1))\n",
    "\n",
    "\n",
    "#compile model using accuracy to measure model performance\n",
    "model.compile(loss='mse', optimizer='adam',  metrics=['mse'])\n",
    "\n",
    "for i in range(0,20):\n",
    "    model.fit(X_train_scaled, np.array(y_train_log), validation_data=(X_val_scaled, np.array(y_val_log)),batch_size=8192, epochs=100)\n"
   ]
  },
  {
   "cell_type": "code",
   "execution_count": null,
   "metadata": {
    "scrolled": true
   },
   "outputs": [],
   "source": [
    "model = Sequential()\n",
    "\n",
    "model.add(Dropout(.2))\n",
    "model.add(Dense(int(256), activation='relu'))\n",
    "model.add(Dense(64, activation='relu'))\n",
    "model.add(Dense(4, activation='relu'))\n",
    "model.add(Dense(1))\n",
    "\n",
    "\n",
    "#compile model using accuracy to measure model performance\n",
    "model.compile(loss='mse', optimizer='adam',  metrics=['mse'])\n",
    "\n",
    "for i in range(0,20):\n",
    "    model.fit(X_train_scaled, np.array(y_train_log), validation_data=(X_val_scaled, np.array(y_val_log)),batch_size=8192, epochs=100)\n"
   ]
  },
  {
   "cell_type": "code",
   "execution_count": null,
   "metadata": {
    "scrolled": true
   },
   "outputs": [],
   "source": [
    "model = Sequential()\n",
    "\n",
    "model.add(Dropout(.1))\n",
    "model.add(Dense(int(256), activation='relu'))\n",
    "model.add(Dropout(.1))\n",
    "model.add(Dense(64, activation='relu'))\n",
    "model.add(Dropout(.1))\n",
    "model.add(Dense(4, activation='relu'))\n",
    "model.add(Dense(1))\n",
    "\n",
    "\n",
    "#compile model using accuracy to measure model performance\n",
    "model.compile(loss='mse', optimizer='adam',  metrics=['mse'])\n",
    "\n",
    "for i in range(0,20):\n",
    "    model.fit(X_train_scaled, np.array(y_train_log), validation_data=(X_val_scaled, np.array(y_val_log)),batch_size=8192, epochs=100)\n"
   ]
  },
  {
   "cell_type": "code",
   "execution_count": null,
   "metadata": {},
   "outputs": [],
   "source": [
    "model = Sequential()\n",
    "\n",
    "model.add(Dropout(.1))\n",
    "model.add(Dense(int(256), activation='relu'))\n",
    "model.add(Dropout(.1))\n",
    "model.add(Dense(64, activation='relu'))\n",
    "model.add(Dense(16, activation='relu'))\n",
    "model.add(Dense(4, activation='relu'))\n",
    "model.add(Dense(1))\n",
    "\n",
    "\n",
    "#compile model using accuracy to measure model performance\n",
    "model.compile(loss='mse', optimizer='adam',  metrics=['mse'])\n",
    "\n",
    "for i in range(0,20):\n",
    "    model.fit(X_train_scaled, np.array(y_train_log), validation_data=(X_val_scaled, np.array(y_val_log)),batch_size=8192, epochs=100)\n"
   ]
  },
  {
   "cell_type": "code",
   "execution_count": null,
   "metadata": {},
   "outputs": [],
   "source": [
    "model = Sequential()\n",
    "\n",
    "model.add(Dropout(.1))\n",
    "model.add(Dense(int(256), activation='relu'))\n",
    "model.add(Dense(64, activation='relu'))\n",
    "model.add(Dense(4, activation='relu'))\n",
    "model.add(Dense(1))\n",
    "\n",
    "\n",
    "#compile model using accuracy to measure model performance\n",
    "model.compile(loss='mse', optimizer='adam',  metrics=['mse'])\n",
    "\n",
    "for i in range(0,20):\n",
    "    model.fit(X_train_scaled, np.array(y_train_log), validation_data=(X_val_scaled, np.array(y_val_log)),batch_size=8192, epochs=100)\n"
   ]
  },
  {
   "cell_type": "code",
   "execution_count": null,
   "metadata": {},
   "outputs": [],
   "source": [
    "df_val['ovation_flux_1'] = np.log10(ovation_fluxes_val[0,:] * (1.60218e-12) )\n",
    "df_train['ovation_flux_1'] = np.log10(ovation_fluxes_train[0,:]* (1.60218e-12))\n",
    "df_val['ovation_flux_2'] = np.log10(ovation_fluxes_val[1,:]* (1.60218e-12))\n",
    "df_train['ovation_flux_2'] = np.log10(ovation_fluxes_train[1,:]* (1.60218e-12))\n",
    "df_val['ovation_flux_3'] = np.log10(ovation_fluxes_val[2,:]* (1.60218e-12))\n",
    "df_train['ovation_flux_3'] = np.log10(ovation_fluxes_train[2,:]* (1.60218e-12))\n",
    "\n",
    "\n",
    "# Construct X and y\n",
    "feature_cols = [c for c in df_cumulative.columns if not 'ELE' in c]\n",
    "#print( (feature_cols))\n",
    "#print(df_cumulative.columns)\n",
    "\n",
    "X_val = df_val[feature_cols].copy(deep=True)\n",
    "y_val = df_val['ELE_TOTAL_ENERGY_FLUX'].copy(deep=True)\n",
    "X_train = df_train[feature_cols].copy(deep=True)\n",
    "y_train = df_train['ELE_TOTAL_ENERGY_FLUX'].copy(deep=True)\n",
    "scaler_X = preprocessing.RobustScaler()\n",
    "scaler_X = scaler_X.fit(X_train.values)\n",
    "X_val_scaled = scaler_X.transform(X_val.values)\n",
    "X_train_scaled = scaler_X.transform(X_train.values)\n",
    "\n",
    "numFeatures = len(X_train.columns.to_list())\n",
    "feature_labels = X_train.columns.to_list()\n",
    "#print(numFeatures)\n",
    "\n",
    "y_train_erg = y_train.copy(deep=True) * (1.60218e-12)\n",
    "y_val_erg = y_val.copy(deep=True) * (1.60218e-12)\n",
    "\n",
    "y_train[y_train == 0] = 0.0001\n",
    "y_val[y_val == 0] = 0.0001\n",
    "y_train_log = np.log10(y_train.copy(deep=True))\n",
    "y_val_log = np.log10(y_val.copy(deep=True))\n",
    "\n"
   ]
  },
  {
   "cell_type": "code",
   "execution_count": null,
   "metadata": {
    "scrolled": true
   },
   "outputs": [],
   "source": [
    "model = Sequential()\n",
    "\n",
    "model.add(Dense(int(256), activation='relu'))\n",
    "model.add(Dropout(.5))\n",
    "model.add(Dense(64, activation='relu'))\n",
    "model.add(Dense(4, activation='relu'))\n",
    "model.add(Dense(1))\n",
    "\n",
    "\n",
    "#compile model using accuracy to measure model performance\n",
    "model.compile(loss='mse', optimizer='adam',  metrics=['mse'])\n",
    "\n",
    "for i in range(0,40):\n",
    "    model.fit(X_train_scaled, np.array(y_train_log), validation_data=(X_val_scaled, np.array(y_val_log)),batch_size=8192, epochs=100)\n",
    "\n",
    "    "
   ]
  },
  {
   "cell_type": "code",
   "execution_count": null,
   "metadata": {},
   "outputs": [],
   "source": [
    "import joblib as joblib\n",
    "\n",
    "filename = \"$PWD/best_with_ovation_input_2000epochs\"\n",
    "#joblib.dump(model, filename) doesn't work\n",
    "\n",
    "model.save(filename)\n",
    "\n",
    "results = model.predict(X_val_scaled)#, y_val_log.values)#, batch_size=128)\n",
    "\n",
    "plt.figure(figsize=(12,12))\n",
    "plt.plot(y_val_log.values[:500])\n",
    "plt.plot(results[:500])\n",
    "plt.show()"
   ]
  },
  {
   "cell_type": "code",
   "execution_count": null,
   "metadata": {},
   "outputs": [],
   "source": []
  }
 ],
 "metadata": {
  "kernelspec": {
   "display_name": "Python 3",
   "language": "python",
   "name": "python3"
  },
  "language_info": {
   "codemirror_mode": {
    "name": "ipython",
    "version": 3
   },
   "file_extension": ".py",
   "mimetype": "text/x-python",
   "name": "python",
   "nbconvert_exporter": "python",
   "pygments_lexer": "ipython3",
   "version": "3.6.9"
  }
 },
 "nbformat": 4,
 "nbformat_minor": 2
}
